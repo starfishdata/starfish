{
 "cells": [
  {
   "cell_type": "code",
   "execution_count": 1,
   "metadata": {},
   "outputs": [
    {
     "ename": "FileNotFoundError",
     "evalue": "[Errno 2] No such file or directory: '/private/var/folders/jk/yy1bgzs93mq3zk1frtffh9k00000gn/T/ipykernel_58116/2523340386.py'",
     "output_type": "error",
     "traceback": [
      "\u001b[31m---------------------------------------------------------------------------\u001b[39m",
      "\u001b[31mFileNotFoundError\u001b[39m                         Traceback (most recent call last)",
      "\u001b[36mCell\u001b[39m\u001b[36m \u001b[39m\u001b[32mIn[1]\u001b[39m\u001b[32m, line 19\u001b[39m\n\u001b[32m     16\u001b[39m     success: \u001b[38;5;28mbool\u001b[39m\n\u001b[32m     17\u001b[39m     message: \u001b[38;5;28mstr\u001b[39m\n\u001b[32m---> \u001b[39m\u001b[32m19\u001b[39m \u001b[38;5;129;43m@data_template_generate\u001b[39;49m\u001b[43m.\u001b[49m\u001b[43mregister\u001b[49m\u001b[43m(\u001b[49m\n\u001b[32m     20\u001b[39m \u001b[43m    \u001b[49m\u001b[43mname\u001b[49m\u001b[43m=\u001b[49m\u001b[33;43m'\u001b[39;49m\u001b[33;43mcommunity/topic_generator\u001b[39;49m\u001b[33;43m'\u001b[39;49m\u001b[43m,\u001b[49m\n\u001b[32m     21\u001b[39m \u001b[43m    \u001b[49m\u001b[43minput_schema\u001b[49m\u001b[43m=\u001b[49m\u001b[43mTopicGeneratorInput\u001b[49m\u001b[43m,\u001b[49m\n\u001b[32m     22\u001b[39m \u001b[43m    \u001b[49m\u001b[43moutput_schema\u001b[49m\u001b[43m=\u001b[49m\u001b[43mTopicGeneratorOutput\u001b[49m\u001b[43m,\u001b[49m\n\u001b[32m     23\u001b[39m \u001b[43m    \u001b[49m\u001b[43mdescription\u001b[49m\u001b[43m=\u001b[49m\u001b[33;43m'\u001b[39;49m\u001b[33;43mGenerates relevant topics for community discussions using AI models\u001b[39;49m\u001b[33;43m'\u001b[39;49m\u001b[43m,\u001b[49m\n\u001b[32m     24\u001b[39m \u001b[43m    \u001b[49m\u001b[43mauthor\u001b[49m\u001b[43m=\u001b[49m\u001b[33;43m'\u001b[39;49m\u001b[33;43mYour Name\u001b[39;49m\u001b[33;43m'\u001b[39;49m\u001b[43m,\u001b[49m\n\u001b[32m     25\u001b[39m \u001b[43m    \u001b[49m\u001b[43mstarfish_version\u001b[49m\u001b[43m=\u001b[49m\u001b[33;43m'\u001b[39;49m\u001b[33;43m0.1.0\u001b[39;49m\u001b[33;43m'\u001b[39;49m\u001b[43m,\u001b[49m\n\u001b[32m     26\u001b[39m \u001b[43m    \u001b[49m\u001b[43mdependencies\u001b[49m\u001b[43m=\u001b[49m\u001b[43m[\u001b[49m\u001b[33;43m'\u001b[39;49m\u001b[33;43mtransformers>=4.0.0\u001b[39;49m\u001b[33;43m'\u001b[39;49m\u001b[43m]\u001b[49m\n\u001b[32m     27\u001b[39m \u001b[43m)\u001b[49m\n\u001b[32m     28\u001b[39m \u001b[38;5;129;43m@data_factory\u001b[39;49m\u001b[43m(\u001b[49m\u001b[43mmax_concurrency\u001b[49m\u001b[43m=\u001b[49m\u001b[32;43m10\u001b[39;49m\u001b[43m)\u001b[49m\n\u001b[32m     29\u001b[39m \u001b[38;5;28;43;01mdef\u001b[39;49;00m\u001b[38;5;250;43m \u001b[39;49m\u001b[34;43mtopic_generator\u001b[39;49m\u001b[43m(\u001b[49m\u001b[43minput_data\u001b[49m\u001b[43m:\u001b[49m\u001b[43m \u001b[49m\u001b[43mTopicGeneratorInput\u001b[49m\u001b[43m)\u001b[49m\u001b[43m \u001b[49m\u001b[43m-\u001b[49m\u001b[43m>\u001b[49m\u001b[43m \u001b[49m\u001b[43mTopicGeneratorOutput\u001b[49m\u001b[43m:\u001b[49m\n\u001b[32m     30\u001b[39m \u001b[43m    \u001b[49m\u001b[38;5;28;43;01mtry\u001b[39;49;00m\u001b[43m:\u001b[49m\n\u001b[32m     31\u001b[39m \u001b[43m        \u001b[49m\u001b[38;5;66;43;03m# Step 1: Generate initial topics\u001b[39;49;00m\n\u001b[32m     32\u001b[39m \u001b[43m        \u001b[49m\u001b[43mgenerated_topics\u001b[49m\u001b[43m \u001b[49m\u001b[43m=\u001b[49m\u001b[43m \u001b[49m\u001b[43mgenerate_initial_topics\u001b[49m\u001b[43m(\u001b[49m\u001b[43minput_data\u001b[49m\u001b[43m)\u001b[49m\n",
      "\u001b[36mFile \u001b[39m\u001b[32m~/Documents/projects/aa/python/starfish/starfish/src/starfish/data_template/data_template_gen.py:57\u001b[39m, in \u001b[36mregister.<locals>.decorator\u001b[39m\u001b[34m(func)\u001b[39m\n\u001b[32m     56\u001b[39m \u001b[38;5;28;01mdef\u001b[39;00m\u001b[38;5;250m \u001b[39m\u001b[34mdecorator\u001b[39m(func: \u001b[38;5;28mcallable\u001b[39m):\n\u001b[32m---> \u001b[39m\u001b[32m57\u001b[39m     \u001b[38;5;28;01mreturn\u001b[39;00m \u001b[43mdata_template_generate\u001b[49m\u001b[43m(\u001b[49m\n\u001b[32m     58\u001b[39m \u001b[43m        \u001b[49m\u001b[43mname\u001b[49m\u001b[43m,\u001b[49m\n\u001b[32m     59\u001b[39m \u001b[43m        \u001b[49m\u001b[43mfunc\u001b[49m\u001b[43m,\u001b[49m\n\u001b[32m     60\u001b[39m \u001b[43m        \u001b[49m\u001b[43minput_schema\u001b[49m\u001b[43m,\u001b[49m\n\u001b[32m     61\u001b[39m \u001b[43m        \u001b[49m\u001b[43moutput_schema\u001b[49m\u001b[43m,\u001b[49m\n\u001b[32m     62\u001b[39m \u001b[43m        \u001b[49m\u001b[43mdescription\u001b[49m\u001b[43m,\u001b[49m\n\u001b[32m     63\u001b[39m \u001b[43m        \u001b[49m\u001b[43mauthor\u001b[49m\u001b[43m,\u001b[49m\n\u001b[32m     64\u001b[39m \u001b[43m        \u001b[49m\u001b[43mstarfish_version\u001b[49m\u001b[43m,\u001b[49m\n\u001b[32m     65\u001b[39m \u001b[43m        \u001b[49m\u001b[43mdependencies\u001b[49m\n\u001b[32m     66\u001b[39m \u001b[43m    \u001b[49m\u001b[43m)\u001b[49m\n",
      "\u001b[36mFile \u001b[39m\u001b[32m~/Documents/projects/aa/python/starfish/starfish/src/starfish/data_template/data_template_gen.py:22\u001b[39m, in \u001b[36mdata_template_generate\u001b[39m\u001b[34m(template_name, func, input_schema, output_schema, description, author, starfish_version, dependencies)\u001b[39m\n\u001b[32m     20\u001b[39m \u001b[38;5;66;03m# Save the filtered module to a separate Python file\u001b[39;00m\n\u001b[32m     21\u001b[39m function_file = templates_dir / \u001b[33mf\u001b[39m\u001b[33m'\u001b[39m\u001b[38;5;132;01m{\u001b[39;00mtemplate_name.replace(\u001b[33m\"\u001b[39m\u001b[33m/\u001b[39m\u001b[33m\"\u001b[39m,\u001b[38;5;250m \u001b[39m\u001b[33m\"\u001b[39m\u001b[33m_\u001b[39m\u001b[33m\"\u001b[39m)\u001b[38;5;132;01m}\u001b[39;00m\u001b[33m.py\u001b[39m\u001b[33m'\u001b[39m\n\u001b[32m---> \u001b[39m\u001b[32m22\u001b[39m \u001b[38;5;28;01mwith\u001b[39;00m \u001b[38;5;28;43mopen\u001b[39;49m\u001b[43m(\u001b[49m\u001b[43mcurrent_file_path\u001b[49m\u001b[43m,\u001b[49m\u001b[43m \u001b[49m\u001b[33;43m'\u001b[39;49m\u001b[33;43mr\u001b[39;49m\u001b[33;43m'\u001b[39;49m\u001b[43m)\u001b[49m \u001b[38;5;28;01mas\u001b[39;00m src_file, \u001b[38;5;28mopen\u001b[39m(function_file, \u001b[33m'\u001b[39m\u001b[33mw\u001b[39m\u001b[33m'\u001b[39m) \u001b[38;5;28;01mas\u001b[39;00m dest_file:\n\u001b[32m     23\u001b[39m     dest_file.write(\u001b[33mf\u001b[39m\u001b[33m\"\u001b[39m\u001b[33m# Auto-generated module from template: \u001b[39m\u001b[38;5;132;01m{\u001b[39;00mtemplate_name\u001b[38;5;132;01m}\u001b[39;00m\u001b[38;5;130;01m\\n\u001b[39;00m\u001b[33m\"\u001b[39m)\n\u001b[32m     24\u001b[39m     skip = \u001b[38;5;28;01mFalse\u001b[39;00m\n",
      "\u001b[31mFileNotFoundError\u001b[39m: [Errno 2] No such file or directory: '/private/var/folders/jk/yy1bgzs93mq3zk1frtffh9k00000gn/T/ipykernel_58116/2523340386.py'"
     ]
    }
   ],
   "source": [
    "from pydantic import BaseModel\n",
    "from starfish import data_factory\n",
    "from starfish.data_template.data_template_gen import data_template_generate\n",
    "\n",
    "\n",
    "# Define input schema\n",
    "class TopicGeneratorInput(BaseModel):\n",
    "    community_name: str\n",
    "    seed_topics: list[str]\n",
    "    num_topics: int\n",
    "    language: str = \"en\"\n",
    "\n",
    "# Define output schema\n",
    "class TopicGeneratorOutput(BaseModel):\n",
    "    generated_topics: list[str]\n",
    "    success: bool\n",
    "    message: str\n",
    "\n",
    "@data_template_generate.register(\n",
    "    name='community/topic_generator',\n",
    "    input_schema=TopicGeneratorInput,\n",
    "    output_schema=TopicGeneratorOutput,\n",
    "    description='Generates relevant topics for community discussions using AI models',\n",
    "    author='Your Name',\n",
    "    starfish_version='0.1.0',\n",
    "    dependencies=['transformers>=4.0.0']\n",
    ")\n",
    "@data_factory(max_concurrency=10)\n",
    "def topic_generator(input_data: TopicGeneratorInput) -> TopicGeneratorOutput:\n",
    "    try:\n",
    "        # Step 1: Generate initial topics\n",
    "        generated_topics = generate_initial_topics(input_data)\n",
    "        \n",
    "        # Step 2: Process topics in parallel\n",
    "        @data_factory(max_concurrency=10)\n",
    "        def process_topics(topics: list[str]) -> list[str]:\n",
    "            return [refine_topic(topic) for topic in topics]\n",
    "        \n",
    "        refined_topics = process_topics(generated_topics)\n",
    "        \n",
    "        return TopicGeneratorOutput(\n",
    "            generated_topics=refined_topics,\n",
    "            success=True,\n",
    "            message=\"Topics generated successfully\"\n",
    "        )\n",
    "    except Exception as e:\n",
    "        return TopicGeneratorOutput(\n",
    "            generated_topics=[],\n",
    "            success=False,\n",
    "            message=str(e)\n",
    "        )\n",
    "\n",
    "# Helper functions\n",
    "def generate_initial_topics(input_data: TopicGeneratorInput) -> list[str]:\n",
    "    # Implement your topic generation logic here\n",
    "    # This could use AI models or other algorithms\n",
    "    # ... existing code ...\n",
    "    return [\"Topic 1\", \"Topic 2\", \"Topic 3\"]  # Placeholder\n",
    "\n",
    "def refine_topic(topic: str) -> str:\n",
    "    # Implement topic refinement logic here\n",
    "    # ... existing code ...\n",
    "    return topic.upper()  # Placeholder\n",
    "\n",
    "# input_data = TopicGeneratorInput(\n",
    "#     community_name=\"AI Enthusiasts\",\n",
    "#     seed_topics=[\"Machine Learning\", \"Deep Learning\"],\n",
    "#     num_topics=5\n",
    "# )\n",
    "\n",
    "# result = topic_generator(input_data)\n",
    "# print(result)\n"
   ]
  },
  {
   "cell_type": "code",
   "execution_count": 2,
   "metadata": {},
   "outputs": [
    {
     "name": "stdout",
     "output_type": "stream",
     "text": [
      "ZMQInteractiveShell\n"
     ]
    }
   ],
   "source": [
    "print(shell)"
   ]
  }
 ],
 "metadata": {
  "kernelspec": {
   "display_name": ".venv",
   "language": "python",
   "name": "python3"
  },
  "language_info": {
   "codemirror_mode": {
    "name": "ipython",
    "version": 3
   },
   "file_extension": ".py",
   "mimetype": "text/x-python",
   "name": "python",
   "nbconvert_exporter": "python",
   "pygments_lexer": "ipython3",
   "version": "3.12.7"
  }
 },
 "nbformat": 4,
 "nbformat_minor": 2
}
