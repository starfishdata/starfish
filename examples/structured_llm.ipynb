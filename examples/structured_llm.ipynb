{
 "cells": [
  {
   "cell_type": "code",
   "execution_count": 10,
   "metadata": {},
   "outputs": [],
   "source": [
    "import nest_asyncio\n",
    "\n",
    "nest_asyncio.apply()"
   ]
  },
  {
   "cell_type": "code",
   "execution_count": 11,
   "metadata": {},
   "outputs": [
    {
     "name": "stdout",
     "output_type": "stream",
     "text": [
      "\u001b[32m2025-04-02 08:55:36\u001b[0m | \u001b[1mINFO    \u001b[0m | \u001b[36mstarfish.common.env_loader\u001b[0m | \u001b[34menv_loader.py:54\u001b[0m | \u001b[1mLoaded 9 environment variables from /Users/zhengisamazing/1.python_dir/starfish/.env\u001b[0m\n"
     ]
    },
    {
     "data": {
      "text/plain": [
       "True"
      ]
     },
     "execution_count": 11,
     "metadata": {},
     "output_type": "execute_result"
    }
   ],
   "source": [
    "from starfish.common.env_loader import load_env_file\n",
    "from starfish.core.structured_llm import get_structured_llm\n",
    "\n",
    "load_env_file()"
   ]
  },
  {
   "cell_type": "code",
   "execution_count": 3,
   "metadata": {},
   "outputs": [
    {
     "data": {
      "text/plain": [
       "[{'question': 'What is the population of New York City?',\n",
       "  'answer': 'As of 2023, New York City has an estimated population of over 8.4 million residents.'}]"
      ]
     },
     "execution_count": 3,
     "metadata": {},
     "output_type": "execute_result"
    }
   ],
   "source": [
    "first_llm = get_structured_llm(\n",
    "    model_name=\"openai/gpt-4o-mini\",\n",
    "    prompt=\"Facts about city {{city_name}}.\",\n",
    "    output_schema=[{\"name\": \"question\", \"type\": \"str\"}, {\"name\": \"answer\", \"type\": \"str\"}],\n",
    "    model_kwargs={\"temperature\": 0.7},\n",
    ")\n",
    "\n",
    "first_response = await first_llm.run(city_name=\"New York\")\n",
    "first_response.data"
   ]
  },
  {
   "cell_type": "code",
   "execution_count": 5,
   "metadata": {},
   "outputs": [
    {
     "name": "stdout",
     "output_type": "stream",
     "text": [
      "\u001b[32m2025-04-02 00:29:20\u001b[0m | \u001b[1mINFO    \u001b[0m | \u001b[36mstarfish.adapters.litellm_adapter\u001b[0m | \u001b[34mlitellm_adapter.py:90\u001b[0m | \u001b[1mEnsuring Ollama model gemma3:1b is ready...\u001b[0m\n",
      "\u001b[32m2025-04-02 00:29:20\u001b[0m | \u001b[1mINFO    \u001b[0m | \u001b[36mstarfish.adapters.ollama_adapter\u001b[0m | \u001b[34mollama_adapter.py:50\u001b[0m | \u001b[1mOllama server is already running\u001b[0m\n",
      "\u001b[32m2025-04-02 00:29:20\u001b[0m | \u001b[1mINFO    \u001b[0m | \u001b[36mstarfish.adapters.ollama_adapter\u001b[0m | \u001b[34mollama_adapter.py:132\u001b[0m | \u001b[1mFound model gemma3:1b\u001b[0m\n",
      "\u001b[32m2025-04-02 00:29:20\u001b[0m | \u001b[1mINFO    \u001b[0m | \u001b[36mstarfish.adapters.ollama_adapter\u001b[0m | \u001b[34mollama_adapter.py:238\u001b[0m | \u001b[1mModel gemma3:1b is already available\u001b[0m\n",
      "\u001b[32m2025-04-02 00:29:20\u001b[0m | \u001b[1mINFO    \u001b[0m | \u001b[36mstarfish.adapters.litellm_adapter\u001b[0m | \u001b[34mlitellm_adapter.py:99\u001b[0m | \u001b[1mModel gemma3:1b is ready, making API call...\u001b[0m\n"
     ]
    },
    {
     "data": {
      "text/plain": [
       "[{'question': 'What are some notable facts about New York City?',\n",
       "  'answer': \"Here are some notable facts about New York City:\\n\\n*   **Largest City in the US:** New York City is the most populous city in the United States.\\n*   **Cultural Hub:** It's a global center for arts, culture, and entertainment, hosting world-class museums, theaters, and music venues.\\n*   **Financial Center:** It's a major financial hub, home to Wall Street and many major financial institutions.\\n*   **Diverse Population:** New York City is incredibly diverse, with a significant population of immigrants from all over the world.\\n*   **Iconic Landmarks:** It boasts famous landmarks like the Statue of Liberty, Times Square, Central Park, and the Empire State Building.\\n*   **Major Industries:**  It’s a leader in industries like media, fashion, finance, technology, and healthcare.\\n*   **Historical Significance:**  It has a long and complex history, having been a major center of trade, immigration, and revolution.\\n*   **Food Scene:**  New York City has an incredibly diverse and vibrant food scene, offering everything from classic New York pizza to international cuisine.\\n*   **Transportation:**  It has a robust public transportation system, including the subway, which makes it easy to get around.\\n\\nWould you like to know more about a specific aspect of New York City, like its history, attractions, or something else?\"}]"
      ]
     },
     "execution_count": 5,
     "metadata": {},
     "output_type": "execute_result"
    }
   ],
   "source": [
    "### Local model\n",
    "first_llm = get_structured_llm(\n",
    "    model_name=\"ollama/gemma3:1b\",\n",
    "    prompt=\"Facts about city {{city_name}}.\",\n",
    "    output_schema=[{\"name\": \"question\", \"type\": \"str\"}, {\"name\": \"answer\", \"type\": \"str\"}],\n",
    "    model_kwargs={\"temperature\": 0.7},\n",
    ")\n",
    "\n",
    "first_response = await first_llm.run(city_name=\"New York\")\n",
    "first_response.data"
   ]
  },
  {
   "cell_type": "code",
   "execution_count": 7,
   "metadata": {},
   "outputs": [
    {
     "name": "stdout",
     "output_type": "stream",
     "text": [
      "\u001b[32m2025-04-02 00:29:51\u001b[0m | \u001b[1mINFO    \u001b[0m | \u001b[36mstarfish.adapters.ollama_adapter\u001b[0m | \u001b[34mollama_adapter.py:259\u001b[0m | \u001b[1mStopping Ollama server...\u001b[0m\n",
      "\u001b[32m2025-04-02 00:29:52\u001b[0m | \u001b[1mINFO    \u001b[0m | \u001b[36mstarfish.adapters.ollama_adapter\u001b[0m | \u001b[34mollama_adapter.py:309\u001b[0m | \u001b[1mOllama server stopped successfully\u001b[0m\n"
     ]
    },
    {
     "data": {
      "text/plain": [
       "True"
      ]
     },
     "execution_count": 7,
     "metadata": {},
     "output_type": "execute_result"
    }
   ],
   "source": [
    "from starfish.adapters.ollama_adapter import stop_ollama_server\n",
    "\n",
    "await stop_ollama_server()"
   ]
  },
  {
   "cell_type": "code",
   "execution_count": null,
   "metadata": {},
   "outputs": [],
   "source": []
  }
 ],
 "metadata": {
  "kernelspec": {
   "display_name": "starfish-T7IInzTH-py3.11",
   "language": "python",
   "name": "python3"
  },
  "language_info": {
   "codemirror_mode": {
    "name": "ipython",
    "version": 3
   },
   "file_extension": ".py",
   "mimetype": "text/x-python",
   "name": "python",
   "nbconvert_exporter": "python",
   "pygments_lexer": "ipython3",
   "version": "3.11.7"
  }
 },
 "nbformat": 4,
 "nbformat_minor": 2
}
