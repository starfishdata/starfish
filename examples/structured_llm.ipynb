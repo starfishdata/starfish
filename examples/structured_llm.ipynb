{
 "cells": [
  {
   "cell_type": "code",
   "execution_count": 1,
   "metadata": {},
   "outputs": [],
   "source": [
    "import nest_asyncio\n",
    "\n",
    "nest_asyncio.apply()"
   ]
  },
  {
   "cell_type": "code",
   "execution_count": 2,
   "metadata": {},
   "outputs": [
    {
     "name": "stdout",
     "output_type": "stream",
     "text": [
      "\u001b[32m2025-04-04 00:10:15\u001b[0m | \u001b[1mINFO    \u001b[0m | \u001b[36mstarfish.common.env_loader\u001b[0m | \u001b[34menv_loader.py:54\u001b[0m | \u001b[1mLoaded 9 environment variables from /Users/zhengisamazing/1.python_dir/starfish/.env\u001b[0m\n"
     ]
    },
    {
     "data": {
      "text/plain": [
       "True"
      ]
     },
     "execution_count": 2,
     "metadata": {},
     "output_type": "execute_result"
    }
   ],
   "source": [
    "from starfish.core.structured_llm import StructuredLLM\n",
    "from starfish.common.env_loader import load_env_file\n",
    "\n",
    "load_env_file()"
   ]
  },
  {
   "cell_type": "code",
   "execution_count": null,
   "metadata": {},
   "outputs": [],
   "source": [
    "\n"
   ]
  },
  {
   "cell_type": "code",
   "execution_count": 3,
   "metadata": {},
   "outputs": [
    {
     "data": {
      "text/plain": [
       "[{'question': 'What is the population of New York City?',\n",
       "  'answer': 'As of 2023, New York City has an estimated population of over 8.6 million people.'},\n",
       " {'question': 'What is New York City commonly referred to as?',\n",
       "  'answer': \"New York City is often referred to as 'The Big Apple.'\"},\n",
       " {'question': 'What is the significance of Times Square in New York City?',\n",
       "  'answer': \"Times Square is a major commercial and entertainment hub known for its bright lights, theaters, and the annual New Year's Eve ball drop.\"},\n",
       " {'question': 'Which famous landmark is located in New York City?',\n",
       "  'answer': 'The Statue of Liberty is one of the most famous landmarks located on Liberty Island in New York Harbor.'},\n",
       " {'question': 'What are the five boroughs of New York City?',\n",
       "  'answer': 'The five boroughs of New York City are Manhattan, Brooklyn, Queens, The Bronx, and Staten Island.'}]"
      ]
     },
     "execution_count": 3,
     "metadata": {},
     "output_type": "execute_result"
    }
   ],
   "source": [
    "first_llm = StructuredLLM(\n",
    "    model_name=\"openai/gpt-4o-mini\",\n",
    "    prompt=\"Facts about city {{city_name}}.\",\n",
    "    output_schema=[{\"name\": \"question\", \"type\": \"str\"}, {\"name\": \"answer\", \"type\": \"str\"}],\n",
    "    model_kwargs={\"temperature\": 0.7},\n",
    ")\n",
    "\n",
    "first_response = await first_llm.run(city_name=\"New York\")\n",
    "first_response.data"
   ]
  },
  {
   "cell_type": "code",
   "execution_count": 6,
   "metadata": {},
   "outputs": [
    {
     "name": "stdout",
     "output_type": "stream",
     "text": [
      "\n",
      "================================================================================\n",
      "📝 CONSTRUCTED MESSAGES:\n",
      "================================================================================\n",
      "\n",
      "Role: user\n",
      "Content:\n",
      "Facts about city New York.\n",
      "\n",
      "You are asked to generate exactly 5 records and please return the data in the following JSON format: \n",
      "[\n",
      "    {\n",
      "    \"question\": \"\"  //  (required),\n",
      "    \"answer\": \"\"  //  (required)\n",
      "    }\n",
      "    ...\n",
      "]\n",
      "\n",
      "Required fields: question, answer\n",
      "\n",
      "================================================================================\n",
      "End of prompt\n",
      "================================================================================\n",
      "\n"
     ]
    }
   ],
   "source": [
    "print(first_llm.render_prompt_printable(city_name=\"New York\", num_records=5))"
   ]
  },
  {
   "cell_type": "code",
   "execution_count": 8,
   "metadata": {},
   "outputs": [
    {
     "name": "stdout",
     "output_type": "stream",
     "text": [
      "\u001b[32m2025-04-03 17:46:50\u001b[0m | \u001b[1mINFO    \u001b[0m | \u001b[36mstarfish.adapters.litellm_adapter\u001b[0m | \u001b[34mlitellm_adapter.py:90\u001b[0m | \u001b[1mEnsuring Ollama model gemma3:1b is ready...\u001b[0m\n",
      "\u001b[32m2025-04-03 17:46:50\u001b[0m | \u001b[1mINFO    \u001b[0m | \u001b[36mstarfish.adapters.ollama_adapter\u001b[0m | \u001b[34mollama_adapter.py:50\u001b[0m | \u001b[1mOllama server is already running\u001b[0m\n",
      "\u001b[32m2025-04-03 17:46:50\u001b[0m | \u001b[1mINFO    \u001b[0m | \u001b[36mstarfish.adapters.ollama_adapter\u001b[0m | \u001b[34mollama_adapter.py:132\u001b[0m | \u001b[1mFound model gemma3:1b\u001b[0m\n",
      "\u001b[32m2025-04-03 17:46:50\u001b[0m | \u001b[1mINFO    \u001b[0m | \u001b[36mstarfish.adapters.ollama_adapter\u001b[0m | \u001b[34mollama_adapter.py:243\u001b[0m | \u001b[1mModel gemma3:1b is already available\u001b[0m\n",
      "\u001b[32m2025-04-03 17:46:50\u001b[0m | \u001b[1mINFO    \u001b[0m | \u001b[36mstarfish.adapters.litellm_adapter\u001b[0m | \u001b[34mlitellm_adapter.py:99\u001b[0m | \u001b[1mModel gemma3:1b is ready, making API call...\u001b[0m\n"
     ]
    },
    {
     "data": {
      "text/plain": [
       "[{'question': 'What is the official population of New York City?',\n",
       "  'answer': 'As of 2023, the estimated population of New York City is approximately 8.8 million people.'},\n",
       " {'question': 'Which borough is New York City located in?',\n",
       "  'answer': 'New York City is divided into five boroughs: Manhattan, Brooklyn, Queens, The Bronx, and Staten Island.'},\n",
       " {'question': 'What is the name of the iconic landmark located in Central Park?',\n",
       "  'answer': 'The iconic landmark in Central Park is the Bethesda Fountain.'},\n",
       " {'question': 'What is the highest point in New York City?',\n",
       "  'answer': 'The highest point in New York City is the Top of the Rock Observation Deck at Rockefeller Center.'},\n",
       " {'question': \"What is the name of New York City's famous Broadway theater?\",\n",
       "  'answer': 'Broadway is the name of New York City’s famous Broadway theater.'}]"
      ]
     },
     "execution_count": 8,
     "metadata": {},
     "output_type": "execute_result"
    }
   ],
   "source": [
    "### Local model\n",
    "first_llm = StructuredLLM(\n",
    "    model_name=\"ollama/gemma3:1b\",\n",
    "    prompt=\"Facts about city {{city_name}}.\",\n",
    "    output_schema=[{\"name\": \"question\", \"type\": \"str\"}, {\"name\": \"answer\", \"type\": \"str\"}],\n",
    "    model_kwargs={\"temperature\": 0.7},\n",
    ")\n",
    "\n",
    "first_response = await first_llm.run(city_name=\"New York\", num_records=5)\n",
    "first_response.data"
   ]
  },
  {
   "cell_type": "code",
   "execution_count": 9,
   "metadata": {},
   "outputs": [
    {
     "name": "stdout",
     "output_type": "stream",
     "text": [
      "\u001b[32m2025-04-03 17:47:04\u001b[0m | \u001b[1mINFO    \u001b[0m | \u001b[36mstarfish.adapters.ollama_adapter\u001b[0m | \u001b[34mollama_adapter.py:264\u001b[0m | \u001b[1mStopping Ollama server...\u001b[0m\n",
      "\u001b[32m2025-04-03 17:47:05\u001b[0m | \u001b[1mINFO    \u001b[0m | \u001b[36mstarfish.adapters.ollama_adapter\u001b[0m | \u001b[34mollama_adapter.py:314\u001b[0m | \u001b[1mOllama server stopped successfully\u001b[0m\n"
     ]
    },
    {
     "data": {
      "text/plain": [
       "True"
      ]
     },
     "execution_count": 9,
     "metadata": {},
     "output_type": "execute_result"
    }
   ],
   "source": [
    "from starfish.adapters.ollama_adapter import stop_ollama_server\n",
    "\n",
    "await stop_ollama_server()"
   ]
  },
  {
   "cell_type": "code",
   "execution_count": 5,
   "metadata": {},
   "outputs": [
    {
     "data": {
      "text/plain": [
       "[{'question': 'What is the nickname of New York City?',\n",
       "  'answer': 'The Big Apple'},\n",
       " {'question': 'Which famous park is located in Manhattan?',\n",
       "  'answer': 'Central Park'},\n",
       " {'question': 'What is the tallest building in New York City?',\n",
       "  'answer': 'One World Trade Center'},\n",
       " {'question': 'Which subway system is the largest in the world by number of stations?',\n",
       "  'answer': 'New York City Subway'},\n",
       " {'question': 'What iconic statue is located in New York Harbor?',\n",
       "  'answer': 'Statue of Liberty'}]"
      ]
     },
     "execution_count": 5,
     "metadata": {},
     "output_type": "execute_result"
    }
   ],
   "source": [
    "### Local model\n",
    "first_llm = StructuredLLM(\n",
    "    model_name=\"hyperbolic/deepseek-ai/DeepSeek-V3-0324\",\n",
    "    prompt=\"Facts about city {{city_name}}.\",\n",
    "    output_schema=[{'name': 'question', 'type': 'str'}, \n",
    "                   {'name': 'answer', 'type': 'str'}],\n",
    "    model_kwargs={\"temperature\": 0.7}\n",
    ")\n",
    "\n",
    "first_response = await first_llm.run(city_name=\"New York\", num_records=5)\n",
    "first_response.data"
   ]
  },
  {
   "cell_type": "code",
   "execution_count": null,
   "metadata": {},
   "outputs": [],
   "source": []
  }
 ],
 "metadata": {
  "kernelspec": {
   "display_name": "starfish-T7IInzTH-py3.11",
   "language": "python",
   "name": "python3"
  },
  "language_info": {
   "codemirror_mode": {
    "name": "ipython",
    "version": 3
   },
   "file_extension": ".py",
   "mimetype": "text/x-python",
   "name": "python",
   "nbconvert_exporter": "python",
   "pygments_lexer": "ipython3",
   "version": "3.11.7"
  }
 },
 "nbformat": 4,
 "nbformat_minor": 2
}
