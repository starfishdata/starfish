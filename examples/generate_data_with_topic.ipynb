{
 "cells": [
  {
   "cell_type": "code",
   "execution_count": 1,
   "metadata": {},
   "outputs": [],
   "source": [
    "import nest_asyncio\n",
    "nest_asyncio.apply()"
   ]
  },
  {
   "cell_type": "code",
   "execution_count": 5,
   "metadata": {},
   "outputs": [],
   "source": [
    "from starfish.core.structured_llm import StructuredLLM\n",
    "from starfish.utils.data_factory import data_factory"
   ]
  },
  {
   "cell_type": "code",
   "execution_count": 3,
   "metadata": {},
   "outputs": [
    {
     "data": {
      "text/plain": [
       "[{'question': \"What significant event in San Francisco's history took place in 1906?\",\n",
       "  'answer': 'The Great San Francisco Earthquake occurred on April 18, 1906, causing widespread destruction and leading to a massive fire that devastated much of the city.'}]"
      ]
     },
     "execution_count": 3,
     "metadata": {},
     "output_type": "execute_result"
    }
   ],
   "source": [
    "facts_generator = StructuredLLM(\n",
    "                                model_name=\"openai/gpt-4o-mini\",\n",
    "                                prompt=\"\"\"Generate facts about {{city_name}} on {{topic}}\"\"\" , \n",
    "                                output_schema=[{'name': 'question', 'type': 'str'}, {'name': 'answer', 'type': 'str'}],\n",
    "                                model_kwargs={\"temperature\": 0.7}\n",
    "                            )\n",
    "response = await facts_generator.run(city_name=\"San Francisco\", topic=\"history\")\n",
    "response.data "
   ]
  },
  {
   "cell_type": "code",
   "execution_count": 1,
   "metadata": {},
   "outputs": [],
   "source": [
    "user_instructions = \"\"\"generate facts about san francisco\"\"\"\n",
    "num_records = 100\n",
    "topics = {'history': 10, 'culture': 10, 'food': 10}\n",
    "\n",
    "data_market.run(name = 'generator_with_topic', \n",
    "                   user_instructions = \"\"\"generate facts about san francisco\"\"\",\n",
    "                   num_records = 100,\n",
    "                   topics = {'history': 10, 'culture': 10, 'food': 10})"
   ]
  },
  {
   "cell_type": "code",
   "execution_count": 3,
   "metadata": {},
   "outputs": [],
   "source": [
    "\n",
    "from starfish.core.prebuilt import prepare_topic\n",
    "topic_list = await prepare_topic(num_records=num_records, user_instructions=user_instructions, records_per_topic=10) #  topics = topics,\n"
   ]
  },
  {
   "cell_type": "code",
   "execution_count": 7,
   "metadata": {},
   "outputs": [
    {
     "data": {
      "text/plain": [
       "100"
      ]
     },
     "execution_count": 7,
     "metadata": {},
     "output_type": "execute_result"
    }
   ],
   "source": [
    "len(topic_list)"
   ]
  },
  {
   "cell_type": "code",
   "execution_count": 6,
   "metadata": {},
   "outputs": [],
   "source": [
    "\n",
    "@data_factory(max_concurrency=200)\n",
    "async def generate_facts(user_instructions: str, topic: str):\n",
    "    facts_generator = StructuredLLM(\n",
    "                                model_name=\"openai/gpt-4o-mini\",\n",
    "                                prompt=\"\"\"{{user_instructions}} on {{topic}}\"\"\" , \n",
    "                                output_schema=[{'name': 'question', 'type': 'str'}, {'name': 'answer', 'type': 'str'}],\n",
    "                                model_kwargs={\"temperature\": 0.7}\n",
    "                            )\n",
    "    response = await facts_generator.run(user_instructions=user_instructions, topic=topic)\n",
    "    return response.data \n",
    "\n",
    "facts_data = generate_facts.run(data = topic_list, user_instructions=user_instructions)"
   ]
  },
  {
   "cell_type": "code",
   "execution_count": 10,
   "metadata": {},
   "outputs": [
    {
     "data": {
      "text/plain": [
       "100"
      ]
     },
     "execution_count": 10,
     "metadata": {},
     "output_type": "execute_result"
    }
   ],
   "source": [
    "\n",
    "len(facts_data)"
   ]
  },
  {
   "cell_type": "code",
   "execution_count": null,
   "metadata": {},
   "outputs": [],
   "source": []
  }
 ],
 "metadata": {
  "kernelspec": {
   "display_name": "starfish-T7IInzTH-py3.11",
   "language": "python",
   "name": "python3"
  },
  "language_info": {
   "codemirror_mode": {
    "name": "ipython",
    "version": 3
   },
   "file_extension": ".py",
   "mimetype": "text/x-python",
   "name": "python",
   "nbconvert_exporter": "python",
   "pygments_lexer": "ipython3",
   "version": "3.11.7"
  }
 },
 "nbformat": 4,
 "nbformat_minor": 2
}
