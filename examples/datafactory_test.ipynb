{
 "cells": [
  {
   "cell_type": "markdown",
   "metadata": {},
   "source": [
    "### Dependencies "
   ]
  },
  {
   "cell_type": "code",
   "execution_count": 2,
   "metadata": {},
   "outputs": [],
   "source": [
    "import nest_asyncio\n",
    "nest_asyncio.apply()"
   ]
  },
  {
   "cell_type": "code",
   "execution_count": 5,
   "metadata": {},
   "outputs": [
    {
     "name": "stdout",
     "output_type": "stream",
     "text": [
      "\u001b[32m2025-04-07 22:04:50\u001b[0m | \u001b[1mINFO    \u001b[0m | \u001b[36mstarfish.common.env_loader\u001b[0m | \u001b[34menv_loader.py:52\u001b[0m | \u001b[1mLoaded 9 environment variables from /Users/zhengisamazing/1.python_dir/starfish/.env\u001b[0m\n"
     ]
    },
    {
     "data": {
      "text/plain": [
       "True"
      ]
     },
     "execution_count": 5,
     "metadata": {},
     "output_type": "execute_result"
    }
   ],
   "source": [
    "from starfish.core.structured_llm import StructuredLLM\n",
    "from starfish.common.env_loader import load_env_file\n",
    "from starfish.common.utils import merge_structured_outputs\n",
    "from starfish.utils.data_factory import data_factory\n",
    "\n",
    "load_env_file()"
   ]
  },
  {
   "cell_type": "code",
   "execution_count": 53,
   "metadata": {},
   "outputs": [],
   "source": [
    "### Mock LLM call\n",
    "import random\n",
    "import asyncio\n",
    "\n",
    "async def mock_llm_call(city_name, num_records_per_city, fail_rate=0.05, sleep_time=0.01):\n",
    "    # Simulate a slight delay (optional, feels more async-realistic)\n",
    "    await asyncio.sleep(sleep_time)\n",
    "\n",
    "    # 5% chance of failure\n",
    "    if random.random() < fail_rate:\n",
    "        print(f\"  {city_name}: Failed!\") ## For debugging\n",
    "        raise ValueError(f\"Mock LLM failed to process city: {city_name}\")\n",
    "    \n",
    "    print(f\"{city_name}: Successfully processed!\") ## For debugging\n",
    "\n",
    "    result = [f\"{city_name}_{random.randint(1, 5)}\" for _ in range(num_records_per_city)]\n",
    "    return result"
   ]
  },
  {
   "cell_type": "markdown",
   "metadata": {},
   "source": [
    "Test Case 1:  ✅\n",
    "\n",
    "Settings:\n",
    "- ✅ `Input Data`:  data + broadcast variable`\n",
    "- ✅ `Decorator`: controlled concurrency\n",
    "- ✅ `Retry Logic`: Try if failed "
   ]
  },
  {
   "cell_type": "code",
   "execution_count": 62,
   "metadata": {},
   "outputs": [
    {
     "name": "stdout",
     "output_type": "stream",
     "text": [
      "1. New York: Successfully processed!\n",
      "  2. Los Angeles: Failed!\n",
      "  3. Chicago: Failed!\n",
      "  4. Houston: Failed!\n",
      "  5. Miami: Failed!\n",
      "2. Los Angeles: Successfully processed!\n",
      "3. Chicago: Successfully processed!\n",
      "  4. Houston: Failed!\n",
      "5. Miami: Successfully processed!\n",
      "  4. Houston: Failed!\n",
      "  4. Houston: Failed!\n",
      "  4. Houston: Failed!\n",
      "4. Houston: Successfully processed!\n"
     ]
    }
   ],
   "source": [
    "\n",
    "@data_factory(max_concurrency=2)\n",
    "async def test1(city_name, num_records_per_city, fail_rate = 0.5, sleep_time = 1):\n",
    "    return await mock_llm_call(city_name, num_records_per_city, fail_rate = fail_rate, sleep_time = sleep_time)\n",
    "\n",
    "test1.run(data = [\n",
    "    {'city_name': '1. New York'},\n",
    "    {'city_name': '2. Los Angeles'},\n",
    "    {'city_name': '3. Chicago'},\n",
    "    {'city_name': '4. Houston'},\n",
    "    {'city_name': '5. Miami'}\n",
    "], num_records_per_city=5)"
   ]
  },
  {
   "cell_type": "markdown",
   "metadata": {},
   "source": [
    "Test Case 2: ❌\n",
    "\n",
    "Expected behavior: Data should be optional - use can just pass kwargs variables \n",
    "\n",
    "Settings:\n",
    "- ❌ `Input Data`:  kwargs list + broadcast variable`\n",
    "\n"
   ]
  },
  {
   "cell_type": "code",
   "execution_count": 56,
   "metadata": {},
   "outputs": [
    {
     "ename": "TypeError",
     "evalue": "default_input_converter() missing 1 required positional argument: 'data'",
     "output_type": "error",
     "traceback": [
      "\u001b[31m---------------------------------------------------------------------------\u001b[39m",
      "\u001b[31mTypeError\u001b[39m                                 Traceback (most recent call last)",
      "\u001b[36mCell\u001b[39m\u001b[36m \u001b[39m\u001b[32mIn[56]\u001b[39m\u001b[32m, line 5\u001b[39m\n\u001b[32m      1\u001b[39m \u001b[38;5;129m@data_factory\u001b[39m(max_concurrency=\u001b[32m2\u001b[39m)\n\u001b[32m      2\u001b[39m \u001b[38;5;28;01masync\u001b[39;00m \u001b[38;5;28;01mdef\u001b[39;00m\u001b[38;5;250m \u001b[39m\u001b[34mtest1\u001b[39m(city_name, num_records_per_city, fail_rate = \u001b[32m0.5\u001b[39m, sleep_time = \u001b[32m1\u001b[39m):\n\u001b[32m      3\u001b[39m     \u001b[38;5;28;01mreturn\u001b[39;00m \u001b[38;5;28;01mawait\u001b[39;00m mock_llm_call(city_name, num_records_per_city, fail_rate = fail_rate, sleep_time = sleep_time)\n\u001b[32m----> \u001b[39m\u001b[32m5\u001b[39m \u001b[43mtest1\u001b[49m\u001b[43m.\u001b[49m\u001b[43mrun\u001b[49m\u001b[43m(\u001b[49m\u001b[43mcity\u001b[49m\u001b[43m \u001b[49m\u001b[43m=\u001b[49m\u001b[43m \u001b[49m\u001b[43m[\u001b[49m\u001b[33;43m\"\u001b[39;49m\u001b[33;43m1. New York\u001b[39;49m\u001b[33;43m\"\u001b[39;49m\u001b[43m,\u001b[49m\u001b[43m \u001b[49m\u001b[33;43m\"\u001b[39;49m\u001b[33;43m2. Los Angeles\u001b[39;49m\u001b[33;43m\"\u001b[39;49m\u001b[43m,\u001b[49m\u001b[43m \u001b[49m\u001b[33;43m\"\u001b[39;49m\u001b[33;43m3. Chicago\u001b[39;49m\u001b[33;43m\"\u001b[39;49m\u001b[43m,\u001b[49m\u001b[43m \u001b[49m\u001b[33;43m\"\u001b[39;49m\u001b[33;43m4. Houston\u001b[39;49m\u001b[33;43m\"\u001b[39;49m\u001b[43m,\u001b[49m\u001b[43m \u001b[49m\u001b[33;43m\"\u001b[39;49m\u001b[33;43m5. Miami\u001b[39;49m\u001b[33;43m\"\u001b[39;49m\u001b[43m]\u001b[49m\u001b[43m,\u001b[49m\u001b[43m \u001b[49m\u001b[43mnum_records_per_city\u001b[49m\u001b[43m=\u001b[49m\u001b[32;43m5\u001b[39;49m\u001b[43m)\u001b[49m\n",
      "\u001b[36mFile \u001b[39m\u001b[32m~/1.python_dir/starfish/starfish/utils/data_factory.py:65\u001b[39m, in \u001b[36mDataFactory.__call__.<locals>.run\u001b[39m\u001b[34m(*args, **kwargs)\u001b[39m\n\u001b[32m     64\u001b[39m \u001b[38;5;28;01mdef\u001b[39;00m\u001b[38;5;250m \u001b[39m\u001b[34mrun\u001b[39m(*args, **kwargs):\n\u001b[32m---> \u001b[39m\u001b[32m65\u001b[39m     \u001b[38;5;28;01mreturn\u001b[39;00m \u001b[43mwrapper\u001b[49m\u001b[43m(\u001b[49m\u001b[43m*\u001b[49m\u001b[43margs\u001b[49m\u001b[43m,\u001b[49m\u001b[43m \u001b[49m\u001b[43m*\u001b[49m\u001b[43m*\u001b[49m\u001b[43mkwargs\u001b[49m\u001b[43m)\u001b[49m\n",
      "\u001b[36mFile \u001b[39m\u001b[32m~/1.python_dir/starfish/starfish/utils/data_factory.py:45\u001b[39m, in \u001b[36mDataFactory.__call__.<locals>.wrapper\u001b[39m\u001b[34m(*args, **kwargs)\u001b[39m\n\u001b[32m     39\u001b[39m \u001b[38;5;129m@wraps\u001b[39m(func)\n\u001b[32m     40\u001b[39m \u001b[38;5;28;01mdef\u001b[39;00m\u001b[38;5;250m \u001b[39m\u001b[34mwrapper\u001b[39m(*args, **kwargs):\n\u001b[32m     41\u001b[39m     \u001b[38;5;66;03m# self._execute_callbacks('on_start')\u001b[39;00m\n\u001b[32m     42\u001b[39m \n\u001b[32m     43\u001b[39m     \u001b[38;5;66;03m# Get batchable parameters from type hints\u001b[39;00m\n\u001b[32m     44\u001b[39m     \u001b[38;5;66;03m# batchable_params = self._get_batchable_params(func)\u001b[39;00m\n\u001b[32m---> \u001b[39m\u001b[32m45\u001b[39m     batches = \u001b[38;5;28;43mself\u001b[39;49m\u001b[43m.\u001b[49m\u001b[43minput_converter\u001b[49m\u001b[43m(\u001b[49m\u001b[43m*\u001b[49m\u001b[43margs\u001b[49m\u001b[43m,\u001b[49m\u001b[43m \u001b[49m\u001b[43m*\u001b[49m\u001b[43m*\u001b[49m\u001b[43mkwargs\u001b[49m\u001b[43m)\u001b[49m\n\u001b[32m     46\u001b[39m     \u001b[38;5;66;03m# batches = Queue()\u001b[39;00m\n\u001b[32m     47\u001b[39m     \u001b[38;5;66;03m# for data in converted_data:\u001b[39;00m\n\u001b[32m     48\u001b[39m     \u001b[38;5;66;03m#     batches.put(data)\u001b[39;00m\n\u001b[32m   (...)\u001b[39m\u001b[32m     52\u001b[39m \n\u001b[32m     53\u001b[39m     \u001b[38;5;66;03m# Process batches in parallel\u001b[39;00m\n\u001b[32m     54\u001b[39m     \u001b[38;5;28mself\u001b[39m._process_batches(func, batches)\n",
      "\u001b[31mTypeError\u001b[39m: default_input_converter() missing 1 required positional argument: 'data'"
     ]
    }
   ],
   "source": [
    "\n",
    "@data_factory(max_concurrency=2)\n",
    "async def test1(city_name, num_records_per_city, fail_rate = 0.5, sleep_time = 1):\n",
    "    return await mock_llm_call(city_name, num_records_per_city, fail_rate = fail_rate, sleep_time = sleep_time)\n",
    "\n",
    "test1.run(city = [\"1. New York\", \"2. Los Angeles\", \"3. Chicago\", \"4. Houston\", \"5. Miami\"], num_records_per_city=5)"
   ]
  },
  {
   "cell_type": "markdown",
   "metadata": {},
   "source": [
    "Test Case 3:  ❌\n",
    "\n",
    "Description: Test if the system handles failures gracefully, ensuring it doesnt run indefinitely when the failure rate is 100%\n",
    "\n",
    "Expected behavior: It should stop after it was not able to process it after cetain times \n",
    "\n",
    "Settings:\n",
    "- ❌ `Handle failures`: Not infinite loop"
   ]
  },
  {
   "cell_type": "code",
   "execution_count": 59,
   "metadata": {},
   "outputs": [
    {
     "name": "stdout",
     "output_type": "stream",
     "text": [
      "  1. New York: Failed!\n",
      "  2. Los Angeles: Failed!\n",
      "  3. Chicago: Failed!\n",
      "  4. Houston: Failed!\n",
      "  5. Miami: Failed!\n",
      "  1. New York: Failed!\n",
      "  2. Los Angeles: Failed!\n",
      "  3. Chicago: Failed!\n",
      "  4. Houston: Failed!\n",
      "  5. Miami: Failed!\n",
      "  1. New York: Failed!\n",
      "  2. Los Angeles: Failed!\n",
      "  3. Chicago: Failed!\n",
      "  4. Houston: Failed!\n",
      "  5. Miami: Failed!\n",
      "  1. New York: Failed!\n",
      "  2. Los Angeles: Failed!\n",
      "  3. Chicago: Failed!\n",
      "  4. Houston: Failed!\n",
      "  5. Miami: Failed!\n",
      "  1. New York: Failed!\n",
      "  2. Los Angeles: Failed!\n",
      "  3. Chicago: Failed!\n",
      "  4. Houston: Failed!\n",
      "  5. Miami: Failed!\n",
      "  1. New York: Failed!\n",
      "  2. Los Angeles: Failed!\n",
      "  3. Chicago: Failed!\n",
      "  4. Houston: Failed!\n",
      "  5. Miami: Failed!\n",
      "  1. New York: Failed!\n",
      "  2. Los Angeles: Failed!\n",
      "  3. Chicago: Failed!\n",
      "  4. Houston: Failed!\n",
      "  5. Miami: Failed!\n",
      "  1. New York: Failed!\n",
      "  2. Los Angeles: Failed!\n",
      "  3. Chicago: Failed!\n",
      "  4. Houston: Failed!\n",
      "  5. Miami: Failed!\n",
      "  1. New York: Failed!\n",
      "  2. Los Angeles: Failed!\n",
      "  3. Chicago: Failed!\n",
      "  4. Houston: Failed!\n",
      "  5. Miami: Failed!\n",
      "  1. New York: Failed!\n",
      "  2. Los Angeles: Failed!\n",
      "  3. Chicago: Failed!\n",
      "  4. Houston: Failed!\n",
      "  5. Miami: Failed!\n",
      "  1. New York: Failed!\n",
      "  2. Los Angeles: Failed!\n",
      "  3. Chicago: Failed!\n",
      "  4. Houston: Failed!\n",
      "  5. Miami: Failed!\n",
      "  1. New York: Failed!\n",
      "  2. Los Angeles: Failed!\n",
      "  3. Chicago: Failed!\n",
      "  4. Houston: Failed!\n",
      "  5. Miami: Failed!\n",
      "  1. New York: Failed!\n",
      "  2. Los Angeles: Failed!\n",
      "  3. Chicago: Failed!\n",
      "  4. Houston: Failed!\n",
      "  5. Miami: Failed!\n",
      "  1. New York: Failed!\n",
      "  2. Los Angeles: Failed!\n",
      "  3. Chicago: Failed!\n",
      "  4. Houston: Failed!\n",
      "  5. Miami: Failed!\n",
      "  1. New York: Failed!\n",
      "  2. Los Angeles: Failed!\n",
      "  3. Chicago: Failed!\n",
      "  4. Houston: Failed!\n",
      "  5. Miami: Failed!\n",
      "  1. New York: Failed!\n",
      "  2. Los Angeles: Failed!\n",
      "  3. Chicago: Failed!\n",
      "  4. Houston: Failed!\n",
      "  5. Miami: Failed!\n",
      "  1. New York: Failed!\n",
      "  2. Los Angeles: Failed!\n",
      "  3. Chicago: Failed!\n",
      "  4. Houston: Failed!\n",
      "  5. Miami: Failed!\n",
      "  1. New York: Failed!\n",
      "  2. Los Angeles: Failed!\n",
      "  3. Chicago: Failed!\n",
      "  4. Houston: Failed!\n",
      "  5. Miami: Failed!\n",
      "  1. New York: Failed!\n",
      "  2. Los Angeles: Failed!\n",
      "  3. Chicago: Failed!\n",
      "  4. Houston: Failed!\n",
      "  5. Miami: Failed!\n",
      "  1. New York: Failed!\n",
      "  2. Los Angeles: Failed!\n",
      "  3. Chicago: Failed!\n",
      "  4. Houston: Failed!\n",
      "  5. Miami: Failed!\n",
      "  1. New York: Failed!\n",
      "  2. Los Angeles: Failed!\n",
      "  3. Chicago: Failed!\n",
      "  4. Houston: Failed!\n",
      "  5. Miami: Failed!\n",
      "  1. New York: Failed!\n",
      "  2. Los Angeles: Failed!\n",
      "  3. Chicago: Failed!\n",
      "  4. Houston: Failed!\n",
      "  5. Miami: Failed!\n",
      "  1. New York: Failed!\n",
      "  2. Los Angeles: Failed!\n",
      "  3. Chicago: Failed!\n",
      "  4. Houston: Failed!\n",
      "  5. Miami: Failed!\n",
      "  1. New York: Failed!\n",
      "  2. Los Angeles: Failed!\n",
      "  3. Chicago: Failed!\n",
      "  4. Houston: Failed!\n",
      "  5. Miami: Failed!\n",
      "  1. New York: Failed!\n",
      "  2. Los Angeles: Failed!\n"
     ]
    },
    {
     "ename": "KeyboardInterrupt",
     "evalue": "",
     "output_type": "error",
     "traceback": [
      "\u001b[31m---------------------------------------------------------------------------\u001b[39m",
      "\u001b[31mKeyboardInterrupt\u001b[39m                         Traceback (most recent call last)",
      "\u001b[36mCell\u001b[39m\u001b[36m \u001b[39m\u001b[32mIn[59]\u001b[39m\u001b[32m, line 5\u001b[39m\n\u001b[32m      1\u001b[39m \u001b[38;5;129m@data_factory\u001b[39m(max_concurrency=\u001b[32m2\u001b[39m)\n\u001b[32m      2\u001b[39m \u001b[38;5;28;01masync\u001b[39;00m \u001b[38;5;28;01mdef\u001b[39;00m\u001b[38;5;250m \u001b[39m\u001b[34mtest1\u001b[39m(city_name, num_records_per_city, fail_rate = \u001b[32m1\u001b[39m, sleep_time = \u001b[32m0.05\u001b[39m):\n\u001b[32m      3\u001b[39m     \u001b[38;5;28;01mreturn\u001b[39;00m \u001b[38;5;28;01mawait\u001b[39;00m mock_llm_call(city_name, num_records_per_city, fail_rate = fail_rate, sleep_time = sleep_time)\n\u001b[32m----> \u001b[39m\u001b[32m5\u001b[39m \u001b[43mtest1\u001b[49m\u001b[43m.\u001b[49m\u001b[43mrun\u001b[49m\u001b[43m(\u001b[49m\u001b[43mdata\u001b[49m\u001b[43m \u001b[49m\u001b[43m=\u001b[49m\u001b[43m \u001b[49m\u001b[43m[\u001b[49m\n\u001b[32m      6\u001b[39m \u001b[43m    \u001b[49m\u001b[43m{\u001b[49m\u001b[33;43m'\u001b[39;49m\u001b[33;43mcity_name\u001b[39;49m\u001b[33;43m'\u001b[39;49m\u001b[43m:\u001b[49m\u001b[43m \u001b[49m\u001b[33;43m'\u001b[39;49m\u001b[33;43m1. New York\u001b[39;49m\u001b[33;43m'\u001b[39;49m\u001b[43m}\u001b[49m\u001b[43m,\u001b[49m\n\u001b[32m      7\u001b[39m \u001b[43m    \u001b[49m\u001b[43m{\u001b[49m\u001b[33;43m'\u001b[39;49m\u001b[33;43mcity_name\u001b[39;49m\u001b[33;43m'\u001b[39;49m\u001b[43m:\u001b[49m\u001b[43m \u001b[49m\u001b[33;43m'\u001b[39;49m\u001b[33;43m2. Los Angeles\u001b[39;49m\u001b[33;43m'\u001b[39;49m\u001b[43m}\u001b[49m\u001b[43m,\u001b[49m\n\u001b[32m      8\u001b[39m \u001b[43m    \u001b[49m\u001b[43m{\u001b[49m\u001b[33;43m'\u001b[39;49m\u001b[33;43mcity_name\u001b[39;49m\u001b[33;43m'\u001b[39;49m\u001b[43m:\u001b[49m\u001b[43m \u001b[49m\u001b[33;43m'\u001b[39;49m\u001b[33;43m3. Chicago\u001b[39;49m\u001b[33;43m'\u001b[39;49m\u001b[43m}\u001b[49m\u001b[43m,\u001b[49m\n\u001b[32m      9\u001b[39m \u001b[43m    \u001b[49m\u001b[43m{\u001b[49m\u001b[33;43m'\u001b[39;49m\u001b[33;43mcity_name\u001b[39;49m\u001b[33;43m'\u001b[39;49m\u001b[43m:\u001b[49m\u001b[43m \u001b[49m\u001b[33;43m'\u001b[39;49m\u001b[33;43m4. Houston\u001b[39;49m\u001b[33;43m'\u001b[39;49m\u001b[43m}\u001b[49m\u001b[43m,\u001b[49m\n\u001b[32m     10\u001b[39m \u001b[43m    \u001b[49m\u001b[43m{\u001b[49m\u001b[33;43m'\u001b[39;49m\u001b[33;43mcity_name\u001b[39;49m\u001b[33;43m'\u001b[39;49m\u001b[43m:\u001b[49m\u001b[43m \u001b[49m\u001b[33;43m'\u001b[39;49m\u001b[33;43m5. Miami\u001b[39;49m\u001b[33;43m'\u001b[39;49m\u001b[43m}\u001b[49m\n\u001b[32m     11\u001b[39m \u001b[43m]\u001b[49m\u001b[43m,\u001b[49m\u001b[43m \u001b[49m\u001b[43mnum_records_per_city\u001b[49m\u001b[43m=\u001b[49m\u001b[32;43m5\u001b[39;49m\u001b[43m)\u001b[49m\n",
      "\u001b[36mFile \u001b[39m\u001b[32m~/1.python_dir/starfish/starfish/utils/data_factory.py:65\u001b[39m, in \u001b[36mDataFactory.__call__.<locals>.run\u001b[39m\u001b[34m(*args, **kwargs)\u001b[39m\n\u001b[32m     64\u001b[39m \u001b[38;5;28;01mdef\u001b[39;00m\u001b[38;5;250m \u001b[39m\u001b[34mrun\u001b[39m(*args, **kwargs):\n\u001b[32m---> \u001b[39m\u001b[32m65\u001b[39m     \u001b[38;5;28;01mreturn\u001b[39;00m \u001b[43mwrapper\u001b[49m\u001b[43m(\u001b[49m\u001b[43m*\u001b[49m\u001b[43margs\u001b[49m\u001b[43m,\u001b[49m\u001b[43m \u001b[49m\u001b[43m*\u001b[49m\u001b[43m*\u001b[49m\u001b[43mkwargs\u001b[49m\u001b[43m)\u001b[49m\n",
      "\u001b[36mFile \u001b[39m\u001b[32m~/1.python_dir/starfish/starfish/utils/data_factory.py:54\u001b[39m, in \u001b[36mDataFactory.__call__.<locals>.wrapper\u001b[39m\u001b[34m(*args, **kwargs)\u001b[39m\n\u001b[32m     45\u001b[39m batches = \u001b[38;5;28mself\u001b[39m.input_converter(*args, **kwargs)\n\u001b[32m     46\u001b[39m \u001b[38;5;66;03m# batches = Queue()\u001b[39;00m\n\u001b[32m     47\u001b[39m \u001b[38;5;66;03m# for data in converted_data:\u001b[39;00m\n\u001b[32m     48\u001b[39m \u001b[38;5;66;03m#     batches.put(data)\u001b[39;00m\n\u001b[32m   (...)\u001b[39m\u001b[32m     52\u001b[39m \n\u001b[32m     53\u001b[39m \u001b[38;5;66;03m# Process batches in parallel\u001b[39;00m\n\u001b[32m---> \u001b[39m\u001b[32m54\u001b[39m \u001b[38;5;28;43mself\u001b[39;49m\u001b[43m.\u001b[49m\u001b[43m_process_batches\u001b[49m\u001b[43m(\u001b[49m\u001b[43mfunc\u001b[49m\u001b[43m,\u001b[49m\u001b[43m \u001b[49m\u001b[43mbatches\u001b[49m\u001b[43m)\u001b[49m\n\u001b[32m     56\u001b[39m \u001b[38;5;28mself\u001b[39m._save_master_job()\n",
      "\u001b[36mFile \u001b[39m\u001b[32m~/1.python_dir/starfish/starfish/utils/data_factory.py:112\u001b[39m, in \u001b[36mDataFactory._process_batches\u001b[39m\u001b[34m(self, func, batches)\u001b[39m\n\u001b[32m    103\u001b[39m target_acount = \u001b[38;5;28mself\u001b[39m.job_config.get(\u001b[33m\"\u001b[39m\u001b[33mtarget_count\u001b[39m\u001b[33m\"\u001b[39m)\n\u001b[32m    104\u001b[39m \u001b[38;5;28mself\u001b[39m.job_manager.update_job_config(\n\u001b[32m    105\u001b[39m     {\n\u001b[32m    106\u001b[39m         \u001b[33m\"\u001b[39m\u001b[33mmaster_job_id\u001b[39m\u001b[33m\"\u001b[39m: \u001b[38;5;28mstr\u001b[39m(uuid.uuid4()),\n\u001b[32m   (...)\u001b[39m\u001b[32m    110\u001b[39m     }\n\u001b[32m    111\u001b[39m )\n\u001b[32m--> \u001b[39m\u001b[32m112\u001b[39m \u001b[38;5;28;43mself\u001b[39;49m\u001b[43m.\u001b[49m\u001b[43mjob_manager\u001b[49m\u001b[43m.\u001b[49m\u001b[43mrun_orchestration\u001b[49m\u001b[43m(\u001b[49m\u001b[43m)\u001b[49m\n",
      "\u001b[36mFile \u001b[39m\u001b[32m~/1.python_dir/starfish/starfish/utils/job_manager.py:32\u001b[39m, in \u001b[36mJobManager.run_orchestration\u001b[39m\u001b[34m(self)\u001b[39m\n\u001b[32m     30\u001b[39m \u001b[38;5;28;01mdef\u001b[39;00m\u001b[38;5;250m \u001b[39m\u001b[34mrun_orchestration\u001b[39m(\u001b[38;5;28mself\u001b[39m) -> List[Any]:\n\u001b[32m     31\u001b[39m \u001b[38;5;250m    \u001b[39m\u001b[33;03m\"\"\"Process batches with asyncio\"\"\"\u001b[39;00m\n\u001b[32m---> \u001b[39m\u001b[32m32\u001b[39m     \u001b[43mrun_in_event_loop\u001b[49m\u001b[43m(\u001b[49m\u001b[38;5;28;43mself\u001b[39;49m\u001b[43m.\u001b[49m\u001b[43m_async_run_orchestration\u001b[49m\u001b[43m(\u001b[49m\u001b[43m)\u001b[49m\u001b[43m)\u001b[49m\n",
      "\u001b[36mFile \u001b[39m\u001b[32m~/1.python_dir/starfish/starfish/utils/event_loop.py:36\u001b[39m, in \u001b[36mrun_in_event_loop\u001b[39m\u001b[34m(coroutine)\u001b[39m\n\u001b[32m     31\u001b[39m     \u001b[38;5;66;03m# If there is an event loop running (the call\u001b[39;00m\n\u001b[32m     32\u001b[39m     \u001b[38;5;66;03m# above doesn't raise an exception), we can\u001b[39;00m\n\u001b[32m     33\u001b[39m     \u001b[38;5;66;03m# use nest_asyncio to patch the event loop.\u001b[39;00m\n\u001b[32m     34\u001b[39m     nest_asyncio.apply()\n\u001b[32m---> \u001b[39m\u001b[32m36\u001b[39m     \u001b[38;5;28;01mreturn\u001b[39;00m \u001b[43masyncio\u001b[49m\u001b[43m.\u001b[49m\u001b[43mrun\u001b[49m\u001b[43m(\u001b[49m\u001b[43mcoroutine\u001b[49m\u001b[43m)\u001b[49m\n\u001b[32m     37\u001b[39m \u001b[38;5;28;01mexcept\u001b[39;00m \u001b[38;5;167;01mRuntimeError\u001b[39;00m:\n\u001b[32m     38\u001b[39m     \u001b[38;5;66;03m# Explicitly pass, since we want to fallback to asyncio.run\u001b[39;00m\n\u001b[32m     39\u001b[39m     \u001b[38;5;28;01mpass\u001b[39;00m\n",
      "\u001b[36mFile \u001b[39m\u001b[32m~/Library/Caches/pypoetry/virtualenvs/starfish-T7IInzTH-py3.11/lib/python3.11/site-packages/nest_asyncio.py:30\u001b[39m, in \u001b[36m_patch_asyncio.<locals>.run\u001b[39m\u001b[34m(main, debug)\u001b[39m\n\u001b[32m     28\u001b[39m task = asyncio.ensure_future(main)\n\u001b[32m     29\u001b[39m \u001b[38;5;28;01mtry\u001b[39;00m:\n\u001b[32m---> \u001b[39m\u001b[32m30\u001b[39m     \u001b[38;5;28;01mreturn\u001b[39;00m \u001b[43mloop\u001b[49m\u001b[43m.\u001b[49m\u001b[43mrun_until_complete\u001b[49m\u001b[43m(\u001b[49m\u001b[43mtask\u001b[49m\u001b[43m)\u001b[49m\n\u001b[32m     31\u001b[39m \u001b[38;5;28;01mfinally\u001b[39;00m:\n\u001b[32m     32\u001b[39m     \u001b[38;5;28;01mif\u001b[39;00m \u001b[38;5;129;01mnot\u001b[39;00m task.done():\n",
      "\u001b[36mFile \u001b[39m\u001b[32m~/Library/Caches/pypoetry/virtualenvs/starfish-T7IInzTH-py3.11/lib/python3.11/site-packages/nest_asyncio.py:92\u001b[39m, in \u001b[36m_patch_loop.<locals>.run_until_complete\u001b[39m\u001b[34m(self, future)\u001b[39m\n\u001b[32m     90\u001b[39m     f._log_destroy_pending = \u001b[38;5;28;01mFalse\u001b[39;00m\n\u001b[32m     91\u001b[39m \u001b[38;5;28;01mwhile\u001b[39;00m \u001b[38;5;129;01mnot\u001b[39;00m f.done():\n\u001b[32m---> \u001b[39m\u001b[32m92\u001b[39m     \u001b[38;5;28;43mself\u001b[39;49m\u001b[43m.\u001b[49m\u001b[43m_run_once\u001b[49m\u001b[43m(\u001b[49m\u001b[43m)\u001b[49m\n\u001b[32m     93\u001b[39m     \u001b[38;5;28;01mif\u001b[39;00m \u001b[38;5;28mself\u001b[39m._stopping:\n\u001b[32m     94\u001b[39m         \u001b[38;5;28;01mbreak\u001b[39;00m\n",
      "\u001b[36mFile \u001b[39m\u001b[32m~/Library/Caches/pypoetry/virtualenvs/starfish-T7IInzTH-py3.11/lib/python3.11/site-packages/nest_asyncio.py:115\u001b[39m, in \u001b[36m_patch_loop.<locals>._run_once\u001b[39m\u001b[34m(self)\u001b[39m\n\u001b[32m    108\u001b[39m     heappop(scheduled)\n\u001b[32m    110\u001b[39m timeout = (\n\u001b[32m    111\u001b[39m     \u001b[32m0\u001b[39m \u001b[38;5;28;01mif\u001b[39;00m ready \u001b[38;5;129;01mor\u001b[39;00m \u001b[38;5;28mself\u001b[39m._stopping\n\u001b[32m    112\u001b[39m     \u001b[38;5;28;01melse\u001b[39;00m \u001b[38;5;28mmin\u001b[39m(\u001b[38;5;28mmax\u001b[39m(\n\u001b[32m    113\u001b[39m         scheduled[\u001b[32m0\u001b[39m]._when - \u001b[38;5;28mself\u001b[39m.time(), \u001b[32m0\u001b[39m), \u001b[32m86400\u001b[39m) \u001b[38;5;28;01mif\u001b[39;00m scheduled\n\u001b[32m    114\u001b[39m     \u001b[38;5;28;01melse\u001b[39;00m \u001b[38;5;28;01mNone\u001b[39;00m)\n\u001b[32m--> \u001b[39m\u001b[32m115\u001b[39m event_list = \u001b[38;5;28;43mself\u001b[39;49m\u001b[43m.\u001b[49m\u001b[43m_selector\u001b[49m\u001b[43m.\u001b[49m\u001b[43mselect\u001b[49m\u001b[43m(\u001b[49m\u001b[43mtimeout\u001b[49m\u001b[43m)\u001b[49m\n\u001b[32m    116\u001b[39m \u001b[38;5;28mself\u001b[39m._process_events(event_list)\n\u001b[32m    118\u001b[39m end_time = \u001b[38;5;28mself\u001b[39m.time() + \u001b[38;5;28mself\u001b[39m._clock_resolution\n",
      "\u001b[36mFile \u001b[39m\u001b[32m~/.pyenv/versions/3.11.7/lib/python3.11/selectors.py:566\u001b[39m, in \u001b[36mKqueueSelector.select\u001b[39m\u001b[34m(self, timeout)\u001b[39m\n\u001b[32m    564\u001b[39m ready = []\n\u001b[32m    565\u001b[39m \u001b[38;5;28;01mtry\u001b[39;00m:\n\u001b[32m--> \u001b[39m\u001b[32m566\u001b[39m     kev_list = \u001b[38;5;28mself\u001b[39m._selector.control(\u001b[38;5;28;01mNone\u001b[39;00m, max_ev, timeout)\n\u001b[32m    567\u001b[39m \u001b[38;5;28;01mexcept\u001b[39;00m \u001b[38;5;167;01mInterruptedError\u001b[39;00m:\n\u001b[32m    568\u001b[39m     \u001b[38;5;28;01mreturn\u001b[39;00m ready\n",
      "\u001b[31mKeyboardInterrupt\u001b[39m: "
     ]
    },
    {
     "name": "stdout",
     "output_type": "stream",
     "text": [
      "  3. Chicago: Failed!\n",
      "  4. Houston: Failed!\n"
     ]
    }
   ],
   "source": [
    "\n",
    "@data_factory(max_concurrency=2)\n",
    "async def test1(city_name, num_records_per_city, fail_rate = 1, sleep_time = 0.05):\n",
    "    return await mock_llm_call(city_name, num_records_per_city, fail_rate = fail_rate, sleep_time = sleep_time)\n",
    "\n",
    "test1.run(data = [\n",
    "    {'city_name': '1. New York'},\n",
    "    {'city_name': '2. Los Angeles'},\n",
    "    {'city_name': '3. Chicago'},\n",
    "    {'city_name': '4. Houston'},\n",
    "    {'city_name': '5. Miami'}\n",
    "], num_records_per_city=5)"
   ]
  },
  {
   "cell_type": "markdown",
   "metadata": {},
   "source": [
    "Test Case 4:  ✅\n",
    "\n",
    "Description: Test kwags keyword overide by broacase variables\n",
    "\n",
    "Settings:\n",
    "- ✅ `Input Data`:  data + broadcast variable override"
   ]
  },
  {
   "cell_type": "code",
   "execution_count": 66,
   "metadata": {},
   "outputs": [
    {
     "name": "stdout",
     "output_type": "stream",
     "text": [
      "override_city_name: Successfully processed!\n",
      "override_city_name: Successfully processed!\n"
     ]
    }
   ],
   "source": [
    "\n",
    "@data_factory(max_concurrency=2)\n",
    "async def test1(city_name, num_records_per_city, fail_rate = 0.1, sleep_time = 0.05):\n",
    "    return await mock_llm_call(city_name, num_records_per_city, fail_rate = fail_rate, sleep_time = sleep_time)\n",
    "\n",
    "test1.run(data = [\n",
    "    {'city_name': '1. New York'},\n",
    "    {'city_name': '2. Los Angeles'},\n",
    "], city_name = 'override_city_name', \n",
    "num_records_per_city = 1)"
   ]
  },
  {
   "cell_type": "markdown",
   "metadata": {},
   "source": [
    "Test Case 5:  ✅\n",
    "\n",
    "Description: Test kwags keyword overide by list variables\n",
    "\n",
    "Settings:\n",
    "- ✅ `Input Data`:  data + broadcast variable override"
   ]
  },
  {
   "cell_type": "code",
   "execution_count": 71,
   "metadata": {},
   "outputs": [
    {
     "name": "stdout",
     "output_type": "stream",
     "text": [
      "1. override_city_name: Successfully processed!\n",
      "2. override_city_name: Successfully processed!\n"
     ]
    }
   ],
   "source": [
    "@data_factory(max_concurrency=2)\n",
    "async def test1(city_name, num_records_per_city, fail_rate = 0.1, sleep_time = 0.05):\n",
    "    return await mock_llm_call(city_name, num_records_per_city, fail_rate = fail_rate, sleep_time = sleep_time)\n",
    "\n",
    "test1.run(data = [\n",
    "    {'city_name': '1. New York'},\n",
    "    {'city_name': '2. Los Angeles'},\n",
    "], city_name = ['1. override_city_name', '2. override_city_name'], \n",
    "num_records_per_city = 1)"
   ]
  },
  {
   "cell_type": "markdown",
   "metadata": {},
   "source": [
    "Test Case 6:  ❌\n",
    "\n",
    "Description: Missing required kwags\n",
    "\n",
    "Expected behavior: it should raise an error about missing required kwags, somehow it is running indefinitely\n",
    "\n",
    "Settings:\n",
    "- ❌ `Missing required num_records_per_city`: \n"
   ]
  },
  {
   "cell_type": "code",
   "execution_count": null,
   "metadata": {},
   "outputs": [
    {
     "ename": "KeyboardInterrupt",
     "evalue": "",
     "output_type": "error",
     "traceback": [
      "\u001b[31m---------------------------------------------------------------------------\u001b[39m",
      "\u001b[31mKeyboardInterrupt\u001b[39m                         Traceback (most recent call last)",
      "\u001b[36mCell\u001b[39m\u001b[36m \u001b[39m\u001b[32mIn[69]\u001b[39m\u001b[32m, line 5\u001b[39m\n\u001b[32m      1\u001b[39m \u001b[38;5;129m@data_factory\u001b[39m(max_concurrency=\u001b[32m2\u001b[39m)\n\u001b[32m      2\u001b[39m \u001b[38;5;28;01masync\u001b[39;00m \u001b[38;5;28;01mdef\u001b[39;00m\u001b[38;5;250m \u001b[39m\u001b[34mtest1\u001b[39m(city_name, num_records_per_city, fail_rate = \u001b[32m0.1\u001b[39m, sleep_time = \u001b[32m0.05\u001b[39m):\n\u001b[32m      3\u001b[39m     \u001b[38;5;28;01mreturn\u001b[39;00m \u001b[38;5;28;01mawait\u001b[39;00m mock_llm_call(city_name, num_records_per_city, fail_rate = fail_rate, sleep_time = sleep_time)\n\u001b[32m----> \u001b[39m\u001b[32m5\u001b[39m \u001b[43mtest1\u001b[49m\u001b[43m.\u001b[49m\u001b[43mrun\u001b[49m\u001b[43m(\u001b[49m\u001b[43mdata\u001b[49m\u001b[43m \u001b[49m\u001b[43m=\u001b[49m\u001b[43m \u001b[49m\u001b[43m[\u001b[49m\n\u001b[32m      6\u001b[39m \u001b[43m    \u001b[49m\u001b[43m{\u001b[49m\u001b[33;43m'\u001b[39;49m\u001b[33;43mcity_name\u001b[39;49m\u001b[33;43m'\u001b[39;49m\u001b[43m:\u001b[49m\u001b[43m \u001b[49m\u001b[33;43m'\u001b[39;49m\u001b[33;43m1. New York\u001b[39;49m\u001b[33;43m'\u001b[39;49m\u001b[43m}\u001b[49m\u001b[43m,\u001b[49m\n\u001b[32m      7\u001b[39m \u001b[43m    \u001b[49m\u001b[43m{\u001b[49m\u001b[33;43m'\u001b[39;49m\u001b[33;43mcity_name\u001b[39;49m\u001b[33;43m'\u001b[39;49m\u001b[43m:\u001b[49m\u001b[43m \u001b[49m\u001b[33;43m'\u001b[39;49m\u001b[33;43m2. Los Angeles\u001b[39;49m\u001b[33;43m'\u001b[39;49m\u001b[43m}\u001b[49m\u001b[43m,\u001b[49m\n\u001b[32m      8\u001b[39m \u001b[43m]\u001b[49m\u001b[43m,\u001b[49m\u001b[43m \u001b[49m\u001b[43mcity_name\u001b[49m\u001b[43m \u001b[49m\u001b[43m=\u001b[49m\u001b[43m \u001b[49m\u001b[33;43m'\u001b[39;49m\u001b[33;43moverride_city_name\u001b[39;49m\u001b[33;43m'\u001b[39;49m\u001b[43m,\u001b[49m\u001b[43m \u001b[49m\n\u001b[32m      9\u001b[39m \u001b[43m)\u001b[49m\n",
      "\u001b[36mFile \u001b[39m\u001b[32m~/1.python_dir/starfish/starfish/utils/data_factory.py:65\u001b[39m, in \u001b[36mDataFactory.__call__.<locals>.run\u001b[39m\u001b[34m(*args, **kwargs)\u001b[39m\n\u001b[32m     64\u001b[39m \u001b[38;5;28;01mdef\u001b[39;00m\u001b[38;5;250m \u001b[39m\u001b[34mrun\u001b[39m(*args, **kwargs):\n\u001b[32m---> \u001b[39m\u001b[32m65\u001b[39m     \u001b[38;5;28;01mreturn\u001b[39;00m \u001b[43mwrapper\u001b[49m\u001b[43m(\u001b[49m\u001b[43m*\u001b[49m\u001b[43margs\u001b[49m\u001b[43m,\u001b[49m\u001b[43m \u001b[49m\u001b[43m*\u001b[49m\u001b[43m*\u001b[49m\u001b[43mkwargs\u001b[49m\u001b[43m)\u001b[49m\n",
      "\u001b[36mFile \u001b[39m\u001b[32m~/1.python_dir/starfish/starfish/utils/data_factory.py:54\u001b[39m, in \u001b[36mDataFactory.__call__.<locals>.wrapper\u001b[39m\u001b[34m(*args, **kwargs)\u001b[39m\n\u001b[32m     45\u001b[39m batches = \u001b[38;5;28mself\u001b[39m.input_converter(*args, **kwargs)\n\u001b[32m     46\u001b[39m \u001b[38;5;66;03m# batches = Queue()\u001b[39;00m\n\u001b[32m     47\u001b[39m \u001b[38;5;66;03m# for data in converted_data:\u001b[39;00m\n\u001b[32m     48\u001b[39m \u001b[38;5;66;03m#     batches.put(data)\u001b[39;00m\n\u001b[32m   (...)\u001b[39m\u001b[32m     52\u001b[39m \n\u001b[32m     53\u001b[39m \u001b[38;5;66;03m# Process batches in parallel\u001b[39;00m\n\u001b[32m---> \u001b[39m\u001b[32m54\u001b[39m \u001b[38;5;28;43mself\u001b[39;49m\u001b[43m.\u001b[49m\u001b[43m_process_batches\u001b[49m\u001b[43m(\u001b[49m\u001b[43mfunc\u001b[49m\u001b[43m,\u001b[49m\u001b[43m \u001b[49m\u001b[43mbatches\u001b[49m\u001b[43m)\u001b[49m\n\u001b[32m     56\u001b[39m \u001b[38;5;28mself\u001b[39m._save_master_job()\n",
      "\u001b[36mFile \u001b[39m\u001b[32m~/1.python_dir/starfish/starfish/utils/data_factory.py:112\u001b[39m, in \u001b[36mDataFactory._process_batches\u001b[39m\u001b[34m(self, func, batches)\u001b[39m\n\u001b[32m    103\u001b[39m target_acount = \u001b[38;5;28mself\u001b[39m.job_config.get(\u001b[33m\"\u001b[39m\u001b[33mtarget_count\u001b[39m\u001b[33m\"\u001b[39m)\n\u001b[32m    104\u001b[39m \u001b[38;5;28mself\u001b[39m.job_manager.update_job_config(\n\u001b[32m    105\u001b[39m     {\n\u001b[32m    106\u001b[39m         \u001b[33m\"\u001b[39m\u001b[33mmaster_job_id\u001b[39m\u001b[33m\"\u001b[39m: \u001b[38;5;28mstr\u001b[39m(uuid.uuid4()),\n\u001b[32m   (...)\u001b[39m\u001b[32m    110\u001b[39m     }\n\u001b[32m    111\u001b[39m )\n\u001b[32m--> \u001b[39m\u001b[32m112\u001b[39m \u001b[38;5;28;43mself\u001b[39;49m\u001b[43m.\u001b[49m\u001b[43mjob_manager\u001b[49m\u001b[43m.\u001b[49m\u001b[43mrun_orchestration\u001b[49m\u001b[43m(\u001b[49m\u001b[43m)\u001b[49m\n",
      "\u001b[36mFile \u001b[39m\u001b[32m~/1.python_dir/starfish/starfish/utils/job_manager.py:32\u001b[39m, in \u001b[36mJobManager.run_orchestration\u001b[39m\u001b[34m(self)\u001b[39m\n\u001b[32m     30\u001b[39m \u001b[38;5;28;01mdef\u001b[39;00m\u001b[38;5;250m \u001b[39m\u001b[34mrun_orchestration\u001b[39m(\u001b[38;5;28mself\u001b[39m) -> List[Any]:\n\u001b[32m     31\u001b[39m \u001b[38;5;250m    \u001b[39m\u001b[33;03m\"\"\"Process batches with asyncio\"\"\"\u001b[39;00m\n\u001b[32m---> \u001b[39m\u001b[32m32\u001b[39m     \u001b[43mrun_in_event_loop\u001b[49m\u001b[43m(\u001b[49m\u001b[38;5;28;43mself\u001b[39;49m\u001b[43m.\u001b[49m\u001b[43m_async_run_orchestration\u001b[49m\u001b[43m(\u001b[49m\u001b[43m)\u001b[49m\u001b[43m)\u001b[49m\n",
      "\u001b[36mFile \u001b[39m\u001b[32m~/1.python_dir/starfish/starfish/utils/event_loop.py:36\u001b[39m, in \u001b[36mrun_in_event_loop\u001b[39m\u001b[34m(coroutine)\u001b[39m\n\u001b[32m     31\u001b[39m     \u001b[38;5;66;03m# If there is an event loop running (the call\u001b[39;00m\n\u001b[32m     32\u001b[39m     \u001b[38;5;66;03m# above doesn't raise an exception), we can\u001b[39;00m\n\u001b[32m     33\u001b[39m     \u001b[38;5;66;03m# use nest_asyncio to patch the event loop.\u001b[39;00m\n\u001b[32m     34\u001b[39m     nest_asyncio.apply()\n\u001b[32m---> \u001b[39m\u001b[32m36\u001b[39m     \u001b[38;5;28;01mreturn\u001b[39;00m \u001b[43masyncio\u001b[49m\u001b[43m.\u001b[49m\u001b[43mrun\u001b[49m\u001b[43m(\u001b[49m\u001b[43mcoroutine\u001b[49m\u001b[43m)\u001b[49m\n\u001b[32m     37\u001b[39m \u001b[38;5;28;01mexcept\u001b[39;00m \u001b[38;5;167;01mRuntimeError\u001b[39;00m:\n\u001b[32m     38\u001b[39m     \u001b[38;5;66;03m# Explicitly pass, since we want to fallback to asyncio.run\u001b[39;00m\n\u001b[32m     39\u001b[39m     \u001b[38;5;28;01mpass\u001b[39;00m\n",
      "\u001b[36mFile \u001b[39m\u001b[32m~/Library/Caches/pypoetry/virtualenvs/starfish-T7IInzTH-py3.11/lib/python3.11/site-packages/nest_asyncio.py:30\u001b[39m, in \u001b[36m_patch_asyncio.<locals>.run\u001b[39m\u001b[34m(main, debug)\u001b[39m\n\u001b[32m     28\u001b[39m task = asyncio.ensure_future(main)\n\u001b[32m     29\u001b[39m \u001b[38;5;28;01mtry\u001b[39;00m:\n\u001b[32m---> \u001b[39m\u001b[32m30\u001b[39m     \u001b[38;5;28;01mreturn\u001b[39;00m \u001b[43mloop\u001b[49m\u001b[43m.\u001b[49m\u001b[43mrun_until_complete\u001b[49m\u001b[43m(\u001b[49m\u001b[43mtask\u001b[49m\u001b[43m)\u001b[49m\n\u001b[32m     31\u001b[39m \u001b[38;5;28;01mfinally\u001b[39;00m:\n\u001b[32m     32\u001b[39m     \u001b[38;5;28;01mif\u001b[39;00m \u001b[38;5;129;01mnot\u001b[39;00m task.done():\n",
      "\u001b[36mFile \u001b[39m\u001b[32m~/Library/Caches/pypoetry/virtualenvs/starfish-T7IInzTH-py3.11/lib/python3.11/site-packages/nest_asyncio.py:92\u001b[39m, in \u001b[36m_patch_loop.<locals>.run_until_complete\u001b[39m\u001b[34m(self, future)\u001b[39m\n\u001b[32m     90\u001b[39m     f._log_destroy_pending = \u001b[38;5;28;01mFalse\u001b[39;00m\n\u001b[32m     91\u001b[39m \u001b[38;5;28;01mwhile\u001b[39;00m \u001b[38;5;129;01mnot\u001b[39;00m f.done():\n\u001b[32m---> \u001b[39m\u001b[32m92\u001b[39m     \u001b[38;5;28;43mself\u001b[39;49m\u001b[43m.\u001b[49m\u001b[43m_run_once\u001b[49m\u001b[43m(\u001b[49m\u001b[43m)\u001b[49m\n\u001b[32m     93\u001b[39m     \u001b[38;5;28;01mif\u001b[39;00m \u001b[38;5;28mself\u001b[39m._stopping:\n\u001b[32m     94\u001b[39m         \u001b[38;5;28;01mbreak\u001b[39;00m\n",
      "\u001b[36mFile \u001b[39m\u001b[32m~/Library/Caches/pypoetry/virtualenvs/starfish-T7IInzTH-py3.11/lib/python3.11/site-packages/nest_asyncio.py:115\u001b[39m, in \u001b[36m_patch_loop.<locals>._run_once\u001b[39m\u001b[34m(self)\u001b[39m\n\u001b[32m    108\u001b[39m     heappop(scheduled)\n\u001b[32m    110\u001b[39m timeout = (\n\u001b[32m    111\u001b[39m     \u001b[32m0\u001b[39m \u001b[38;5;28;01mif\u001b[39;00m ready \u001b[38;5;129;01mor\u001b[39;00m \u001b[38;5;28mself\u001b[39m._stopping\n\u001b[32m    112\u001b[39m     \u001b[38;5;28;01melse\u001b[39;00m \u001b[38;5;28mmin\u001b[39m(\u001b[38;5;28mmax\u001b[39m(\n\u001b[32m    113\u001b[39m         scheduled[\u001b[32m0\u001b[39m]._when - \u001b[38;5;28mself\u001b[39m.time(), \u001b[32m0\u001b[39m), \u001b[32m86400\u001b[39m) \u001b[38;5;28;01mif\u001b[39;00m scheduled\n\u001b[32m    114\u001b[39m     \u001b[38;5;28;01melse\u001b[39;00m \u001b[38;5;28;01mNone\u001b[39;00m)\n\u001b[32m--> \u001b[39m\u001b[32m115\u001b[39m event_list = \u001b[38;5;28;43mself\u001b[39;49m\u001b[43m.\u001b[49m\u001b[43m_selector\u001b[49m\u001b[43m.\u001b[49m\u001b[43mselect\u001b[49m\u001b[43m(\u001b[49m\u001b[43mtimeout\u001b[49m\u001b[43m)\u001b[49m\n\u001b[32m    116\u001b[39m \u001b[38;5;28mself\u001b[39m._process_events(event_list)\n\u001b[32m    118\u001b[39m end_time = \u001b[38;5;28mself\u001b[39m.time() + \u001b[38;5;28mself\u001b[39m._clock_resolution\n",
      "\u001b[36mFile \u001b[39m\u001b[32m~/.pyenv/versions/3.11.7/lib/python3.11/selectors.py:566\u001b[39m, in \u001b[36mKqueueSelector.select\u001b[39m\u001b[34m(self, timeout)\u001b[39m\n\u001b[32m    564\u001b[39m ready = []\n\u001b[32m    565\u001b[39m \u001b[38;5;28;01mtry\u001b[39;00m:\n\u001b[32m--> \u001b[39m\u001b[32m566\u001b[39m     kev_list = \u001b[38;5;28mself\u001b[39m._selector.control(\u001b[38;5;28;01mNone\u001b[39;00m, max_ev, timeout)\n\u001b[32m    567\u001b[39m \u001b[38;5;28;01mexcept\u001b[39;00m \u001b[38;5;167;01mInterruptedError\u001b[39;00m:\n\u001b[32m    568\u001b[39m     \u001b[38;5;28;01mreturn\u001b[39;00m ready\n",
      "\u001b[31mKeyboardInterrupt\u001b[39m: "
     ]
    }
   ],
   "source": [
    "\n",
    "@data_factory(max_concurrency=2)\n",
    "async def test1(city_name, num_records_per_city, fail_rate = 0.1, sleep_time = 0.05):\n",
    "    return await mock_llm_call(city_name, num_records_per_city, fail_rate = fail_rate, sleep_time = sleep_time)\n",
    "\n",
    "test1.run(data = [\n",
    "    {'city_name': '1. New York'},\n",
    "    {'city_name': '2. Los Angeles'},\n",
    "], city_name = 'override_city_name',  \n",
    ")"
   ]
  },
  {
   "cell_type": "markdown",
   "metadata": {},
   "source": [
    "Test Case 7:  ❌\n",
    "\n",
    "Description: Pass extra parameters that are not defined in the workflow\n",
    "\n",
    "Expected behavior: it should raise an error about extra kwargs, somehow it is running indefinitely\n",
    "\n",
    "Settings:\n",
    "- ❌ `Add additional parameters'\n"
   ]
  },
  {
   "cell_type": "code",
   "execution_count": 78,
   "metadata": {},
   "outputs": [
    {
     "ename": "KeyboardInterrupt",
     "evalue": "",
     "output_type": "error",
     "traceback": [
      "\u001b[31m---------------------------------------------------------------------------\u001b[39m",
      "\u001b[31mKeyboardInterrupt\u001b[39m                         Traceback (most recent call last)",
      "\u001b[36mCell\u001b[39m\u001b[36m \u001b[39m\u001b[32mIn[78]\u001b[39m\u001b[32m, line 5\u001b[39m\n\u001b[32m      1\u001b[39m \u001b[38;5;129m@data_factory\u001b[39m(max_concurrency=\u001b[32m2\u001b[39m)\n\u001b[32m      2\u001b[39m \u001b[38;5;28;01masync\u001b[39;00m \u001b[38;5;28;01mdef\u001b[39;00m\u001b[38;5;250m \u001b[39m\u001b[34mtest1\u001b[39m(city_name, num_records_per_city, fail_rate = \u001b[32m0.1\u001b[39m, sleep_time = \u001b[32m0.05\u001b[39m):\n\u001b[32m      3\u001b[39m     \u001b[38;5;28;01mreturn\u001b[39;00m \u001b[38;5;28;01mawait\u001b[39;00m mock_llm_call(city_name, num_records_per_city, fail_rate = fail_rate, sleep_time = sleep_time)\n\u001b[32m----> \u001b[39m\u001b[32m5\u001b[39m \u001b[43mtest1\u001b[49m\u001b[43m.\u001b[49m\u001b[43mrun\u001b[49m\u001b[43m(\u001b[49m\u001b[43mdata\u001b[49m\u001b[43m \u001b[49m\u001b[43m=\u001b[49m\u001b[43m \u001b[49m\u001b[43m[\u001b[49m\n\u001b[32m      6\u001b[39m \u001b[43m    \u001b[49m\u001b[43m{\u001b[49m\u001b[33;43m'\u001b[39;49m\u001b[33;43mcity_name\u001b[39;49m\u001b[33;43m'\u001b[39;49m\u001b[43m:\u001b[49m\u001b[43m \u001b[49m\u001b[33;43m'\u001b[39;49m\u001b[33;43m1. New York\u001b[39;49m\u001b[33;43m'\u001b[39;49m\u001b[43m}\u001b[49m\u001b[43m,\u001b[49m\n\u001b[32m      7\u001b[39m \u001b[43m    \u001b[49m\u001b[43m{\u001b[49m\u001b[33;43m'\u001b[39;49m\u001b[33;43mcity_name\u001b[39;49m\u001b[33;43m'\u001b[39;49m\u001b[43m:\u001b[49m\u001b[43m \u001b[49m\u001b[33;43m'\u001b[39;49m\u001b[33;43m2. Los Angeles\u001b[39;49m\u001b[33;43m'\u001b[39;49m\u001b[43m}\u001b[49m\u001b[43m,\u001b[49m\n\u001b[32m      8\u001b[39m \u001b[43m]\u001b[49m\u001b[43m,\u001b[49m\u001b[43m \u001b[49m\u001b[43mnum_records_per_city\u001b[49m\u001b[43m \u001b[49m\u001b[43m=\u001b[49m\u001b[43m \u001b[49m\u001b[32;43m1\u001b[39;49m\u001b[43m,\u001b[49m\u001b[43m \u001b[49m\u001b[43mrandom_param\u001b[49m\u001b[43m \u001b[49m\u001b[43m=\u001b[49m\u001b[43m \u001b[49m\u001b[33;43m'\u001b[39;49m\u001b[33;43mrandom_param\u001b[39;49m\u001b[33;43m'\u001b[39;49m\u001b[43m)\u001b[49m\n",
      "\u001b[36mFile \u001b[39m\u001b[32m~/1.python_dir/starfish/starfish/utils/data_factory.py:65\u001b[39m, in \u001b[36mDataFactory.__call__.<locals>.run\u001b[39m\u001b[34m(*args, **kwargs)\u001b[39m\n\u001b[32m     64\u001b[39m \u001b[38;5;28;01mdef\u001b[39;00m\u001b[38;5;250m \u001b[39m\u001b[34mrun\u001b[39m(*args, **kwargs):\n\u001b[32m---> \u001b[39m\u001b[32m65\u001b[39m     \u001b[38;5;28;01mreturn\u001b[39;00m \u001b[43mwrapper\u001b[49m\u001b[43m(\u001b[49m\u001b[43m*\u001b[49m\u001b[43margs\u001b[49m\u001b[43m,\u001b[49m\u001b[43m \u001b[49m\u001b[43m*\u001b[49m\u001b[43m*\u001b[49m\u001b[43mkwargs\u001b[49m\u001b[43m)\u001b[49m\n",
      "\u001b[36mFile \u001b[39m\u001b[32m~/1.python_dir/starfish/starfish/utils/data_factory.py:54\u001b[39m, in \u001b[36mDataFactory.__call__.<locals>.wrapper\u001b[39m\u001b[34m(*args, **kwargs)\u001b[39m\n\u001b[32m     45\u001b[39m batches = \u001b[38;5;28mself\u001b[39m.input_converter(*args, **kwargs)\n\u001b[32m     46\u001b[39m \u001b[38;5;66;03m# batches = Queue()\u001b[39;00m\n\u001b[32m     47\u001b[39m \u001b[38;5;66;03m# for data in converted_data:\u001b[39;00m\n\u001b[32m     48\u001b[39m \u001b[38;5;66;03m#     batches.put(data)\u001b[39;00m\n\u001b[32m   (...)\u001b[39m\u001b[32m     52\u001b[39m \n\u001b[32m     53\u001b[39m \u001b[38;5;66;03m# Process batches in parallel\u001b[39;00m\n\u001b[32m---> \u001b[39m\u001b[32m54\u001b[39m \u001b[38;5;28;43mself\u001b[39;49m\u001b[43m.\u001b[49m\u001b[43m_process_batches\u001b[49m\u001b[43m(\u001b[49m\u001b[43mfunc\u001b[49m\u001b[43m,\u001b[49m\u001b[43m \u001b[49m\u001b[43mbatches\u001b[49m\u001b[43m)\u001b[49m\n\u001b[32m     56\u001b[39m \u001b[38;5;28mself\u001b[39m._save_master_job()\n",
      "\u001b[36mFile \u001b[39m\u001b[32m~/1.python_dir/starfish/starfish/utils/data_factory.py:112\u001b[39m, in \u001b[36mDataFactory._process_batches\u001b[39m\u001b[34m(self, func, batches)\u001b[39m\n\u001b[32m    103\u001b[39m target_acount = \u001b[38;5;28mself\u001b[39m.job_config.get(\u001b[33m\"\u001b[39m\u001b[33mtarget_count\u001b[39m\u001b[33m\"\u001b[39m)\n\u001b[32m    104\u001b[39m \u001b[38;5;28mself\u001b[39m.job_manager.update_job_config(\n\u001b[32m    105\u001b[39m     {\n\u001b[32m    106\u001b[39m         \u001b[33m\"\u001b[39m\u001b[33mmaster_job_id\u001b[39m\u001b[33m\"\u001b[39m: \u001b[38;5;28mstr\u001b[39m(uuid.uuid4()),\n\u001b[32m   (...)\u001b[39m\u001b[32m    110\u001b[39m     }\n\u001b[32m    111\u001b[39m )\n\u001b[32m--> \u001b[39m\u001b[32m112\u001b[39m \u001b[38;5;28;43mself\u001b[39;49m\u001b[43m.\u001b[49m\u001b[43mjob_manager\u001b[49m\u001b[43m.\u001b[49m\u001b[43mrun_orchestration\u001b[49m\u001b[43m(\u001b[49m\u001b[43m)\u001b[49m\n",
      "\u001b[36mFile \u001b[39m\u001b[32m~/1.python_dir/starfish/starfish/utils/job_manager.py:32\u001b[39m, in \u001b[36mJobManager.run_orchestration\u001b[39m\u001b[34m(self)\u001b[39m\n\u001b[32m     30\u001b[39m \u001b[38;5;28;01mdef\u001b[39;00m\u001b[38;5;250m \u001b[39m\u001b[34mrun_orchestration\u001b[39m(\u001b[38;5;28mself\u001b[39m) -> List[Any]:\n\u001b[32m     31\u001b[39m \u001b[38;5;250m    \u001b[39m\u001b[33;03m\"\"\"Process batches with asyncio\"\"\"\u001b[39;00m\n\u001b[32m---> \u001b[39m\u001b[32m32\u001b[39m     \u001b[43mrun_in_event_loop\u001b[49m\u001b[43m(\u001b[49m\u001b[38;5;28;43mself\u001b[39;49m\u001b[43m.\u001b[49m\u001b[43m_async_run_orchestration\u001b[49m\u001b[43m(\u001b[49m\u001b[43m)\u001b[49m\u001b[43m)\u001b[49m\n",
      "\u001b[36mFile \u001b[39m\u001b[32m~/1.python_dir/starfish/starfish/utils/event_loop.py:36\u001b[39m, in \u001b[36mrun_in_event_loop\u001b[39m\u001b[34m(coroutine)\u001b[39m\n\u001b[32m     31\u001b[39m     \u001b[38;5;66;03m# If there is an event loop running (the call\u001b[39;00m\n\u001b[32m     32\u001b[39m     \u001b[38;5;66;03m# above doesn't raise an exception), we can\u001b[39;00m\n\u001b[32m     33\u001b[39m     \u001b[38;5;66;03m# use nest_asyncio to patch the event loop.\u001b[39;00m\n\u001b[32m     34\u001b[39m     nest_asyncio.apply()\n\u001b[32m---> \u001b[39m\u001b[32m36\u001b[39m     \u001b[38;5;28;01mreturn\u001b[39;00m \u001b[43masyncio\u001b[49m\u001b[43m.\u001b[49m\u001b[43mrun\u001b[49m\u001b[43m(\u001b[49m\u001b[43mcoroutine\u001b[49m\u001b[43m)\u001b[49m\n\u001b[32m     37\u001b[39m \u001b[38;5;28;01mexcept\u001b[39;00m \u001b[38;5;167;01mRuntimeError\u001b[39;00m:\n\u001b[32m     38\u001b[39m     \u001b[38;5;66;03m# Explicitly pass, since we want to fallback to asyncio.run\u001b[39;00m\n\u001b[32m     39\u001b[39m     \u001b[38;5;28;01mpass\u001b[39;00m\n",
      "\u001b[36mFile \u001b[39m\u001b[32m~/Library/Caches/pypoetry/virtualenvs/starfish-T7IInzTH-py3.11/lib/python3.11/site-packages/nest_asyncio.py:30\u001b[39m, in \u001b[36m_patch_asyncio.<locals>.run\u001b[39m\u001b[34m(main, debug)\u001b[39m\n\u001b[32m     28\u001b[39m task = asyncio.ensure_future(main)\n\u001b[32m     29\u001b[39m \u001b[38;5;28;01mtry\u001b[39;00m:\n\u001b[32m---> \u001b[39m\u001b[32m30\u001b[39m     \u001b[38;5;28;01mreturn\u001b[39;00m \u001b[43mloop\u001b[49m\u001b[43m.\u001b[49m\u001b[43mrun_until_complete\u001b[49m\u001b[43m(\u001b[49m\u001b[43mtask\u001b[49m\u001b[43m)\u001b[49m\n\u001b[32m     31\u001b[39m \u001b[38;5;28;01mfinally\u001b[39;00m:\n\u001b[32m     32\u001b[39m     \u001b[38;5;28;01mif\u001b[39;00m \u001b[38;5;129;01mnot\u001b[39;00m task.done():\n",
      "\u001b[36mFile \u001b[39m\u001b[32m~/Library/Caches/pypoetry/virtualenvs/starfish-T7IInzTH-py3.11/lib/python3.11/site-packages/nest_asyncio.py:92\u001b[39m, in \u001b[36m_patch_loop.<locals>.run_until_complete\u001b[39m\u001b[34m(self, future)\u001b[39m\n\u001b[32m     90\u001b[39m     f._log_destroy_pending = \u001b[38;5;28;01mFalse\u001b[39;00m\n\u001b[32m     91\u001b[39m \u001b[38;5;28;01mwhile\u001b[39;00m \u001b[38;5;129;01mnot\u001b[39;00m f.done():\n\u001b[32m---> \u001b[39m\u001b[32m92\u001b[39m     \u001b[38;5;28;43mself\u001b[39;49m\u001b[43m.\u001b[49m\u001b[43m_run_once\u001b[49m\u001b[43m(\u001b[49m\u001b[43m)\u001b[49m\n\u001b[32m     93\u001b[39m     \u001b[38;5;28;01mif\u001b[39;00m \u001b[38;5;28mself\u001b[39m._stopping:\n\u001b[32m     94\u001b[39m         \u001b[38;5;28;01mbreak\u001b[39;00m\n",
      "\u001b[36mFile \u001b[39m\u001b[32m~/Library/Caches/pypoetry/virtualenvs/starfish-T7IInzTH-py3.11/lib/python3.11/site-packages/nest_asyncio.py:115\u001b[39m, in \u001b[36m_patch_loop.<locals>._run_once\u001b[39m\u001b[34m(self)\u001b[39m\n\u001b[32m    108\u001b[39m     heappop(scheduled)\n\u001b[32m    110\u001b[39m timeout = (\n\u001b[32m    111\u001b[39m     \u001b[32m0\u001b[39m \u001b[38;5;28;01mif\u001b[39;00m ready \u001b[38;5;129;01mor\u001b[39;00m \u001b[38;5;28mself\u001b[39m._stopping\n\u001b[32m    112\u001b[39m     \u001b[38;5;28;01melse\u001b[39;00m \u001b[38;5;28mmin\u001b[39m(\u001b[38;5;28mmax\u001b[39m(\n\u001b[32m    113\u001b[39m         scheduled[\u001b[32m0\u001b[39m]._when - \u001b[38;5;28mself\u001b[39m.time(), \u001b[32m0\u001b[39m), \u001b[32m86400\u001b[39m) \u001b[38;5;28;01mif\u001b[39;00m scheduled\n\u001b[32m    114\u001b[39m     \u001b[38;5;28;01melse\u001b[39;00m \u001b[38;5;28;01mNone\u001b[39;00m)\n\u001b[32m--> \u001b[39m\u001b[32m115\u001b[39m event_list = \u001b[38;5;28;43mself\u001b[39;49m\u001b[43m.\u001b[49m\u001b[43m_selector\u001b[49m\u001b[43m.\u001b[49m\u001b[43mselect\u001b[49m\u001b[43m(\u001b[49m\u001b[43mtimeout\u001b[49m\u001b[43m)\u001b[49m\n\u001b[32m    116\u001b[39m \u001b[38;5;28mself\u001b[39m._process_events(event_list)\n\u001b[32m    118\u001b[39m end_time = \u001b[38;5;28mself\u001b[39m.time() + \u001b[38;5;28mself\u001b[39m._clock_resolution\n",
      "\u001b[36mFile \u001b[39m\u001b[32m~/.pyenv/versions/3.11.7/lib/python3.11/selectors.py:566\u001b[39m, in \u001b[36mKqueueSelector.select\u001b[39m\u001b[34m(self, timeout)\u001b[39m\n\u001b[32m    564\u001b[39m ready = []\n\u001b[32m    565\u001b[39m \u001b[38;5;28;01mtry\u001b[39;00m:\n\u001b[32m--> \u001b[39m\u001b[32m566\u001b[39m     kev_list = \u001b[38;5;28mself\u001b[39m._selector.control(\u001b[38;5;28;01mNone\u001b[39;00m, max_ev, timeout)\n\u001b[32m    567\u001b[39m \u001b[38;5;28;01mexcept\u001b[39;00m \u001b[38;5;167;01mInterruptedError\u001b[39;00m:\n\u001b[32m    568\u001b[39m     \u001b[38;5;28;01mreturn\u001b[39;00m ready\n",
      "\u001b[31mKeyboardInterrupt\u001b[39m: "
     ]
    }
   ],
   "source": [
    "\n",
    "@data_factory(max_concurrency=2)\n",
    "async def test1(city_name, num_records_per_city, fail_rate = 0.1, sleep_time = 0.05):\n",
    "    return await mock_llm_call(city_name, num_records_per_city, fail_rate = fail_rate, sleep_time = sleep_time)\n",
    "\n",
    "test1.run(data = [\n",
    "    {'city_name': '1. New York'},\n",
    "    {'city_name': '2. Los Angeles'},\n",
    "], num_records_per_city = 1, random_param = 'random_param')"
   ]
  },
  {
   "cell_type": "markdown",
   "metadata": {},
   "source": [
    "Test Case 8:  ❌\n",
    "\n",
    "Description: Test hooks that change the state of the workflow and workflow can access to this data\n",
    "\n",
    "Expected behavior: it should be able to see the state changed which we do - but it is running in indefinite loop\n",
    "\n",
    "Settings:\n",
    "- ❌ `Add additional parameters'\n"
   ]
  },
  {
   "cell_type": "code",
   "execution_count": 83,
   "metadata": {},
   "outputs": [
    {
     "name": "stdout",
     "output_type": "stream",
     "text": [
      "Checking state: initial_state\n",
      "Checking state: initial_state\n",
      "1. New York: Successfully processed!\n",
      "2. Los Angeles: Successfully processed!\n",
      "Checking state: changed_state - ['2. Los Angeles_1']\n",
      "Checking state: changed_state - ['2. Los Angeles_1']\n",
      "1. New York: Successfully processed!\n",
      "2. Los Angeles: Successfully processed!\n",
      "Checking state: changed_state - ['2. Los Angeles_3']\n",
      "Checking state: changed_state - ['2. Los Angeles_3']\n",
      "1. New York: Successfully processed!\n",
      "2. Los Angeles: Successfully processed!\n",
      "Checking state: changed_state - ['2. Los Angeles_1']\n",
      "Checking state: changed_state - ['2. Los Angeles_1']\n",
      "1. New York: Successfully processed!\n",
      "2. Los Angeles: Successfully processed!\n",
      "Checking state: changed_state - ['2. Los Angeles_3']\n",
      "Checking state: changed_state - ['2. Los Angeles_3']\n",
      "  1. New York: Failed!\n",
      "2. Los Angeles: Successfully processed!\n",
      "Checking state: changed_state - ['2. Los Angeles_1']\n",
      "Checking state: changed_state - ['2. Los Angeles_1']\n",
      "1. New York: Successfully processed!\n",
      "2. Los Angeles: Successfully processed!\n",
      "Checking state: changed_state - ['2. Los Angeles_1']\n",
      "Checking state: changed_state - ['2. Los Angeles_1']\n",
      "1. New York: Successfully processed!\n",
      "2. Los Angeles: Successfully processed!\n",
      "Checking state: changed_state - ['2. Los Angeles_5']\n",
      "Checking state: changed_state - ['2. Los Angeles_5']\n",
      "1. New York: Successfully processed!\n",
      "2. Los Angeles: Successfully processed!\n",
      "Checking state: changed_state - ['2. Los Angeles_1']\n",
      "Checking state: changed_state - ['2. Los Angeles_1']\n",
      "1. New York: Successfully processed!\n",
      "2. Los Angeles: Successfully processed!\n",
      "Checking state: changed_state - ['2. Los Angeles_3']\n",
      "Checking state: changed_state - ['2. Los Angeles_3']\n",
      "1. New York: Successfully processed!\n",
      "  2. Los Angeles: Failed!\n",
      "Checking state: changed_state - ['1. New York_4']\n",
      "Checking state: changed_state - ['1. New York_4']\n",
      "1. New York: Successfully processed!\n",
      "2. Los Angeles: Successfully processed!\n",
      "Checking state: changed_state - ['2. Los Angeles_2']\n",
      "Checking state: changed_state - ['2. Los Angeles_2']\n",
      "1. New York: Successfully processed!\n",
      "2. Los Angeles: Successfully processed!\n",
      "Checking state: changed_state - ['2. Los Angeles_4']\n",
      "Checking state: changed_state - ['2. Los Angeles_4']\n",
      "1. New York: Successfully processed!\n",
      "2. Los Angeles: Successfully processed!\n"
     ]
    },
    {
     "ename": "KeyboardInterrupt",
     "evalue": "",
     "output_type": "error",
     "traceback": [
      "\u001b[31m---------------------------------------------------------------------------\u001b[39m",
      "\u001b[31mKeyboardInterrupt\u001b[39m                         Traceback (most recent call last)",
      "\u001b[36mCell\u001b[39m\u001b[36m \u001b[39m\u001b[32mIn[83]\u001b[39m\u001b[32m, line 11\u001b[39m\n\u001b[32m      8\u001b[39m     \u001b[38;5;28mprint\u001b[39m(\u001b[33mf\u001b[39m\u001b[33m\"\u001b[39m\u001b[33mChecking state: \u001b[39m\u001b[38;5;132;01m{\u001b[39;00mtest1.state[\u001b[33m'\u001b[39m\u001b[33mvariable\u001b[39m\u001b[33m'\u001b[39m]\u001b[38;5;132;01m}\u001b[39;00m\u001b[33m\"\u001b[39m)\n\u001b[32m      9\u001b[39m     \u001b[38;5;28;01mreturn\u001b[39;00m \u001b[38;5;28;01mawait\u001b[39;00m mock_llm_call(city_name, num_records_per_city, fail_rate = fail_rate, sleep_time = sleep_time)\n\u001b[32m---> \u001b[39m\u001b[32m11\u001b[39m \u001b[43mtest1\u001b[49m\u001b[43m.\u001b[49m\u001b[43mrun\u001b[49m\u001b[43m(\u001b[49m\u001b[43mdata\u001b[49m\u001b[43m \u001b[49m\u001b[43m=\u001b[49m\u001b[43m \u001b[49m\u001b[43m[\u001b[49m\n\u001b[32m     12\u001b[39m \u001b[43m    \u001b[49m\u001b[43m{\u001b[49m\u001b[33;43m'\u001b[39;49m\u001b[33;43mcity_name\u001b[39;49m\u001b[33;43m'\u001b[39;49m\u001b[43m:\u001b[49m\u001b[43m \u001b[49m\u001b[33;43m'\u001b[39;49m\u001b[33;43m1. New York\u001b[39;49m\u001b[33;43m'\u001b[39;49m\u001b[43m}\u001b[49m\u001b[43m,\u001b[49m\n\u001b[32m     13\u001b[39m \u001b[43m    \u001b[49m\u001b[43m{\u001b[49m\u001b[33;43m'\u001b[39;49m\u001b[33;43mcity_name\u001b[39;49m\u001b[33;43m'\u001b[39;49m\u001b[43m:\u001b[49m\u001b[43m \u001b[49m\u001b[33;43m'\u001b[39;49m\u001b[33;43m2. Los Angeles\u001b[39;49m\u001b[33;43m'\u001b[39;49m\u001b[43m}\u001b[49m\u001b[43m,\u001b[49m\n\u001b[32m     14\u001b[39m \u001b[43m]\u001b[49m\u001b[43m,\u001b[49m\u001b[43m \u001b[49m\u001b[43mnum_records_per_city\u001b[49m\u001b[43m \u001b[49m\u001b[43m=\u001b[49m\u001b[43m \u001b[49m\u001b[32;43m1\u001b[39;49m\u001b[43m)\u001b[49m\n",
      "\u001b[36mFile \u001b[39m\u001b[32m~/1.python_dir/starfish/starfish/utils/data_factory.py:65\u001b[39m, in \u001b[36mDataFactory.__call__.<locals>.run\u001b[39m\u001b[34m(*args, **kwargs)\u001b[39m\n\u001b[32m     64\u001b[39m \u001b[38;5;28;01mdef\u001b[39;00m\u001b[38;5;250m \u001b[39m\u001b[34mrun\u001b[39m(*args, **kwargs):\n\u001b[32m---> \u001b[39m\u001b[32m65\u001b[39m     \u001b[38;5;28;01mreturn\u001b[39;00m \u001b[43mwrapper\u001b[49m\u001b[43m(\u001b[49m\u001b[43m*\u001b[49m\u001b[43margs\u001b[49m\u001b[43m,\u001b[49m\u001b[43m \u001b[49m\u001b[43m*\u001b[49m\u001b[43m*\u001b[49m\u001b[43mkwargs\u001b[49m\u001b[43m)\u001b[49m\n",
      "\u001b[36mFile \u001b[39m\u001b[32m~/1.python_dir/starfish/starfish/utils/data_factory.py:54\u001b[39m, in \u001b[36mDataFactory.__call__.<locals>.wrapper\u001b[39m\u001b[34m(*args, **kwargs)\u001b[39m\n\u001b[32m     45\u001b[39m batches = \u001b[38;5;28mself\u001b[39m.input_converter(*args, **kwargs)\n\u001b[32m     46\u001b[39m \u001b[38;5;66;03m# batches = Queue()\u001b[39;00m\n\u001b[32m     47\u001b[39m \u001b[38;5;66;03m# for data in converted_data:\u001b[39;00m\n\u001b[32m     48\u001b[39m \u001b[38;5;66;03m#     batches.put(data)\u001b[39;00m\n\u001b[32m   (...)\u001b[39m\u001b[32m     52\u001b[39m \n\u001b[32m     53\u001b[39m \u001b[38;5;66;03m# Process batches in parallel\u001b[39;00m\n\u001b[32m---> \u001b[39m\u001b[32m54\u001b[39m \u001b[38;5;28;43mself\u001b[39;49m\u001b[43m.\u001b[49m\u001b[43m_process_batches\u001b[49m\u001b[43m(\u001b[49m\u001b[43mfunc\u001b[49m\u001b[43m,\u001b[49m\u001b[43m \u001b[49m\u001b[43mbatches\u001b[49m\u001b[43m)\u001b[49m\n\u001b[32m     56\u001b[39m \u001b[38;5;28mself\u001b[39m._save_master_job()\n",
      "\u001b[36mFile \u001b[39m\u001b[32m~/1.python_dir/starfish/starfish/utils/data_factory.py:112\u001b[39m, in \u001b[36mDataFactory._process_batches\u001b[39m\u001b[34m(self, func, batches)\u001b[39m\n\u001b[32m    103\u001b[39m target_acount = \u001b[38;5;28mself\u001b[39m.job_config.get(\u001b[33m\"\u001b[39m\u001b[33mtarget_count\u001b[39m\u001b[33m\"\u001b[39m)\n\u001b[32m    104\u001b[39m \u001b[38;5;28mself\u001b[39m.job_manager.update_job_config(\n\u001b[32m    105\u001b[39m     {\n\u001b[32m    106\u001b[39m         \u001b[33m\"\u001b[39m\u001b[33mmaster_job_id\u001b[39m\u001b[33m\"\u001b[39m: \u001b[38;5;28mstr\u001b[39m(uuid.uuid4()),\n\u001b[32m   (...)\u001b[39m\u001b[32m    110\u001b[39m     }\n\u001b[32m    111\u001b[39m )\n\u001b[32m--> \u001b[39m\u001b[32m112\u001b[39m \u001b[38;5;28;43mself\u001b[39;49m\u001b[43m.\u001b[49m\u001b[43mjob_manager\u001b[49m\u001b[43m.\u001b[49m\u001b[43mrun_orchestration\u001b[49m\u001b[43m(\u001b[49m\u001b[43m)\u001b[49m\n",
      "\u001b[36mFile \u001b[39m\u001b[32m~/1.python_dir/starfish/starfish/utils/job_manager.py:32\u001b[39m, in \u001b[36mJobManager.run_orchestration\u001b[39m\u001b[34m(self)\u001b[39m\n\u001b[32m     30\u001b[39m \u001b[38;5;28;01mdef\u001b[39;00m\u001b[38;5;250m \u001b[39m\u001b[34mrun_orchestration\u001b[39m(\u001b[38;5;28mself\u001b[39m) -> List[Any]:\n\u001b[32m     31\u001b[39m \u001b[38;5;250m    \u001b[39m\u001b[33;03m\"\"\"Process batches with asyncio\"\"\"\u001b[39;00m\n\u001b[32m---> \u001b[39m\u001b[32m32\u001b[39m     \u001b[43mrun_in_event_loop\u001b[49m\u001b[43m(\u001b[49m\u001b[38;5;28;43mself\u001b[39;49m\u001b[43m.\u001b[49m\u001b[43m_async_run_orchestration\u001b[49m\u001b[43m(\u001b[49m\u001b[43m)\u001b[49m\u001b[43m)\u001b[49m\n",
      "\u001b[36mFile \u001b[39m\u001b[32m~/1.python_dir/starfish/starfish/utils/event_loop.py:36\u001b[39m, in \u001b[36mrun_in_event_loop\u001b[39m\u001b[34m(coroutine)\u001b[39m\n\u001b[32m     31\u001b[39m     \u001b[38;5;66;03m# If there is an event loop running (the call\u001b[39;00m\n\u001b[32m     32\u001b[39m     \u001b[38;5;66;03m# above doesn't raise an exception), we can\u001b[39;00m\n\u001b[32m     33\u001b[39m     \u001b[38;5;66;03m# use nest_asyncio to patch the event loop.\u001b[39;00m\n\u001b[32m     34\u001b[39m     nest_asyncio.apply()\n\u001b[32m---> \u001b[39m\u001b[32m36\u001b[39m     \u001b[38;5;28;01mreturn\u001b[39;00m \u001b[43masyncio\u001b[49m\u001b[43m.\u001b[49m\u001b[43mrun\u001b[49m\u001b[43m(\u001b[49m\u001b[43mcoroutine\u001b[49m\u001b[43m)\u001b[49m\n\u001b[32m     37\u001b[39m \u001b[38;5;28;01mexcept\u001b[39;00m \u001b[38;5;167;01mRuntimeError\u001b[39;00m:\n\u001b[32m     38\u001b[39m     \u001b[38;5;66;03m# Explicitly pass, since we want to fallback to asyncio.run\u001b[39;00m\n\u001b[32m     39\u001b[39m     \u001b[38;5;28;01mpass\u001b[39;00m\n",
      "\u001b[36mFile \u001b[39m\u001b[32m~/Library/Caches/pypoetry/virtualenvs/starfish-T7IInzTH-py3.11/lib/python3.11/site-packages/nest_asyncio.py:30\u001b[39m, in \u001b[36m_patch_asyncio.<locals>.run\u001b[39m\u001b[34m(main, debug)\u001b[39m\n\u001b[32m     28\u001b[39m task = asyncio.ensure_future(main)\n\u001b[32m     29\u001b[39m \u001b[38;5;28;01mtry\u001b[39;00m:\n\u001b[32m---> \u001b[39m\u001b[32m30\u001b[39m     \u001b[38;5;28;01mreturn\u001b[39;00m \u001b[43mloop\u001b[49m\u001b[43m.\u001b[49m\u001b[43mrun_until_complete\u001b[49m\u001b[43m(\u001b[49m\u001b[43mtask\u001b[49m\u001b[43m)\u001b[49m\n\u001b[32m     31\u001b[39m \u001b[38;5;28;01mfinally\u001b[39;00m:\n\u001b[32m     32\u001b[39m     \u001b[38;5;28;01mif\u001b[39;00m \u001b[38;5;129;01mnot\u001b[39;00m task.done():\n",
      "\u001b[36mFile \u001b[39m\u001b[32m~/Library/Caches/pypoetry/virtualenvs/starfish-T7IInzTH-py3.11/lib/python3.11/site-packages/nest_asyncio.py:92\u001b[39m, in \u001b[36m_patch_loop.<locals>.run_until_complete\u001b[39m\u001b[34m(self, future)\u001b[39m\n\u001b[32m     90\u001b[39m     f._log_destroy_pending = \u001b[38;5;28;01mFalse\u001b[39;00m\n\u001b[32m     91\u001b[39m \u001b[38;5;28;01mwhile\u001b[39;00m \u001b[38;5;129;01mnot\u001b[39;00m f.done():\n\u001b[32m---> \u001b[39m\u001b[32m92\u001b[39m     \u001b[38;5;28;43mself\u001b[39;49m\u001b[43m.\u001b[49m\u001b[43m_run_once\u001b[49m\u001b[43m(\u001b[49m\u001b[43m)\u001b[49m\n\u001b[32m     93\u001b[39m     \u001b[38;5;28;01mif\u001b[39;00m \u001b[38;5;28mself\u001b[39m._stopping:\n\u001b[32m     94\u001b[39m         \u001b[38;5;28;01mbreak\u001b[39;00m\n",
      "\u001b[36mFile \u001b[39m\u001b[32m~/Library/Caches/pypoetry/virtualenvs/starfish-T7IInzTH-py3.11/lib/python3.11/site-packages/nest_asyncio.py:115\u001b[39m, in \u001b[36m_patch_loop.<locals>._run_once\u001b[39m\u001b[34m(self)\u001b[39m\n\u001b[32m    108\u001b[39m     heappop(scheduled)\n\u001b[32m    110\u001b[39m timeout = (\n\u001b[32m    111\u001b[39m     \u001b[32m0\u001b[39m \u001b[38;5;28;01mif\u001b[39;00m ready \u001b[38;5;129;01mor\u001b[39;00m \u001b[38;5;28mself\u001b[39m._stopping\n\u001b[32m    112\u001b[39m     \u001b[38;5;28;01melse\u001b[39;00m \u001b[38;5;28mmin\u001b[39m(\u001b[38;5;28mmax\u001b[39m(\n\u001b[32m    113\u001b[39m         scheduled[\u001b[32m0\u001b[39m]._when - \u001b[38;5;28mself\u001b[39m.time(), \u001b[32m0\u001b[39m), \u001b[32m86400\u001b[39m) \u001b[38;5;28;01mif\u001b[39;00m scheduled\n\u001b[32m    114\u001b[39m     \u001b[38;5;28;01melse\u001b[39;00m \u001b[38;5;28;01mNone\u001b[39;00m)\n\u001b[32m--> \u001b[39m\u001b[32m115\u001b[39m event_list = \u001b[38;5;28;43mself\u001b[39;49m\u001b[43m.\u001b[49m\u001b[43m_selector\u001b[49m\u001b[43m.\u001b[49m\u001b[43mselect\u001b[49m\u001b[43m(\u001b[49m\u001b[43mtimeout\u001b[49m\u001b[43m)\u001b[49m\n\u001b[32m    116\u001b[39m \u001b[38;5;28mself\u001b[39m._process_events(event_list)\n\u001b[32m    118\u001b[39m end_time = \u001b[38;5;28mself\u001b[39m.time() + \u001b[38;5;28mself\u001b[39m._clock_resolution\n",
      "\u001b[36mFile \u001b[39m\u001b[32m~/.pyenv/versions/3.11.7/lib/python3.11/selectors.py:566\u001b[39m, in \u001b[36mKqueueSelector.select\u001b[39m\u001b[34m(self, timeout)\u001b[39m\n\u001b[32m    564\u001b[39m ready = []\n\u001b[32m    565\u001b[39m \u001b[38;5;28;01mtry\u001b[39;00m:\n\u001b[32m--> \u001b[39m\u001b[32m566\u001b[39m     kev_list = \u001b[38;5;28mself\u001b[39m._selector.control(\u001b[38;5;28;01mNone\u001b[39;00m, max_ev, timeout)\n\u001b[32m    567\u001b[39m \u001b[38;5;28;01mexcept\u001b[39;00m \u001b[38;5;167;01mInterruptedError\u001b[39;00m:\n\u001b[32m    568\u001b[39m     \u001b[38;5;28;01mreturn\u001b[39;00m ready\n",
      "\u001b[31mKeyboardInterrupt\u001b[39m: "
     ]
    }
   ],
   "source": [
    "\n",
    "def test_hook(data, state):\n",
    "    state['variable'] =  f'changed_state - {data}'\n",
    "    return state\n",
    "\n",
    "\n",
    "@data_factory(max_concurrency=2, on_record_complete=[test_hook], state= {'variable': 'initial_state'})\n",
    "async def test1(city_name, num_records_per_city, fail_rate = 0.1, sleep_time = 0.05):\n",
    "    print(f\"Checking state: {test1.state['variable']}\")\n",
    "    return await mock_llm_call(city_name, num_records_per_city, fail_rate = fail_rate, sleep_time = sleep_time)\n",
    "\n",
    "test1.run(data = [\n",
    "    {'city_name': '1. New York'},\n",
    "    {'city_name': '2. Los Angeles'},\n",
    "], num_records_per_city = 1)"
   ]
  }
 ],
 "metadata": {
  "kernelspec": {
   "display_name": ".venv",
   "language": "python",
   "name": "python3"
  },
  "language_info": {
   "codemirror_mode": {
    "name": "ipython",
    "version": 3
   },
   "file_extension": ".py",
   "mimetype": "text/x-python",
   "name": "python",
   "nbconvert_exporter": "python",
   "pygments_lexer": "ipython3",
   "version": "3.12.7"
  }
 },
 "nbformat": 4,
 "nbformat_minor": 2
}
