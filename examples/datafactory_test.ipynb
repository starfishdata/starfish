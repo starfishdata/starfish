{
 "cells": [
  {
   "cell_type": "markdown",
   "metadata": {},
   "source": [
    "### Dependencies "
   ]
  },
  {
   "cell_type": "code",
   "execution_count": 2,
   "metadata": {},
   "outputs": [],
   "source": [
    "import nest_asyncio\n",
    "nest_asyncio.apply()"
   ]
  },
  {
   "cell_type": "code",
   "execution_count": 3,
   "metadata": {},
   "outputs": [
    {
     "name": "stdout",
     "output_type": "stream",
     "text": [
      "\u001b[32m2025-04-08 08:59:53\u001b[0m | \u001b[1mINFO    \u001b[0m | \u001b[36mstarfish.common.env_loader\u001b[0m | \u001b[34menv_loader.py:52\u001b[0m | \u001b[1mLoaded 6 environment variables from /Users/john/Documents/projects/aa/python/starfish/starfish/.env\u001b[0m\n"
     ]
    },
    {
     "data": {
      "text/plain": [
       "True"
      ]
     },
     "execution_count": 3,
     "metadata": {},
     "output_type": "execute_result"
    }
   ],
   "source": [
    "from starfish.core.structured_llm import StructuredLLM\n",
    "from starfish.common.env_loader import load_env_file\n",
    "from starfish.common.utils import merge_structured_outputs\n",
    "from starfish.utils.data_factory import data_factory\n",
    "\n",
    "load_env_file()"
   ]
  },
  {
   "cell_type": "code",
   "execution_count": 5,
   "metadata": {},
   "outputs": [],
   "source": [
    "### Mock LLM call\n",
    "import random\n",
    "import asyncio\n",
    "\n",
    "async def mock_llm_call(city_name, num_records_per_city, fail_rate=0.05, sleep_time=0.01):\n",
    "    # Simulate a slight delay (optional, feels more async-realistic)\n",
    "    await asyncio.sleep(sleep_time)\n",
    "\n",
    "    # 5% chance of failure\n",
    "    if random.random() < fail_rate:\n",
    "        print(f\"  {city_name}: Failed!\") ## For debugging\n",
    "        raise ValueError(f\"Mock LLM failed to process city: {city_name}\")\n",
    "    \n",
    "    print(f\"{city_name}: Successfully processed!\") ## For debugging\n",
    "\n",
    "    result = [f\"{city_name}_{random.randint(1, 5)}\" for _ in range(num_records_per_city)]\n",
    "    return result"
   ]
  },
  {
   "cell_type": "markdown",
   "metadata": {},
   "source": [
    "Test Case 1:  ✅\n",
    "\n",
    "Settings:\n",
    "- ✅ `Input Data`:  data + broadcast variable`\n",
    "- ✅ `Decorator`: controlled concurrency\n",
    "- ✅ `Retry Logic`: Try if failed "
   ]
  },
  {
   "cell_type": "code",
   "execution_count": 6,
   "metadata": {},
   "outputs": [
    {
     "name": "stdout",
     "output_type": "stream",
     "text": [
      "1. New York: Successfully processed!\n",
      "2. Los Angeles: Successfully processed!\n",
      "3. Chicago: Successfully processed!\n",
      "4. Houston: Successfully processed!\n",
      "  5. Miami: Failed!\n",
      "5. Miami: Successfully processed!\n"
     ]
    }
   ],
   "source": [
    "\n",
    "@data_factory(max_concurrency=2)\n",
    "async def test1(city_name, num_records_per_city, fail_rate = 0.5, sleep_time = 1):\n",
    "    return await mock_llm_call(city_name, num_records_per_city, fail_rate = fail_rate, sleep_time = sleep_time)\n",
    "\n",
    "test1.run(data = [\n",
    "    {'city_name': '1. New York'},\n",
    "    {'city_name': '2. Los Angeles'},\n",
    "    {'city_name': '3. Chicago'},\n",
    "    {'city_name': '4. Houston'},\n",
    "    {'city_name': '5. Miami'}\n",
    "], num_records_per_city=5)"
   ]
  },
  {
   "cell_type": "markdown",
   "metadata": {},
   "source": [
    "Test Case 2: ❌\n",
    "\n",
    "Expected behavior: Data should be optional - use can just pass kwargs variables \n",
    "\n",
    "Settings:\n",
    "- ❌ `Input Data`:  kwargs list + broadcast variable`\n",
    "\n"
   ]
  },
  {
   "cell_type": "code",
   "execution_count": 8,
   "metadata": {},
   "outputs": [],
   "source": [
    "\n",
    "@data_factory(max_concurrency=2)\n",
    "async def test1(city_name, num_records_per_city, fail_rate = 0.5, sleep_time = 1):\n",
    "    return await mock_llm_call(city_name, num_records_per_city, fail_rate = fail_rate, sleep_time = sleep_time)\n",
    "\n",
    "test1.run(city = [\"1. New York\", \"2. Los Angeles\", \"3. Chicago\", \"4. Houston\", \"5. Miami\"], num_records_per_city=5)"
   ]
  },
  {
   "cell_type": "markdown",
   "metadata": {},
   "source": [
    "Test Case 3:  ❌\n",
    "\n",
    "Description: Test if the system handles failures gracefully, ensuring it doesnt run indefinitely when the failure rate is 100%\n",
    "\n",
    "Expected behavior: It should stop after it was not able to process it after cetain times \n",
    "\n",
    "Settings:\n",
    "- ❌ `Handle failures`: Not infinite loop"
   ]
  },
  {
   "cell_type": "code",
   "execution_count": 9,
   "metadata": {},
   "outputs": [
    {
     "name": "stdout",
     "output_type": "stream",
     "text": [
      "  1. New York: Failed!\n",
      "  2. Los Angeles: Failed!\n",
      "  1. New York: Failed!\n",
      "  2. Los Angeles: Failed!\n",
      "  3. Chicago: Failed!\n",
      "  4. Houston: Failed!\n",
      "  3. Chicago: Failed!\n",
      "  4. Houston: Failed!\n",
      "  5. Miami: Failed!\n",
      "  5. Miami: Failed!\n",
      "  1. New York: Failed!\n",
      "  1. New York: Failed!\n",
      "  2. Los Angeles: Failed!\n",
      "  2. Los Angeles: Failed!\n",
      "  3. Chicago: Failed!\n",
      "  3. Chicago: Failed!\n",
      "  4. Houston: Failed!\n"
     ]
    },
    {
     "name": "stdout",
     "output_type": "stream",
     "text": [
      "  4. Houston: Failed!\n",
      "  5. Miami: Failed!\n",
      "  5. Miami: Failed!\n"
     ]
    }
   ],
   "source": [
    "\n",
    "@data_factory(max_concurrency=2)\n",
    "async def test1(city_name, num_records_per_city, fail_rate = 1, sleep_time = 0.05):\n",
    "    return await mock_llm_call(city_name, num_records_per_city, fail_rate = fail_rate, sleep_time = sleep_time)\n",
    "\n",
    "test1.run(data = [\n",
    "    {'city_name': '1. New York'},\n",
    "    {'city_name': '2. Los Angeles'},\n",
    "    {'city_name': '3. Chicago'},\n",
    "    {'city_name': '4. Houston'},\n",
    "    {'city_name': '5. Miami'}\n",
    "], num_records_per_city=5)"
   ]
  },
  {
   "cell_type": "markdown",
   "metadata": {},
   "source": [
    "Test Case 4:  ✅\n",
    "\n",
    "Description: Test kwags keyword overide by broacase variables\n",
    "\n",
    "Settings:\n",
    "- ✅ `Input Data`:  data + broadcast variable override"
   ]
  },
  {
   "cell_type": "code",
   "execution_count": 10,
   "metadata": {},
   "outputs": [
    {
     "name": "stdout",
     "output_type": "stream",
     "text": [
      "override_city_name: Successfully processed!\n",
      "override_city_name: Successfully processed!\n"
     ]
    }
   ],
   "source": [
    "\n",
    "@data_factory(max_concurrency=2)\n",
    "async def test1(city_name, num_records_per_city, fail_rate = 0.1, sleep_time = 0.05):\n",
    "    return await mock_llm_call(city_name, num_records_per_city, fail_rate = fail_rate, sleep_time = sleep_time)\n",
    "\n",
    "test1.run(data = [\n",
    "    {'city_name': '1. New York'},\n",
    "    {'city_name': '2. Los Angeles'},\n",
    "], city_name = 'override_city_name', \n",
    "num_records_per_city = 1)"
   ]
  },
  {
   "cell_type": "markdown",
   "metadata": {},
   "source": [
    "Test Case 5:  ✅\n",
    "\n",
    "Description: Test kwags keyword overide by list variables\n",
    "\n",
    "Settings:\n",
    "- ✅ `Input Data`:  data + broadcast variable override"
   ]
  },
  {
   "cell_type": "code",
   "execution_count": 11,
   "metadata": {},
   "outputs": [
    {
     "name": "stdout",
     "output_type": "stream",
     "text": [
      "1. override_city_name: Successfully processed!\n",
      "2. override_city_name: Successfully processed!\n"
     ]
    }
   ],
   "source": [
    "@data_factory(max_concurrency=2)\n",
    "async def test1(city_name, num_records_per_city, fail_rate = 0.1, sleep_time = 0.05):\n",
    "    return await mock_llm_call(city_name, num_records_per_city, fail_rate = fail_rate, sleep_time = sleep_time)\n",
    "\n",
    "test1.run(data = [\n",
    "    {'city_name': '1. New York'},\n",
    "    {'city_name': '2. Los Angeles'},\n",
    "], city_name = ['1. override_city_name', '2. override_city_name'], \n",
    "num_records_per_city = 1)"
   ]
  },
  {
   "cell_type": "markdown",
   "metadata": {},
   "source": [
    "Test Case 6:  ❌\n",
    "\n",
    "Description: Missing required kwags\n",
    "\n",
    "Expected behavior: it should raise an error about missing required kwags, somehow it is running indefinitely\n",
    "\n",
    "Settings:\n",
    "- ❌ `Missing required num_records_per_city`: \n"
   ]
  },
  {
   "cell_type": "code",
   "execution_count": 12,
   "metadata": {},
   "outputs": [],
   "source": [
    "\n",
    "@data_factory(max_concurrency=2)\n",
    "async def test1(city_name, num_records_per_city, fail_rate = 0.1, sleep_time = 0.05):\n",
    "    return await mock_llm_call(city_name, num_records_per_city, fail_rate = fail_rate, sleep_time = sleep_time)\n",
    "\n",
    "test1.run(data = [\n",
    "    {'city_name': '1. New York'},\n",
    "    {'city_name': '2. Los Angeles'},\n",
    "], city_name = 'override_city_name',  \n",
    ")"
   ]
  },
  {
   "cell_type": "markdown",
   "metadata": {},
   "source": [
    "Test Case 7:  ❌\n",
    "\n",
    "Description: Pass extra parameters that are not defined in the workflow\n",
    "\n",
    "Expected behavior: it should raise an error about extra kwargs, somehow it is running indefinitely\n",
    "\n",
    "Settings:\n",
    "- ❌ `Add additional parameters'\n"
   ]
  },
  {
   "cell_type": "code",
   "execution_count": 13,
   "metadata": {},
   "outputs": [],
   "source": [
    "\n",
    "@data_factory(max_concurrency=2)\n",
    "async def test1(city_name, num_records_per_city, fail_rate = 0.1, sleep_time = 0.05):\n",
    "    return await mock_llm_call(city_name, num_records_per_city, fail_rate = fail_rate, sleep_time = sleep_time)\n",
    "\n",
    "test1.run(data = [\n",
    "    {'city_name': '1. New York'},\n",
    "    {'city_name': '2. Los Angeles'},\n",
    "], num_records_per_city = 1, random_param = 'random_param')"
   ]
  },
  {
   "cell_type": "markdown",
   "metadata": {},
   "source": [
    "Test Case 8:  ❌\n",
    "\n",
    "Description: Test hooks that change the state of the workflow and workflow can access to this data\n",
    "\n",
    "Expected behavior: it should be able to see the state changed which we do - but it is running in indefinite loop\n",
    "\n",
    "Settings:\n",
    "- ❌ `Add additional parameters'\n"
   ]
  },
  {
   "cell_type": "code",
   "execution_count": 14,
   "metadata": {},
   "outputs": [
    {
     "name": "stdout",
     "output_type": "stream",
     "text": [
      "Checking state: initial_state\n",
      "Checking state: initial_state\n",
      "1. New York: Successfully processed!\n",
      "2. Los Angeles: Successfully processed!\n",
      "Checking state: changed_state - ['2. Los Angeles_4']\n",
      "Checking state: changed_state - ['2. Los Angeles_4']\n",
      "1. New York: Successfully processed!\n",
      "2. Los Angeles: Successfully processed!\n",
      "Checking state: changed_state - ['2. Los Angeles_4']\n",
      "Checking state: changed_state - ['2. Los Angeles_4']\n",
      "1. New York: Successfully processed!\n",
      "2. Los Angeles: Successfully processed!\n"
     ]
    }
   ],
   "source": [
    "\n",
    "def test_hook(data, state):\n",
    "    state['variable'] =  f'changed_state - {data}'\n",
    "    return state\n",
    "\n",
    "\n",
    "@data_factory(max_concurrency=2, on_record_complete=[test_hook], state= {'variable': 'initial_state'})\n",
    "async def test1(city_name, num_records_per_city, fail_rate = 0.1, sleep_time = 0.05):\n",
    "    print(f\"Checking state: {test1.state['variable']}\")\n",
    "    return await mock_llm_call(city_name, num_records_per_city, fail_rate = fail_rate, sleep_time = sleep_time)\n",
    "\n",
    "test1.run(data = [\n",
    "    {'city_name': '1. New York'},\n",
    "    {'city_name': '2. Los Angeles'},\n",
    "], num_records_per_city = 1)"
   ]
  }
 ],
 "metadata": {
  "kernelspec": {
   "display_name": ".venv",
   "language": "python",
   "name": "python3"
  },
  "language_info": {
   "codemirror_mode": {
    "name": "ipython",
    "version": 3
   },
   "file_extension": ".py",
   "mimetype": "text/x-python",
   "name": "python",
   "nbconvert_exporter": "python",
   "pygments_lexer": "ipython3",
   "version": "3.12.7"
  }
 },
 "nbformat": 4,
 "nbformat_minor": 2
}
