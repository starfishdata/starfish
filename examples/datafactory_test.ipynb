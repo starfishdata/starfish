{
 "cells": [
  {
   "cell_type": "markdown",
   "metadata": {},
   "source": [
    "### Dependencies "
   ]
  },
  {
   "cell_type": "code",
   "execution_count": 1,
   "metadata": {},
   "outputs": [],
   "source": [
    "import nest_asyncio\n",
    "nest_asyncio.apply()"
   ]
  },
  {
   "cell_type": "code",
   "execution_count": 2,
   "metadata": {},
   "outputs": [
    {
     "name": "stdout",
     "output_type": "stream",
     "text": [
      "\u001b[32m2025-04-12 09:40:02\u001b[0m | \u001b[1mINFO    \u001b[0m | \u001b[36mstarfish.common.env_loader\u001b[0m | \u001b[34menv_loader.py:52\u001b[0m | \u001b[1mLoaded 9 environment variables from /Users/zhengisamazing/1.python_dir/starfish/.env\u001b[0m\n"
     ]
    },
    {
     "data": {
      "text/plain": [
       "True"
      ]
     },
     "execution_count": 2,
     "metadata": {},
     "output_type": "execute_result"
    }
   ],
   "source": [
    "from starfish import StructuredLLM, data_factory\n",
    "from starfish.common.env_loader import load_env_file\n",
    "from starfish.llm.utils import merge_structured_outputs\n",
    "load_env_file()"
   ]
  },
  {
   "cell_type": "code",
   "execution_count": 3,
   "metadata": {},
   "outputs": [],
   "source": [
    "### Mock LLM call\n",
    "import random\n",
    "import asyncio\n",
    "\n",
    "async def mock_llm_call(city_name, num_records_per_city, fail_rate=0.05, sleep_time=0.01):\n",
    "    # Simulate a slight delay (optional, feels more async-realistic)\n",
    "    await asyncio.sleep(sleep_time)\n",
    "\n",
    "    # 5% chance of failure\n",
    "    if random.random() < fail_rate:\n",
    "        print(f\"  {city_name}: Failed!\") ## For debugging\n",
    "        raise ValueError(f\"Mock LLM failed to process city: {city_name}\")\n",
    "    \n",
    "    print(f\"{city_name}: Successfully processed!\") ## For debugging\n",
    "\n",
    "    result = [f\"{city_name}_{random.randint(1, 5)}\" for _ in range(num_records_per_city)]\n",
    "    return result"
   ]
  },
  {
   "cell_type": "markdown",
   "metadata": {},
   "source": [
    "Test Case 1:  ✅\n",
    "\n",
    "Settings:\n",
    "- ✅ `Input Data`:  data + broadcast variable`\n",
    "- ✅ `Decorator`: controlled concurrency\n",
    "- ✅ `Retry Logic`: Try if failed "
   ]
  },
  {
   "cell_type": "code",
   "execution_count": 4,
   "metadata": {},
   "outputs": [
    {
     "name": "stdout",
     "output_type": "stream",
     "text": [
      "\u001b[32m2025-04-12 09:40:02\u001b[0m | \u001b[1mINFO    \u001b[0m | \u001b[36mstarfish.utils.data_factory\u001b[0m | \u001b[34mdata_factory.py:180\u001b[0m | \u001b[1m\n",
      "2. Creating master job...\u001b[0m\n",
      "\u001b[32m2025-04-12 09:40:02\u001b[0m | \u001b[1mINFO    \u001b[0m | \u001b[36mstarfish.utils.job_manager\u001b[0m | \u001b[34mjob_manager.py:154\u001b[0m | \u001b[1mNo task to run, waiting for task to complete\u001b[0m\n",
      "\u001b[32m2025-04-12 09:40:03\u001b[0m | \u001b[1mINFO    \u001b[0m | \u001b[36mstarfish.utils.job_manager\u001b[0m | \u001b[34mjob_manager.py:154\u001b[0m | \u001b[1mNo task to run, waiting for task to complete\u001b[0m\n",
      "1. New York: Successfully processed!\n",
      "  2. Los Angeles: Failed!\n",
      "3. Chicago: Successfully processed!\n",
      "  4. Houston: Failed!\n",
      "5. Miami: Successfully processed!\n",
      "\u001b[32m2025-04-12 09:40:04\u001b[0m | \u001b[1mINFO    \u001b[0m | \u001b[36mstarfish.utils.job_manager\u001b[0m | \u001b[34mjob_manager.py:154\u001b[0m | \u001b[1mNo task to run, waiting for task to complete\u001b[0m\n",
      "\u001b[32m2025-04-12 09:40:05\u001b[0m | \u001b[1mINFO    \u001b[0m | \u001b[36mstarfish.utils.job_manager\u001b[0m | \u001b[34mjob_manager.py:154\u001b[0m | \u001b[1mNo task to run, waiting for task to complete\u001b[0m\n",
      "2. Los Angeles: Successfully processed!\n",
      "  4. Houston: Failed!\n",
      "\u001b[32m2025-04-12 09:40:06\u001b[0m | \u001b[1mINFO    \u001b[0m | \u001b[36mstarfish.utils.job_manager\u001b[0m | \u001b[34mjob_manager.py:154\u001b[0m | \u001b[1mNo task to run, waiting for task to complete\u001b[0m\n",
      "\u001b[32m2025-04-12 09:40:06\u001b[0m | \u001b[31m\u001b[1mERROR   \u001b[0m | \u001b[36mstarfish.utils.task_runner\u001b[0m | \u001b[34mtask_runner.py:30\u001b[0m | \u001b[31m\u001b[1mTask execution failed after 1 retries\u001b[0m\n",
      "\u001b[32m2025-04-12 09:40:06\u001b[0m | \u001b[31m\u001b[1mERROR   \u001b[0m | \u001b[36mstarfish.utils.job_manager\u001b[0m | \u001b[34mjob_manager.py:181\u001b[0m | \u001b[31m\u001b[1mError running task: Mock LLM failed to process city: 4. Houston\u001b[0m\n",
      "\u001b[32m2025-04-12 09:40:07\u001b[0m | \u001b[1mINFO    \u001b[0m | \u001b[36mstarfish.utils.job_manager\u001b[0m | \u001b[34mjob_manager.py:154\u001b[0m | \u001b[1mNo task to run, waiting for task to complete\u001b[0m\n",
      "\u001b[32m2025-04-12 09:40:08\u001b[0m | \u001b[1mINFO    \u001b[0m | \u001b[36mstarfish.utils.job_manager\u001b[0m | \u001b[34mjob_manager.py:154\u001b[0m | \u001b[1mNo task to run, waiting for task to complete\u001b[0m\n",
      "  4. Houston: Failed!\n",
      "\u001b[32m2025-04-12 09:40:09\u001b[0m | \u001b[1mINFO    \u001b[0m | \u001b[36mstarfish.utils.job_manager\u001b[0m | \u001b[34mjob_manager.py:154\u001b[0m | \u001b[1mNo task to run, waiting for task to complete\u001b[0m\n",
      "\u001b[32m2025-04-12 09:40:10\u001b[0m | \u001b[1mINFO    \u001b[0m | \u001b[36mstarfish.utils.job_manager\u001b[0m | \u001b[34mjob_manager.py:154\u001b[0m | \u001b[1mNo task to run, waiting for task to complete\u001b[0m\n",
      "\u001b[32m2025-04-12 09:40:11\u001b[0m | \u001b[1mINFO    \u001b[0m | \u001b[36mstarfish.utils.job_manager\u001b[0m | \u001b[34mjob_manager.py:154\u001b[0m | \u001b[1mNo task to run, waiting for task to complete\u001b[0m\n",
      "  4. Houston: Failed!\n",
      "\u001b[32m2025-04-12 09:40:11\u001b[0m | \u001b[31m\u001b[1mERROR   \u001b[0m | \u001b[36mstarfish.utils.task_runner\u001b[0m | \u001b[34mtask_runner.py:30\u001b[0m | \u001b[31m\u001b[1mTask execution failed after 1 retries\u001b[0m\n",
      "\u001b[32m2025-04-12 09:40:11\u001b[0m | \u001b[31m\u001b[1mERROR   \u001b[0m | \u001b[36mstarfish.utils.job_manager\u001b[0m | \u001b[34mjob_manager.py:181\u001b[0m | \u001b[31m\u001b[1mError running task: Mock LLM failed to process city: 4. Houston\u001b[0m\n",
      "\u001b[32m2025-04-12 09:40:12\u001b[0m | \u001b[1mINFO    \u001b[0m | \u001b[36mstarfish.utils.job_manager\u001b[0m | \u001b[34mjob_manager.py:154\u001b[0m | \u001b[1mNo task to run, waiting for task to complete\u001b[0m\n",
      "\u001b[32m2025-04-12 09:40:13\u001b[0m | \u001b[1mINFO    \u001b[0m | \u001b[36mstarfish.utils.job_manager\u001b[0m | \u001b[34mjob_manager.py:154\u001b[0m | \u001b[1mNo task to run, waiting for task to complete\u001b[0m\n",
      "4. Houston: Successfully processed!\n",
      "\u001b[32m2025-04-12 09:40:14\u001b[0m | \u001b[1mINFO    \u001b[0m | \u001b[36mstarfish.utils.data_factory\u001b[0m | \u001b[34mdata_factory.py:258\u001b[0m | \u001b[1mMaster job 50af3471-28db-4fd5-908e-06d5614949cc as completed\u001b[0m\n"
     ]
    },
    {
     "data": {
      "text/html": [
       "<pre style=\"white-space:pre;overflow-x:auto;line-height:normal;font-family:Menlo,'DejaVu Sans Mono',consolas,'Courier New',monospace\">/Users/zhengisamazing/Library/Caches/pypoetry/virtualenvs/starfish-T7IInzTH-py3.11/lib/python3.11/site-packages/ric\n",
       "h/live.py:231: UserWarning: install \"ipywidgets\" for Jupyter support\n",
       "  warnings.warn('install \"ipywidgets\" for Jupyter support')\n",
       "</pre>\n"
      ],
      "text/plain": [
       "/Users/zhengisamazing/Library/Caches/pypoetry/virtualenvs/starfish-T7IInzTH-py3.11/lib/python3.11/site-packages/ric\n",
       "h/live.py:231: UserWarning: install \"ipywidgets\" for Jupyter support\n",
       "  warnings.warn('install \"ipywidgets\" for Jupyter support')\n"
      ]
     },
     "metadata": {},
     "output_type": "display_data"
    },
    {
     "data": {
      "text/html": [
       "<pre style=\"white-space:pre;overflow-x:auto;line-height:normal;font-family:Menlo,'DejaVu Sans Mono',consolas,'Courier New',monospace\"></pre>\n"
      ],
      "text/plain": []
     },
     "metadata": {},
     "output_type": "display_data"
    },
    {
     "data": {
      "text/plain": [
       "[['1. New York_3',\n",
       "  '1. New York_4',\n",
       "  '1. New York_4',\n",
       "  '1. New York_3',\n",
       "  '1. New York_3'],\n",
       " ['3. Chicago_2',\n",
       "  '3. Chicago_3',\n",
       "  '3. Chicago_2',\n",
       "  '3. Chicago_1',\n",
       "  '3. Chicago_2'],\n",
       " ['5. Miami_4', '5. Miami_3', '5. Miami_2', '5. Miami_5', '5. Miami_3'],\n",
       " ['2. Los Angeles_3',\n",
       "  '2. Los Angeles_3',\n",
       "  '2. Los Angeles_4',\n",
       "  '2. Los Angeles_2',\n",
       "  '2. Los Angeles_5'],\n",
       " ['4. Houston_3',\n",
       "  '4. Houston_1',\n",
       "  '4. Houston_1',\n",
       "  '4. Houston_4',\n",
       "  '4. Houston_2']]"
      ]
     },
     "execution_count": 4,
     "metadata": {},
     "output_type": "execute_result"
    }
   ],
   "source": [
    "\n",
    "@data_factory(max_concurrency=5)\n",
    "async def test1(city_name, num_records_per_city, fail_rate = 0.5, sleep_time = 1):\n",
    "    return await mock_llm_call(city_name, num_records_per_city, fail_rate = fail_rate, sleep_time = sleep_time)\n",
    "\n",
    "test1.run(data = [\n",
    "    {'city_name': '1. New York'},\n",
    "    {'city_name': '2. Los Angeles'},\n",
    "    {'city_name': '3. Chicago'},\n",
    "    {'city_name': '4. Houston'},\n",
    "    {'city_name': '5. Miami'}\n",
    "], num_records_per_city=5)"
   ]
  },
  {
   "cell_type": "markdown",
   "metadata": {},
   "source": [
    "Test Case 2: ❌\n",
    "\n",
    "Expected behavior: Data should be optional - use can just pass kwargs variables \n",
    "\n",
    "Settings:\n",
    "- ❌ `Input Data`:  kwargs list + broadcast variable`\n",
    "\n"
   ]
  },
  {
   "cell_type": "code",
   "execution_count": 5,
   "metadata": {},
   "outputs": [
    {
     "name": "stdout",
     "output_type": "stream",
     "text": [
      "\u001b[32m2025-04-12 09:40:28\u001b[0m | \u001b[1mINFO    \u001b[0m | \u001b[36mstarfish.utils.data_factory\u001b[0m | \u001b[34mdata_factory.py:180\u001b[0m | \u001b[1m\n",
      "2. Creating master job...\u001b[0m\n",
      "1. New York: Successfully processed!\n",
      "2. Los Angeles: Successfully processed!\n",
      "3. Chicago: Successfully processed!\n",
      "  4. Houston: Failed!\n",
      "\u001b[32m2025-04-12 09:40:30\u001b[0m | \u001b[1mINFO    \u001b[0m | \u001b[36mstarfish.utils.job_manager\u001b[0m | \u001b[34mjob_manager.py:154\u001b[0m | \u001b[1mNo task to run, waiting for task to complete\u001b[0m\n",
      "\u001b[32m2025-04-12 09:40:31\u001b[0m | \u001b[1mINFO    \u001b[0m | \u001b[36mstarfish.utils.job_manager\u001b[0m | \u001b[34mjob_manager.py:154\u001b[0m | \u001b[1mNo task to run, waiting for task to complete\u001b[0m\n",
      "5. Miami: Successfully processed!\n",
      "\u001b[32m2025-04-12 09:40:32\u001b[0m | \u001b[1mINFO    \u001b[0m | \u001b[36mstarfish.utils.job_manager\u001b[0m | \u001b[34mjob_manager.py:154\u001b[0m | \u001b[1mNo task to run, waiting for task to complete\u001b[0m\n",
      "4. Houston: Successfully processed!\n",
      "\u001b[32m2025-04-12 09:40:33\u001b[0m | \u001b[1mINFO    \u001b[0m | \u001b[36mstarfish.utils.data_factory\u001b[0m | \u001b[34mdata_factory.py:258\u001b[0m | \u001b[1mMaster job 7706e3e3-3b31-4f6c-9303-9eb0eccec022 as completed\u001b[0m\n"
     ]
    },
    {
     "data": {
      "text/html": [
       "<pre style=\"white-space:pre;overflow-x:auto;line-height:normal;font-family:Menlo,'DejaVu Sans Mono',consolas,'Courier New',monospace\"></pre>\n"
      ],
      "text/plain": []
     },
     "metadata": {},
     "output_type": "display_data"
    },
    {
     "data": {
      "text/plain": [
       "[['1. New York_2',\n",
       "  '1. New York_4',\n",
       "  '1. New York_2',\n",
       "  '1. New York_1',\n",
       "  '1. New York_3'],\n",
       " ['2. Los Angeles_5',\n",
       "  '2. Los Angeles_2',\n",
       "  '2. Los Angeles_5',\n",
       "  '2. Los Angeles_4',\n",
       "  '2. Los Angeles_2'],\n",
       " ['3. Chicago_5',\n",
       "  '3. Chicago_3',\n",
       "  '3. Chicago_5',\n",
       "  '3. Chicago_1',\n",
       "  '3. Chicago_4'],\n",
       " ['5. Miami_1', '5. Miami_3', '5. Miami_3', '5. Miami_3', '5. Miami_3'],\n",
       " ['4. Houston_3',\n",
       "  '4. Houston_1',\n",
       "  '4. Houston_4',\n",
       "  '4. Houston_1',\n",
       "  '4. Houston_1']]"
      ]
     },
     "execution_count": 5,
     "metadata": {},
     "output_type": "execute_result"
    }
   ],
   "source": [
    "\n",
    "@data_factory(max_concurrency=2)\n",
    "async def test1(city_name, num_records_per_city, fail_rate = 0.5, sleep_time = 1):\n",
    "    return await mock_llm_call(city_name, num_records_per_city, fail_rate = fail_rate, sleep_time = sleep_time)\n",
    "\n",
    "test1.run(city_name = [\"1. New York\", \"2. Los Angeles\", \"3. Chicago\", \"4. Houston\", \"5. Miami\"], num_records_per_city=5)"
   ]
  },
  {
   "cell_type": "markdown",
   "metadata": {},
   "source": [
    "Test Case 3:  ❌\n",
    "\n",
    "Description: Test if the system handles failures gracefully, ensuring it doesnt run indefinitely when the failure rate is 100%\n",
    "\n",
    "Expected behavior: It should stop after it was not able to process it after cetain times \n",
    "\n",
    "Settings:\n",
    "- ❌ `Handle failures`: Not infinite loop"
   ]
  },
  {
   "cell_type": "code",
   "execution_count": 6,
   "metadata": {},
   "outputs": [
    {
     "name": "stdout",
     "output_type": "stream",
     "text": [
      "\u001b[32m2025-04-12 09:40:37\u001b[0m | \u001b[1mINFO    \u001b[0m | \u001b[36mstarfish.utils.data_factory\u001b[0m | \u001b[34mdata_factory.py:180\u001b[0m | \u001b[1m\n",
      "2. Creating master job...\u001b[0m\n",
      "  1. New York: Failed!\n",
      "  2. Los Angeles: Failed!\n",
      "  1. New York: Failed!\n",
      "  2. Los Angeles: Failed!\n",
      "\u001b[32m2025-04-12 09:40:39\u001b[0m | \u001b[31m\u001b[1mERROR   \u001b[0m | \u001b[36mstarfish.utils.task_runner\u001b[0m | \u001b[34mtask_runner.py:30\u001b[0m | \u001b[31m\u001b[1mTask execution failed after 1 retries\u001b[0m\n",
      "\u001b[32m2025-04-12 09:40:39\u001b[0m | \u001b[31m\u001b[1mERROR   \u001b[0m | \u001b[36mstarfish.utils.job_manager\u001b[0m | \u001b[34mjob_manager.py:181\u001b[0m | \u001b[31m\u001b[1mError running task: Mock LLM failed to process city: 1. New York\u001b[0m\n",
      "\u001b[32m2025-04-12 09:40:39\u001b[0m | \u001b[31m\u001b[1mERROR   \u001b[0m | \u001b[36mstarfish.utils.task_runner\u001b[0m | \u001b[34mtask_runner.py:30\u001b[0m | \u001b[31m\u001b[1mTask execution failed after 1 retries\u001b[0m\n",
      "\u001b[32m2025-04-12 09:40:39\u001b[0m | \u001b[31m\u001b[1mERROR   \u001b[0m | \u001b[36mstarfish.utils.job_manager\u001b[0m | \u001b[34mjob_manager.py:181\u001b[0m | \u001b[31m\u001b[1mError running task: Mock LLM failed to process city: 2. Los Angeles\u001b[0m\n",
      "  3. Chicago: Failed!\n",
      "  4. Houston: Failed!\n",
      "  3. Chicago: Failed!\n",
      "  4. Houston: Failed!\n",
      "\u001b[32m2025-04-12 09:40:41\u001b[0m | \u001b[31m\u001b[1mERROR   \u001b[0m | \u001b[36mstarfish.utils.task_runner\u001b[0m | \u001b[34mtask_runner.py:30\u001b[0m | \u001b[31m\u001b[1mTask execution failed after 1 retries\u001b[0m\n",
      "\u001b[32m2025-04-12 09:40:41\u001b[0m | \u001b[31m\u001b[1mERROR   \u001b[0m | \u001b[36mstarfish.utils.job_manager\u001b[0m | \u001b[34mjob_manager.py:181\u001b[0m | \u001b[31m\u001b[1mError running task: Mock LLM failed to process city: 3. Chicago\u001b[0m\n",
      "\u001b[32m2025-04-12 09:40:41\u001b[0m | \u001b[31m\u001b[1mERROR   \u001b[0m | \u001b[36mstarfish.utils.task_runner\u001b[0m | \u001b[34mtask_runner.py:30\u001b[0m | \u001b[31m\u001b[1mTask execution failed after 1 retries\u001b[0m\n",
      "\u001b[32m2025-04-12 09:40:41\u001b[0m | \u001b[31m\u001b[1mERROR   \u001b[0m | \u001b[36mstarfish.utils.job_manager\u001b[0m | \u001b[34mjob_manager.py:181\u001b[0m | \u001b[31m\u001b[1mError running task: Mock LLM failed to process city: 4. Houston\u001b[0m\n",
      "  5. Miami: Failed!\n",
      "  1. New York: Failed!\n",
      "  5. Miami: Failed!\n",
      "  1. New York: Failed!\n",
      "\u001b[32m2025-04-12 09:40:43\u001b[0m | \u001b[31m\u001b[1mERROR   \u001b[0m | \u001b[36mstarfish.utils.task_runner\u001b[0m | \u001b[34mtask_runner.py:30\u001b[0m | \u001b[31m\u001b[1mTask execution failed after 1 retries\u001b[0m\n",
      "\u001b[32m2025-04-12 09:40:43\u001b[0m | \u001b[31m\u001b[1mERROR   \u001b[0m | \u001b[36mstarfish.utils.job_manager\u001b[0m | \u001b[34mjob_manager.py:181\u001b[0m | \u001b[31m\u001b[1mError running task: Mock LLM failed to process city: 5. Miami\u001b[0m\n",
      "\u001b[32m2025-04-12 09:40:43\u001b[0m | \u001b[31m\u001b[1mERROR   \u001b[0m | \u001b[36mstarfish.utils.task_runner\u001b[0m | \u001b[34mtask_runner.py:30\u001b[0m | \u001b[31m\u001b[1mTask execution failed after 1 retries\u001b[0m\n",
      "\u001b[32m2025-04-12 09:40:43\u001b[0m | \u001b[31m\u001b[1mERROR   \u001b[0m | \u001b[36mstarfish.utils.job_manager\u001b[0m | \u001b[34mjob_manager.py:181\u001b[0m | \u001b[31m\u001b[1mError running task: Mock LLM failed to process city: 1. New York\u001b[0m\n",
      "  2. Los Angeles: Failed!\n",
      "  3. Chicago: Failed!\n",
      "  2. Los Angeles: Failed!\n",
      "  3. Chicago: Failed!\n",
      "\u001b[32m2025-04-12 09:40:45\u001b[0m | \u001b[31m\u001b[1mERROR   \u001b[0m | \u001b[36mstarfish.utils.task_runner\u001b[0m | \u001b[34mtask_runner.py:30\u001b[0m | \u001b[31m\u001b[1mTask execution failed after 1 retries\u001b[0m\n",
      "\u001b[32m2025-04-12 09:40:45\u001b[0m | \u001b[31m\u001b[1mERROR   \u001b[0m | \u001b[36mstarfish.utils.job_manager\u001b[0m | \u001b[34mjob_manager.py:181\u001b[0m | \u001b[31m\u001b[1mError running task: Mock LLM failed to process city: 2. Los Angeles\u001b[0m\n",
      "\u001b[32m2025-04-12 09:40:45\u001b[0m | \u001b[31m\u001b[1mERROR   \u001b[0m | \u001b[36mstarfish.utils.task_runner\u001b[0m | \u001b[34mtask_runner.py:30\u001b[0m | \u001b[31m\u001b[1mTask execution failed after 1 retries\u001b[0m\n",
      "\u001b[32m2025-04-12 09:40:45\u001b[0m | \u001b[31m\u001b[1mERROR   \u001b[0m | \u001b[36mstarfish.utils.job_manager\u001b[0m | \u001b[34mjob_manager.py:181\u001b[0m | \u001b[31m\u001b[1mError running task: Mock LLM failed to process city: 3. Chicago\u001b[0m\n",
      "  4. Houston: Failed!\n",
      "  5. Miami: Failed!\n",
      "  4. Houston: Failed!\n",
      "  5. Miami: Failed!\n",
      "\u001b[32m2025-04-12 09:40:47\u001b[0m | \u001b[31m\u001b[1mERROR   \u001b[0m | \u001b[36mstarfish.utils.task_runner\u001b[0m | \u001b[34mtask_runner.py:30\u001b[0m | \u001b[31m\u001b[1mTask execution failed after 1 retries\u001b[0m\n",
      "\u001b[32m2025-04-12 09:40:47\u001b[0m | \u001b[31m\u001b[1mERROR   \u001b[0m | \u001b[36mstarfish.utils.job_manager\u001b[0m | \u001b[34mjob_manager.py:181\u001b[0m | \u001b[31m\u001b[1mError running task: Mock LLM failed to process city: 4. Houston\u001b[0m\n",
      "\u001b[32m2025-04-12 09:40:47\u001b[0m | \u001b[31m\u001b[1mERROR   \u001b[0m | \u001b[36mstarfish.utils.task_runner\u001b[0m | \u001b[34mtask_runner.py:30\u001b[0m | \u001b[31m\u001b[1mTask execution failed after 1 retries\u001b[0m\n",
      "\u001b[32m2025-04-12 09:40:47\u001b[0m | \u001b[31m\u001b[1mERROR   \u001b[0m | \u001b[36mstarfish.utils.job_manager\u001b[0m | \u001b[34mjob_manager.py:181\u001b[0m | \u001b[31m\u001b[1mError running task: Mock LLM failed to process city: 5. Miami\u001b[0m\n",
      "  1. New York: Failed!\n",
      "  2. Los Angeles: Failed!\n",
      "  1. New York: Failed!\n",
      "  2. Los Angeles: Failed!\n",
      "\u001b[32m2025-04-12 09:40:49\u001b[0m | \u001b[31m\u001b[1mERROR   \u001b[0m | \u001b[36mstarfish.utils.task_runner\u001b[0m | \u001b[34mtask_runner.py:30\u001b[0m | \u001b[31m\u001b[1mTask execution failed after 1 retries\u001b[0m\n",
      "\u001b[32m2025-04-12 09:40:49\u001b[0m | \u001b[31m\u001b[1mERROR   \u001b[0m | \u001b[36mstarfish.utils.job_manager\u001b[0m | \u001b[34mjob_manager.py:181\u001b[0m | \u001b[31m\u001b[1mError running task: Mock LLM failed to process city: 1. New York\u001b[0m\n",
      "\u001b[32m2025-04-12 09:40:49\u001b[0m | \u001b[31m\u001b[1mERROR   \u001b[0m | \u001b[36mstarfish.utils.task_runner\u001b[0m | \u001b[34mtask_runner.py:30\u001b[0m | \u001b[31m\u001b[1mTask execution failed after 1 retries\u001b[0m\n",
      "\u001b[32m2025-04-12 09:40:49\u001b[0m | \u001b[31m\u001b[1mERROR   \u001b[0m | \u001b[36mstarfish.utils.job_manager\u001b[0m | \u001b[34mjob_manager.py:181\u001b[0m | \u001b[31m\u001b[1mError running task: Mock LLM failed to process city: 2. Los Angeles\u001b[0m\n",
      "  3. Chicago: Failed!\n",
      "  4. Houston: Failed!\n",
      "  3. Chicago: Failed!\n",
      "  4. Houston: Failed!\n",
      "\u001b[32m2025-04-12 09:40:52\u001b[0m | \u001b[31m\u001b[1mERROR   \u001b[0m | \u001b[36mstarfish.utils.task_runner\u001b[0m | \u001b[34mtask_runner.py:30\u001b[0m | \u001b[31m\u001b[1mTask execution failed after 1 retries\u001b[0m\n",
      "\u001b[32m2025-04-12 09:40:52\u001b[0m | \u001b[31m\u001b[1mERROR   \u001b[0m | \u001b[36mstarfish.utils.job_manager\u001b[0m | \u001b[34mjob_manager.py:181\u001b[0m | \u001b[31m\u001b[1mError running task: Mock LLM failed to process city: 3. Chicago\u001b[0m\n",
      "\u001b[32m2025-04-12 09:40:52\u001b[0m | \u001b[31m\u001b[1mERROR   \u001b[0m | \u001b[36mstarfish.utils.task_runner\u001b[0m | \u001b[34mtask_runner.py:30\u001b[0m | \u001b[31m\u001b[1mTask execution failed after 1 retries\u001b[0m\n",
      "\u001b[32m2025-04-12 09:40:52\u001b[0m | \u001b[31m\u001b[1mERROR   \u001b[0m | \u001b[36mstarfish.utils.job_manager\u001b[0m | \u001b[34mjob_manager.py:181\u001b[0m | \u001b[31m\u001b[1mError running task: Mock LLM failed to process city: 4. Houston\u001b[0m\n",
      "  5. Miami: Failed!\n",
      "  1. New York: Failed!\n",
      "  5. Miami: Failed!\n",
      "  1. New York: Failed!\n",
      "\u001b[32m2025-04-12 09:40:54\u001b[0m | \u001b[31m\u001b[1mERROR   \u001b[0m | \u001b[36mstarfish.utils.task_runner\u001b[0m | \u001b[34mtask_runner.py:30\u001b[0m | \u001b[31m\u001b[1mTask execution failed after 1 retries\u001b[0m\n",
      "\u001b[32m2025-04-12 09:40:54\u001b[0m | \u001b[31m\u001b[1mERROR   \u001b[0m | \u001b[36mstarfish.utils.job_manager\u001b[0m | \u001b[34mjob_manager.py:181\u001b[0m | \u001b[31m\u001b[1mError running task: Mock LLM failed to process city: 5. Miami\u001b[0m\n",
      "\u001b[32m2025-04-12 09:40:54\u001b[0m | \u001b[31m\u001b[1mERROR   \u001b[0m | \u001b[36mstarfish.utils.task_runner\u001b[0m | \u001b[34mtask_runner.py:30\u001b[0m | \u001b[31m\u001b[1mTask execution failed after 1 retries\u001b[0m\n",
      "\u001b[32m2025-04-12 09:40:54\u001b[0m | \u001b[31m\u001b[1mERROR   \u001b[0m | \u001b[36mstarfish.utils.job_manager\u001b[0m | \u001b[34mjob_manager.py:181\u001b[0m | \u001b[31m\u001b[1mError running task: Mock LLM failed to process city: 1. New York\u001b[0m\n",
      "  2. Los Angeles: Failed!\n",
      "  3. Chicago: Failed!\n",
      "  2. Los Angeles: Failed!\n",
      "  3. Chicago: Failed!\n",
      "\u001b[32m2025-04-12 09:40:56\u001b[0m | \u001b[31m\u001b[1mERROR   \u001b[0m | \u001b[36mstarfish.utils.task_runner\u001b[0m | \u001b[34mtask_runner.py:30\u001b[0m | \u001b[31m\u001b[1mTask execution failed after 1 retries\u001b[0m\n",
      "\u001b[32m2025-04-12 09:40:56\u001b[0m | \u001b[31m\u001b[1mERROR   \u001b[0m | \u001b[36mstarfish.utils.job_manager\u001b[0m | \u001b[34mjob_manager.py:181\u001b[0m | \u001b[31m\u001b[1mError running task: Mock LLM failed to process city: 2. Los Angeles\u001b[0m\n",
      "\u001b[32m2025-04-12 09:40:56\u001b[0m | \u001b[31m\u001b[1mERROR   \u001b[0m | \u001b[36mstarfish.utils.task_runner\u001b[0m | \u001b[34mtask_runner.py:30\u001b[0m | \u001b[31m\u001b[1mTask execution failed after 1 retries\u001b[0m\n",
      "\u001b[32m2025-04-12 09:40:56\u001b[0m | \u001b[31m\u001b[1mERROR   \u001b[0m | \u001b[36mstarfish.utils.job_manager\u001b[0m | \u001b[34mjob_manager.py:181\u001b[0m | \u001b[31m\u001b[1mError running task: Mock LLM failed to process city: 3. Chicago\u001b[0m\n",
      "  4. Houston: Failed!\n",
      "  5. Miami: Failed!\n",
      "  4. Houston: Failed!\n",
      "  5. Miami: Failed!\n",
      "\u001b[32m2025-04-12 09:40:58\u001b[0m | \u001b[31m\u001b[1mERROR   \u001b[0m | \u001b[36mstarfish.utils.task_runner\u001b[0m | \u001b[34mtask_runner.py:30\u001b[0m | \u001b[31m\u001b[1mTask execution failed after 1 retries\u001b[0m\n",
      "\u001b[32m2025-04-12 09:40:58\u001b[0m | \u001b[31m\u001b[1mERROR   \u001b[0m | \u001b[36mstarfish.utils.job_manager\u001b[0m | \u001b[34mjob_manager.py:181\u001b[0m | \u001b[31m\u001b[1mError running task: Mock LLM failed to process city: 4. Houston\u001b[0m\n",
      "\u001b[32m2025-04-12 09:40:58\u001b[0m | \u001b[31m\u001b[1mERROR   \u001b[0m | \u001b[36mstarfish.utils.task_runner\u001b[0m | \u001b[34mtask_runner.py:30\u001b[0m | \u001b[31m\u001b[1mTask execution failed after 1 retries\u001b[0m\n",
      "\u001b[32m2025-04-12 09:40:58\u001b[0m | \u001b[31m\u001b[1mERROR   \u001b[0m | \u001b[36mstarfish.utils.job_manager\u001b[0m | \u001b[34mjob_manager.py:181\u001b[0m | \u001b[31m\u001b[1mError running task: Mock LLM failed to process city: 5. Miami\u001b[0m\n",
      "  1. New York: Failed!\n",
      "  2. Los Angeles: Failed!\n",
      "  1. New York: Failed!\n",
      "  2. Los Angeles: Failed!\n",
      "\u001b[32m2025-04-12 09:41:00\u001b[0m | \u001b[31m\u001b[1mERROR   \u001b[0m | \u001b[36mstarfish.utils.task_runner\u001b[0m | \u001b[34mtask_runner.py:30\u001b[0m | \u001b[31m\u001b[1mTask execution failed after 1 retries\u001b[0m\n",
      "\u001b[32m2025-04-12 09:41:00\u001b[0m | \u001b[31m\u001b[1mERROR   \u001b[0m | \u001b[36mstarfish.utils.job_manager\u001b[0m | \u001b[34mjob_manager.py:181\u001b[0m | \u001b[31m\u001b[1mError running task: Mock LLM failed to process city: 1. New York\u001b[0m\n",
      "\u001b[32m2025-04-12 09:41:00\u001b[0m | \u001b[31m\u001b[1mERROR   \u001b[0m | \u001b[36mstarfish.utils.task_runner\u001b[0m | \u001b[34mtask_runner.py:30\u001b[0m | \u001b[31m\u001b[1mTask execution failed after 1 retries\u001b[0m\n",
      "\u001b[32m2025-04-12 09:41:00\u001b[0m | \u001b[31m\u001b[1mERROR   \u001b[0m | \u001b[36mstarfish.utils.job_manager\u001b[0m | \u001b[34mjob_manager.py:181\u001b[0m | \u001b[31m\u001b[1mError running task: Mock LLM failed to process city: 2. Los Angeles\u001b[0m\n",
      "  3. Chicago: Failed!\n",
      "  4. Houston: Failed!\n",
      "  3. Chicago: Failed!\n",
      "  4. Houston: Failed!\n",
      "\u001b[32m2025-04-12 09:41:02\u001b[0m | \u001b[31m\u001b[1mERROR   \u001b[0m | \u001b[36mstarfish.utils.task_runner\u001b[0m | \u001b[34mtask_runner.py:30\u001b[0m | \u001b[31m\u001b[1mTask execution failed after 1 retries\u001b[0m\n",
      "\u001b[32m2025-04-12 09:41:02\u001b[0m | \u001b[31m\u001b[1mERROR   \u001b[0m | \u001b[36mstarfish.utils.job_manager\u001b[0m | \u001b[34mjob_manager.py:181\u001b[0m | \u001b[31m\u001b[1mError running task: Mock LLM failed to process city: 3. Chicago\u001b[0m\n",
      "\u001b[32m2025-04-12 09:41:02\u001b[0m | \u001b[31m\u001b[1mERROR   \u001b[0m | \u001b[36mstarfish.utils.task_runner\u001b[0m | \u001b[34mtask_runner.py:30\u001b[0m | \u001b[31m\u001b[1mTask execution failed after 1 retries\u001b[0m\n",
      "\u001b[32m2025-04-12 09:41:02\u001b[0m | \u001b[31m\u001b[1mERROR   \u001b[0m | \u001b[36mstarfish.utils.job_manager\u001b[0m | \u001b[34mjob_manager.py:181\u001b[0m | \u001b[31m\u001b[1mError running task: Mock LLM failed to process city: 4. Houston\u001b[0m\n",
      "  5. Miami: Failed!\n",
      "  1. New York: Failed!\n",
      "  5. Miami: Failed!\n",
      "  1. New York: Failed!\n",
      "\u001b[32m2025-04-12 09:41:04\u001b[0m | \u001b[31m\u001b[1mERROR   \u001b[0m | \u001b[36mstarfish.utils.task_runner\u001b[0m | \u001b[34mtask_runner.py:30\u001b[0m | \u001b[31m\u001b[1mTask execution failed after 1 retries\u001b[0m\n",
      "\u001b[32m2025-04-12 09:41:04\u001b[0m | \u001b[31m\u001b[1mERROR   \u001b[0m | \u001b[36mstarfish.utils.job_manager\u001b[0m | \u001b[34mjob_manager.py:181\u001b[0m | \u001b[31m\u001b[1mError running task: Mock LLM failed to process city: 5. Miami\u001b[0m\n",
      "\u001b[32m2025-04-12 09:41:04\u001b[0m | \u001b[31m\u001b[1mERROR   \u001b[0m | \u001b[36mstarfish.utils.task_runner\u001b[0m | \u001b[34mtask_runner.py:30\u001b[0m | \u001b[31m\u001b[1mTask execution failed after 1 retries\u001b[0m\n",
      "\u001b[32m2025-04-12 09:41:04\u001b[0m | \u001b[31m\u001b[1mERROR   \u001b[0m | \u001b[36mstarfish.utils.job_manager\u001b[0m | \u001b[34mjob_manager.py:181\u001b[0m | \u001b[31m\u001b[1mError running task: Mock LLM failed to process city: 1. New York\u001b[0m\n",
      "  2. Los Angeles: Failed!\n",
      "  3. Chicago: Failed!\n",
      "  2. Los Angeles: Failed!\n",
      "  3. Chicago: Failed!\n",
      "\u001b[32m2025-04-12 09:41:06\u001b[0m | \u001b[31m\u001b[1mERROR   \u001b[0m | \u001b[36mstarfish.utils.task_runner\u001b[0m | \u001b[34mtask_runner.py:30\u001b[0m | \u001b[31m\u001b[1mTask execution failed after 1 retries\u001b[0m\n",
      "\u001b[32m2025-04-12 09:41:06\u001b[0m | \u001b[31m\u001b[1mERROR   \u001b[0m | \u001b[36mstarfish.utils.job_manager\u001b[0m | \u001b[34mjob_manager.py:181\u001b[0m | \u001b[31m\u001b[1mError running task: Mock LLM failed to process city: 2. Los Angeles\u001b[0m\n",
      "\u001b[32m2025-04-12 09:41:06\u001b[0m | \u001b[31m\u001b[1mERROR   \u001b[0m | \u001b[36mstarfish.utils.task_runner\u001b[0m | \u001b[34mtask_runner.py:30\u001b[0m | \u001b[31m\u001b[1mTask execution failed after 1 retries\u001b[0m\n",
      "\u001b[32m2025-04-12 09:41:06\u001b[0m | \u001b[31m\u001b[1mERROR   \u001b[0m | \u001b[36mstarfish.utils.job_manager\u001b[0m | \u001b[34mjob_manager.py:181\u001b[0m | \u001b[31m\u001b[1mError running task: Mock LLM failed to process city: 3. Chicago\u001b[0m\n",
      "  4. Houston: Failed!\n",
      "  5. Miami: Failed!\n",
      "  4. Houston: Failed!\n",
      "  5. Miami: Failed!\n",
      "\u001b[32m2025-04-12 09:41:08\u001b[0m | \u001b[31m\u001b[1mERROR   \u001b[0m | \u001b[36mstarfish.utils.task_runner\u001b[0m | \u001b[34mtask_runner.py:30\u001b[0m | \u001b[31m\u001b[1mTask execution failed after 1 retries\u001b[0m\n",
      "\u001b[32m2025-04-12 09:41:08\u001b[0m | \u001b[31m\u001b[1mERROR   \u001b[0m | \u001b[36mstarfish.utils.job_manager\u001b[0m | \u001b[34mjob_manager.py:181\u001b[0m | \u001b[31m\u001b[1mError running task: Mock LLM failed to process city: 4. Houston\u001b[0m\n",
      "\u001b[32m2025-04-12 09:41:08\u001b[0m | \u001b[31m\u001b[1mERROR   \u001b[0m | \u001b[36mstarfish.utils.task_runner\u001b[0m | \u001b[34mtask_runner.py:30\u001b[0m | \u001b[31m\u001b[1mTask execution failed after 1 retries\u001b[0m\n",
      "\u001b[32m2025-04-12 09:41:08\u001b[0m | \u001b[31m\u001b[1mERROR   \u001b[0m | \u001b[36mstarfish.utils.job_manager\u001b[0m | \u001b[34mjob_manager.py:181\u001b[0m | \u001b[31m\u001b[1mError running task: Mock LLM failed to process city: 5. Miami\u001b[0m\n",
      "  1. New York: Failed!\n",
      "  2. Los Angeles: Failed!\n",
      "  1. New York: Failed!\n",
      "  2. Los Angeles: Failed!\n",
      "\u001b[32m2025-04-12 09:41:11\u001b[0m | \u001b[31m\u001b[1mERROR   \u001b[0m | \u001b[36mstarfish.utils.task_runner\u001b[0m | \u001b[34mtask_runner.py:30\u001b[0m | \u001b[31m\u001b[1mTask execution failed after 1 retries\u001b[0m\n",
      "\u001b[32m2025-04-12 09:41:11\u001b[0m | \u001b[31m\u001b[1mERROR   \u001b[0m | \u001b[36mstarfish.utils.job_manager\u001b[0m | \u001b[34mjob_manager.py:181\u001b[0m | \u001b[31m\u001b[1mError running task: Mock LLM failed to process city: 1. New York\u001b[0m\n",
      "\u001b[32m2025-04-12 09:41:11\u001b[0m | \u001b[31m\u001b[1mERROR   \u001b[0m | \u001b[36mstarfish.utils.task_runner\u001b[0m | \u001b[34mtask_runner.py:30\u001b[0m | \u001b[31m\u001b[1mTask execution failed after 1 retries\u001b[0m\n",
      "\u001b[32m2025-04-12 09:41:11\u001b[0m | \u001b[31m\u001b[1mERROR   \u001b[0m | \u001b[36mstarfish.utils.job_manager\u001b[0m | \u001b[34mjob_manager.py:181\u001b[0m | \u001b[31m\u001b[1mError running task: Mock LLM failed to process city: 2. Los Angeles\u001b[0m\n",
      "  3. Chicago: Failed!\n",
      "  4. Houston: Failed!\n",
      "  3. Chicago: Failed!\n",
      "  4. Houston: Failed!\n",
      "\u001b[32m2025-04-12 09:41:13\u001b[0m | \u001b[31m\u001b[1mERROR   \u001b[0m | \u001b[36mstarfish.utils.task_runner\u001b[0m | \u001b[34mtask_runner.py:30\u001b[0m | \u001b[31m\u001b[1mTask execution failed after 1 retries\u001b[0m\n",
      "\u001b[32m2025-04-12 09:41:13\u001b[0m | \u001b[31m\u001b[1mERROR   \u001b[0m | \u001b[36mstarfish.utils.job_manager\u001b[0m | \u001b[34mjob_manager.py:181\u001b[0m | \u001b[31m\u001b[1mError running task: Mock LLM failed to process city: 3. Chicago\u001b[0m\n",
      "\u001b[32m2025-04-12 09:41:13\u001b[0m | \u001b[31m\u001b[1mERROR   \u001b[0m | \u001b[36mstarfish.utils.task_runner\u001b[0m | \u001b[34mtask_runner.py:30\u001b[0m | \u001b[31m\u001b[1mTask execution failed after 1 retries\u001b[0m\n",
      "\u001b[32m2025-04-12 09:41:13\u001b[0m | \u001b[31m\u001b[1mERROR   \u001b[0m | \u001b[36mstarfish.utils.job_manager\u001b[0m | \u001b[34mjob_manager.py:181\u001b[0m | \u001b[31m\u001b[1mError running task: Mock LLM failed to process city: 4. Houston\u001b[0m\n",
      "  5. Miami: Failed!\n",
      "  1. New York: Failed!\n",
      "  5. Miami: Failed!\n",
      "  1. New York: Failed!\n",
      "\u001b[32m2025-04-12 09:41:15\u001b[0m | \u001b[31m\u001b[1mERROR   \u001b[0m | \u001b[36mstarfish.utils.task_runner\u001b[0m | \u001b[34mtask_runner.py:30\u001b[0m | \u001b[31m\u001b[1mTask execution failed after 1 retries\u001b[0m\n",
      "\u001b[32m2025-04-12 09:41:15\u001b[0m | \u001b[31m\u001b[1mERROR   \u001b[0m | \u001b[36mstarfish.utils.job_manager\u001b[0m | \u001b[34mjob_manager.py:181\u001b[0m | \u001b[31m\u001b[1mError running task: Mock LLM failed to process city: 5. Miami\u001b[0m\n",
      "\u001b[32m2025-04-12 09:41:15\u001b[0m | \u001b[31m\u001b[1mERROR   \u001b[0m | \u001b[36mstarfish.utils.task_runner\u001b[0m | \u001b[34mtask_runner.py:30\u001b[0m | \u001b[31m\u001b[1mTask execution failed after 1 retries\u001b[0m\n",
      "\u001b[32m2025-04-12 09:41:15\u001b[0m | \u001b[31m\u001b[1mERROR   \u001b[0m | \u001b[36mstarfish.utils.job_manager\u001b[0m | \u001b[34mjob_manager.py:181\u001b[0m | \u001b[31m\u001b[1mError running task: Mock LLM failed to process city: 1. New York\u001b[0m\n",
      "  2. Los Angeles: Failed!\n",
      "  3. Chicago: Failed!\n",
      "  2. Los Angeles: Failed!\n",
      "  3. Chicago: Failed!\n",
      "\u001b[32m2025-04-12 09:41:17\u001b[0m | \u001b[31m\u001b[1mERROR   \u001b[0m | \u001b[36mstarfish.utils.task_runner\u001b[0m | \u001b[34mtask_runner.py:30\u001b[0m | \u001b[31m\u001b[1mTask execution failed after 1 retries\u001b[0m\n",
      "\u001b[32m2025-04-12 09:41:17\u001b[0m | \u001b[31m\u001b[1mERROR   \u001b[0m | \u001b[36mstarfish.utils.job_manager\u001b[0m | \u001b[34mjob_manager.py:181\u001b[0m | \u001b[31m\u001b[1mError running task: Mock LLM failed to process city: 2. Los Angeles\u001b[0m\n",
      "\u001b[32m2025-04-12 09:41:17\u001b[0m | \u001b[31m\u001b[1mERROR   \u001b[0m | \u001b[36mstarfish.utils.task_runner\u001b[0m | \u001b[34mtask_runner.py:30\u001b[0m | \u001b[31m\u001b[1mTask execution failed after 1 retries\u001b[0m\n",
      "\u001b[32m2025-04-12 09:41:17\u001b[0m | \u001b[31m\u001b[1mERROR   \u001b[0m | \u001b[36mstarfish.utils.job_manager\u001b[0m | \u001b[34mjob_manager.py:181\u001b[0m | \u001b[31m\u001b[1mError running task: Mock LLM failed to process city: 3. Chicago\u001b[0m\n",
      "  4. Houston: Failed!\n",
      "  5. Miami: Failed!\n",
      "  4. Houston: Failed!\n",
      "  5. Miami: Failed!\n",
      "\u001b[32m2025-04-12 09:41:19\u001b[0m | \u001b[31m\u001b[1mERROR   \u001b[0m | \u001b[36mstarfish.utils.task_runner\u001b[0m | \u001b[34mtask_runner.py:30\u001b[0m | \u001b[31m\u001b[1mTask execution failed after 1 retries\u001b[0m\n",
      "\u001b[32m2025-04-12 09:41:19\u001b[0m | \u001b[31m\u001b[1mERROR   \u001b[0m | \u001b[36mstarfish.utils.job_manager\u001b[0m | \u001b[34mjob_manager.py:181\u001b[0m | \u001b[31m\u001b[1mError running task: Mock LLM failed to process city: 4. Houston\u001b[0m\n",
      "\u001b[32m2025-04-12 09:41:19\u001b[0m | \u001b[31m\u001b[1mERROR   \u001b[0m | \u001b[36mstarfish.utils.task_runner\u001b[0m | \u001b[34mtask_runner.py:30\u001b[0m | \u001b[31m\u001b[1mTask execution failed after 1 retries\u001b[0m\n",
      "\u001b[32m2025-04-12 09:41:19\u001b[0m | \u001b[31m\u001b[1mERROR   \u001b[0m | \u001b[36mstarfish.utils.job_manager\u001b[0m | \u001b[34mjob_manager.py:181\u001b[0m | \u001b[31m\u001b[1mError running task: Mock LLM failed to process city: 5. Miami\u001b[0m\n",
      "  1. New York: Failed!\n",
      "  2. Los Angeles: Failed!\n",
      "  1. New York: Failed!\n",
      "  2. Los Angeles: Failed!\n",
      "\u001b[32m2025-04-12 09:41:21\u001b[0m | \u001b[31m\u001b[1mERROR   \u001b[0m | \u001b[36mstarfish.utils.task_runner\u001b[0m | \u001b[34mtask_runner.py:30\u001b[0m | \u001b[31m\u001b[1mTask execution failed after 1 retries\u001b[0m\n",
      "\u001b[32m2025-04-12 09:41:21\u001b[0m | \u001b[31m\u001b[1mERROR   \u001b[0m | \u001b[36mstarfish.utils.job_manager\u001b[0m | \u001b[34mjob_manager.py:181\u001b[0m | \u001b[31m\u001b[1mError running task: Mock LLM failed to process city: 1. New York\u001b[0m\n",
      "\u001b[32m2025-04-12 09:41:21\u001b[0m | \u001b[31m\u001b[1mERROR   \u001b[0m | \u001b[36mstarfish.utils.task_runner\u001b[0m | \u001b[34mtask_runner.py:30\u001b[0m | \u001b[31m\u001b[1mTask execution failed after 1 retries\u001b[0m\n",
      "\u001b[32m2025-04-12 09:41:21\u001b[0m | \u001b[31m\u001b[1mERROR   \u001b[0m | \u001b[36mstarfish.utils.job_manager\u001b[0m | \u001b[34mjob_manager.py:181\u001b[0m | \u001b[31m\u001b[1mError running task: Mock LLM failed to process city: 2. Los Angeles\u001b[0m\n",
      "  3. Chicago: Failed!\n",
      "  4. Houston: Failed!\n",
      "  3. Chicago: Failed!\n",
      "  4. Houston: Failed!\n",
      "\u001b[32m2025-04-12 09:41:23\u001b[0m | \u001b[31m\u001b[1mERROR   \u001b[0m | \u001b[36mstarfish.utils.task_runner\u001b[0m | \u001b[34mtask_runner.py:30\u001b[0m | \u001b[31m\u001b[1mTask execution failed after 1 retries\u001b[0m\n",
      "\u001b[32m2025-04-12 09:41:23\u001b[0m | \u001b[31m\u001b[1mERROR   \u001b[0m | \u001b[36mstarfish.utils.job_manager\u001b[0m | \u001b[34mjob_manager.py:181\u001b[0m | \u001b[31m\u001b[1mError running task: Mock LLM failed to process city: 3. Chicago\u001b[0m\n",
      "\u001b[32m2025-04-12 09:41:23\u001b[0m | \u001b[31m\u001b[1mERROR   \u001b[0m | \u001b[36mstarfish.utils.task_runner\u001b[0m | \u001b[34mtask_runner.py:30\u001b[0m | \u001b[31m\u001b[1mTask execution failed after 1 retries\u001b[0m\n",
      "\u001b[32m2025-04-12 09:41:23\u001b[0m | \u001b[31m\u001b[1mERROR   \u001b[0m | \u001b[36mstarfish.utils.job_manager\u001b[0m | \u001b[34mjob_manager.py:181\u001b[0m | \u001b[31m\u001b[1mError running task: Mock LLM failed to process city: 4. Houston\u001b[0m\n",
      "  5. Miami: Failed!\n",
      "  1. New York: Failed!\n",
      "  5. Miami: Failed!\n",
      "  1. New York: Failed!\n",
      "\u001b[32m2025-04-12 09:41:25\u001b[0m | \u001b[31m\u001b[1mERROR   \u001b[0m | \u001b[36mstarfish.utils.task_runner\u001b[0m | \u001b[34mtask_runner.py:30\u001b[0m | \u001b[31m\u001b[1mTask execution failed after 1 retries\u001b[0m\n",
      "\u001b[32m2025-04-12 09:41:25\u001b[0m | \u001b[31m\u001b[1mERROR   \u001b[0m | \u001b[36mstarfish.utils.job_manager\u001b[0m | \u001b[34mjob_manager.py:181\u001b[0m | \u001b[31m\u001b[1mError running task: Mock LLM failed to process city: 5. Miami\u001b[0m\n",
      "\u001b[32m2025-04-12 09:41:25\u001b[0m | \u001b[31m\u001b[1mERROR   \u001b[0m | \u001b[36mstarfish.utils.task_runner\u001b[0m | \u001b[34mtask_runner.py:30\u001b[0m | \u001b[31m\u001b[1mTask execution failed after 1 retries\u001b[0m\n",
      "\u001b[32m2025-04-12 09:41:25\u001b[0m | \u001b[31m\u001b[1mERROR   \u001b[0m | \u001b[36mstarfish.utils.job_manager\u001b[0m | \u001b[34mjob_manager.py:181\u001b[0m | \u001b[31m\u001b[1mError running task: Mock LLM failed to process city: 1. New York\u001b[0m\n",
      "  2. Los Angeles: Failed!\n",
      "  3. Chicago: Failed!\n",
      "  2. Los Angeles: Failed!\n",
      "  3. Chicago: Failed!\n",
      "\u001b[32m2025-04-12 09:41:27\u001b[0m | \u001b[31m\u001b[1mERROR   \u001b[0m | \u001b[36mstarfish.utils.task_runner\u001b[0m | \u001b[34mtask_runner.py:30\u001b[0m | \u001b[31m\u001b[1mTask execution failed after 1 retries\u001b[0m\n",
      "\u001b[32m2025-04-12 09:41:27\u001b[0m | \u001b[31m\u001b[1mERROR   \u001b[0m | \u001b[36mstarfish.utils.job_manager\u001b[0m | \u001b[34mjob_manager.py:181\u001b[0m | \u001b[31m\u001b[1mError running task: Mock LLM failed to process city: 2. Los Angeles\u001b[0m\n",
      "\u001b[32m2025-04-12 09:41:27\u001b[0m | \u001b[31m\u001b[1mERROR   \u001b[0m | \u001b[36mstarfish.utils.task_runner\u001b[0m | \u001b[34mtask_runner.py:30\u001b[0m | \u001b[31m\u001b[1mTask execution failed after 1 retries\u001b[0m\n",
      "\u001b[32m2025-04-12 09:41:27\u001b[0m | \u001b[31m\u001b[1mERROR   \u001b[0m | \u001b[36mstarfish.utils.job_manager\u001b[0m | \u001b[34mjob_manager.py:181\u001b[0m | \u001b[31m\u001b[1mError running task: Mock LLM failed to process city: 3. Chicago\u001b[0m\n",
      "  4. Houston: Failed!\n",
      "  5. Miami: Failed!\n",
      "\u001b[32m2025-04-12 09:41:29\u001b[0m | \u001b[1mINFO    \u001b[0m | \u001b[36mstarfish.utils.data_factory\u001b[0m | \u001b[34mdata_factory.py:258\u001b[0m | \u001b[1mMaster job 8c50ef94-4830-40a5-b58e-47af77430aa7 as completed\u001b[0m\n"
     ]
    },
    {
     "data": {
      "text/html": [
       "<pre style=\"white-space:pre;overflow-x:auto;line-height:normal;font-family:Menlo,'DejaVu Sans Mono',consolas,'Courier New',monospace\"></pre>\n"
      ],
      "text/plain": []
     },
     "metadata": {},
     "output_type": "display_data"
    },
    {
     "ename": "KeyboardInterrupt",
     "evalue": "",
     "output_type": "error",
     "traceback": [
      "\u001b[31m---------------------------------------------------------------------------\u001b[39m",
      "\u001b[31mKeyboardInterrupt\u001b[39m                         Traceback (most recent call last)",
      "\u001b[36mCell\u001b[39m\u001b[36m \u001b[39m\u001b[32mIn[6]\u001b[39m\u001b[32m, line 5\u001b[39m\n\u001b[32m      1\u001b[39m \u001b[38;5;129m@data_factory\u001b[39m(max_concurrency=\u001b[32m2\u001b[39m)\n\u001b[32m      2\u001b[39m \u001b[38;5;28;01masync\u001b[39;00m \u001b[38;5;28;01mdef\u001b[39;00m\u001b[38;5;250m \u001b[39m\u001b[34mtest1\u001b[39m(city_name, num_records_per_city, fail_rate = \u001b[32m1\u001b[39m, sleep_time = \u001b[32m0.05\u001b[39m):\n\u001b[32m      3\u001b[39m     \u001b[38;5;28;01mreturn\u001b[39;00m \u001b[38;5;28;01mawait\u001b[39;00m mock_llm_call(city_name, num_records_per_city, fail_rate = fail_rate, sleep_time = sleep_time)\n\u001b[32m----> \u001b[39m\u001b[32m5\u001b[39m \u001b[43mtest1\u001b[49m\u001b[43m.\u001b[49m\u001b[43mrun\u001b[49m\u001b[43m(\u001b[49m\u001b[43mdata\u001b[49m\u001b[43m \u001b[49m\u001b[43m=\u001b[49m\u001b[43m \u001b[49m\u001b[43m[\u001b[49m\n\u001b[32m      6\u001b[39m \u001b[43m    \u001b[49m\u001b[43m{\u001b[49m\u001b[33;43m'\u001b[39;49m\u001b[33;43mcity_name\u001b[39;49m\u001b[33;43m'\u001b[39;49m\u001b[43m:\u001b[49m\u001b[43m \u001b[49m\u001b[33;43m'\u001b[39;49m\u001b[33;43m1. New York\u001b[39;49m\u001b[33;43m'\u001b[39;49m\u001b[43m}\u001b[49m\u001b[43m,\u001b[49m\n\u001b[32m      7\u001b[39m \u001b[43m    \u001b[49m\u001b[43m{\u001b[49m\u001b[33;43m'\u001b[39;49m\u001b[33;43mcity_name\u001b[39;49m\u001b[33;43m'\u001b[39;49m\u001b[43m:\u001b[49m\u001b[43m \u001b[49m\u001b[33;43m'\u001b[39;49m\u001b[33;43m2. Los Angeles\u001b[39;49m\u001b[33;43m'\u001b[39;49m\u001b[43m}\u001b[49m\u001b[43m,\u001b[49m\n\u001b[32m      8\u001b[39m \u001b[43m    \u001b[49m\u001b[43m{\u001b[49m\u001b[33;43m'\u001b[39;49m\u001b[33;43mcity_name\u001b[39;49m\u001b[33;43m'\u001b[39;49m\u001b[43m:\u001b[49m\u001b[43m \u001b[49m\u001b[33;43m'\u001b[39;49m\u001b[33;43m3. Chicago\u001b[39;49m\u001b[33;43m'\u001b[39;49m\u001b[43m}\u001b[49m\u001b[43m,\u001b[49m\n\u001b[32m      9\u001b[39m \u001b[43m    \u001b[49m\u001b[43m{\u001b[49m\u001b[33;43m'\u001b[39;49m\u001b[33;43mcity_name\u001b[39;49m\u001b[33;43m'\u001b[39;49m\u001b[43m:\u001b[49m\u001b[43m \u001b[49m\u001b[33;43m'\u001b[39;49m\u001b[33;43m4. Houston\u001b[39;49m\u001b[33;43m'\u001b[39;49m\u001b[43m}\u001b[49m\u001b[43m,\u001b[49m\n\u001b[32m     10\u001b[39m \u001b[43m    \u001b[49m\u001b[43m{\u001b[49m\u001b[33;43m'\u001b[39;49m\u001b[33;43mcity_name\u001b[39;49m\u001b[33;43m'\u001b[39;49m\u001b[43m:\u001b[49m\u001b[43m \u001b[49m\u001b[33;43m'\u001b[39;49m\u001b[33;43m5. Miami\u001b[39;49m\u001b[33;43m'\u001b[39;49m\u001b[43m}\u001b[49m\n\u001b[32m     11\u001b[39m \u001b[43m]\u001b[49m\u001b[43m,\u001b[49m\u001b[43m \u001b[49m\u001b[43mnum_records_per_city\u001b[49m\u001b[43m=\u001b[49m\u001b[32;43m5\u001b[39;49m\u001b[43m)\u001b[49m\n",
      "\u001b[36mFile \u001b[39m\u001b[32m~/1.python_dir/starfish/starfish/utils/data_factory.py:111\u001b[39m, in \u001b[36mDataFactory.__call__.<locals>.run\u001b[39m\u001b[34m(*args, **kwargs)\u001b[39m\n\u001b[32m    109\u001b[39m     \u001b[38;5;28mself\u001b[39m.master_job_id = kwargs[\u001b[33m'\u001b[39m\u001b[33mmaster_job_id\u001b[39m\u001b[33m'\u001b[39m]\n\u001b[32m    110\u001b[39m     \u001b[38;5;28mself\u001b[39m.job_config[RUN_MODE] = RUN_MODE_RE_RUN\n\u001b[32m--> \u001b[39m\u001b[32m111\u001b[39m \u001b[38;5;28;01mreturn\u001b[39;00m \u001b[43mwrapper\u001b[49m\u001b[43m(\u001b[49m\u001b[43m*\u001b[49m\u001b[43margs\u001b[49m\u001b[43m,\u001b[49m\u001b[43m \u001b[49m\u001b[43m*\u001b[49m\u001b[43m*\u001b[49m\u001b[43mkwargs\u001b[49m\u001b[43m)\u001b[49m\n",
      "\u001b[36mFile \u001b[39m\u001b[32m~/1.python_dir/starfish/starfish/utils/data_factory.py:96\u001b[39m, in \u001b[36mDataFactory.__call__.<locals>.wrapper\u001b[39m\u001b[34m(*args, **kwargs)\u001b[39m\n\u001b[32m     94\u001b[39m     \u001b[38;5;28mself\u001b[39m._init_progress_bar_update_job_config()\n\u001b[32m     95\u001b[39m     \u001b[38;5;28mself\u001b[39m.update_master_job_status()\n\u001b[32m---> \u001b[39m\u001b[32m96\u001b[39m \u001b[38;5;28;43mself\u001b[39;49m\u001b[43m.\u001b[49m\u001b[43m_process_batches\u001b[49m\u001b[43m(\u001b[49m\u001b[43m)\u001b[49m\n\u001b[32m     97\u001b[39m result = \u001b[38;5;28mself\u001b[39m._process_output()\n\u001b[32m     98\u001b[39m \u001b[38;5;28;01mreturn\u001b[39;00m result\n",
      "\u001b[36mFile \u001b[39m\u001b[32m~/1.python_dir/starfish/starfish/utils/data_factory.py:169\u001b[39m, in \u001b[36mDataFactory._process_batches\u001b[39m\u001b[34m(self)\u001b[39m\n\u001b[32m    166\u001b[39m \u001b[38;5;28;01mdef\u001b[39;00m\u001b[38;5;250m \u001b[39m\u001b[34m_process_batches\u001b[39m(\u001b[38;5;28mself\u001b[39m) -> List[Any]:\n\u001b[32m    167\u001b[39m \u001b[38;5;250m    \u001b[39m\u001b[33;03m\"\"\"Process batches with asyncio\"\"\"\u001b[39;00m\n\u001b[32m--> \u001b[39m\u001b[32m169\u001b[39m     \u001b[38;5;28;01mreturn\u001b[39;00m \u001b[38;5;28;43mself\u001b[39;49m\u001b[43m.\u001b[49m\u001b[43mjob_manager\u001b[49m\u001b[43m.\u001b[49m\u001b[43mrun_orchestration\u001b[49m\u001b[43m(\u001b[49m\u001b[43m)\u001b[49m\n",
      "\u001b[36mFile \u001b[39m\u001b[32m~/1.python_dir/starfish/starfish/utils/job_manager.py:117\u001b[39m, in \u001b[36mJobManager.run_orchestration\u001b[39m\u001b[34m(self)\u001b[39m\n\u001b[32m    115\u001b[39m     run_in_event_loop(\u001b[38;5;28mself\u001b[39m._async_run_orchestration())\n\u001b[32m    116\u001b[39m \u001b[38;5;28;01melse\u001b[39;00m:\n\u001b[32m--> \u001b[39m\u001b[32m117\u001b[39m     \u001b[43mrun_in_event_loop\u001b[49m\u001b[43m(\u001b[49m\u001b[38;5;28;43mself\u001b[39;49m\u001b[43m.\u001b[49m\u001b[43m_async_run_orchestration\u001b[49m\u001b[43m(\u001b[49m\u001b[43m)\u001b[49m\u001b[43m)\u001b[49m\n",
      "\u001b[36mFile \u001b[39m\u001b[32m~/1.python_dir/starfish/starfish/utils/event_loop.py:36\u001b[39m, in \u001b[36mrun_in_event_loop\u001b[39m\u001b[34m(coroutine)\u001b[39m\n\u001b[32m     31\u001b[39m     \u001b[38;5;66;03m# If there is an event loop running (the call\u001b[39;00m\n\u001b[32m     32\u001b[39m     \u001b[38;5;66;03m# above doesn't raise an exception), we can\u001b[39;00m\n\u001b[32m     33\u001b[39m     \u001b[38;5;66;03m# use nest_asyncio to patch the event loop.\u001b[39;00m\n\u001b[32m     34\u001b[39m     nest_asyncio.apply()\n\u001b[32m---> \u001b[39m\u001b[32m36\u001b[39m     \u001b[38;5;28;01mreturn\u001b[39;00m \u001b[43masyncio\u001b[49m\u001b[43m.\u001b[49m\u001b[43mrun\u001b[49m\u001b[43m(\u001b[49m\u001b[43mcoroutine\u001b[49m\u001b[43m)\u001b[49m\n\u001b[32m     37\u001b[39m \u001b[38;5;28;01mexcept\u001b[39;00m \u001b[38;5;167;01mRuntimeError\u001b[39;00m:\n\u001b[32m     38\u001b[39m     \u001b[38;5;66;03m# Explicitly pass, since we want to fallback to asyncio.run\u001b[39;00m\n\u001b[32m     39\u001b[39m     \u001b[38;5;28;01mpass\u001b[39;00m\n",
      "\u001b[36mFile \u001b[39m\u001b[32m~/Library/Caches/pypoetry/virtualenvs/starfish-T7IInzTH-py3.11/lib/python3.11/site-packages/nest_asyncio.py:30\u001b[39m, in \u001b[36m_patch_asyncio.<locals>.run\u001b[39m\u001b[34m(main, debug)\u001b[39m\n\u001b[32m     28\u001b[39m task = asyncio.ensure_future(main)\n\u001b[32m     29\u001b[39m \u001b[38;5;28;01mtry\u001b[39;00m:\n\u001b[32m---> \u001b[39m\u001b[32m30\u001b[39m     \u001b[38;5;28;01mreturn\u001b[39;00m \u001b[43mloop\u001b[49m\u001b[43m.\u001b[49m\u001b[43mrun_until_complete\u001b[49m\u001b[43m(\u001b[49m\u001b[43mtask\u001b[49m\u001b[43m)\u001b[49m\n\u001b[32m     31\u001b[39m \u001b[38;5;28;01mfinally\u001b[39;00m:\n\u001b[32m     32\u001b[39m     \u001b[38;5;28;01mif\u001b[39;00m \u001b[38;5;129;01mnot\u001b[39;00m task.done():\n",
      "\u001b[36mFile \u001b[39m\u001b[32m~/Library/Caches/pypoetry/virtualenvs/starfish-T7IInzTH-py3.11/lib/python3.11/site-packages/nest_asyncio.py:92\u001b[39m, in \u001b[36m_patch_loop.<locals>.run_until_complete\u001b[39m\u001b[34m(self, future)\u001b[39m\n\u001b[32m     90\u001b[39m     f._log_destroy_pending = \u001b[38;5;28;01mFalse\u001b[39;00m\n\u001b[32m     91\u001b[39m \u001b[38;5;28;01mwhile\u001b[39;00m \u001b[38;5;129;01mnot\u001b[39;00m f.done():\n\u001b[32m---> \u001b[39m\u001b[32m92\u001b[39m     \u001b[38;5;28;43mself\u001b[39;49m\u001b[43m.\u001b[49m\u001b[43m_run_once\u001b[49m\u001b[43m(\u001b[49m\u001b[43m)\u001b[49m\n\u001b[32m     93\u001b[39m     \u001b[38;5;28;01mif\u001b[39;00m \u001b[38;5;28mself\u001b[39m._stopping:\n\u001b[32m     94\u001b[39m         \u001b[38;5;28;01mbreak\u001b[39;00m\n",
      "\u001b[36mFile \u001b[39m\u001b[32m~/Library/Caches/pypoetry/virtualenvs/starfish-T7IInzTH-py3.11/lib/python3.11/site-packages/nest_asyncio.py:115\u001b[39m, in \u001b[36m_patch_loop.<locals>._run_once\u001b[39m\u001b[34m(self)\u001b[39m\n\u001b[32m    108\u001b[39m     heappop(scheduled)\n\u001b[32m    110\u001b[39m timeout = (\n\u001b[32m    111\u001b[39m     \u001b[32m0\u001b[39m \u001b[38;5;28;01mif\u001b[39;00m ready \u001b[38;5;129;01mor\u001b[39;00m \u001b[38;5;28mself\u001b[39m._stopping\n\u001b[32m    112\u001b[39m     \u001b[38;5;28;01melse\u001b[39;00m \u001b[38;5;28mmin\u001b[39m(\u001b[38;5;28mmax\u001b[39m(\n\u001b[32m    113\u001b[39m         scheduled[\u001b[32m0\u001b[39m]._when - \u001b[38;5;28mself\u001b[39m.time(), \u001b[32m0\u001b[39m), \u001b[32m86400\u001b[39m) \u001b[38;5;28;01mif\u001b[39;00m scheduled\n\u001b[32m    114\u001b[39m     \u001b[38;5;28;01melse\u001b[39;00m \u001b[38;5;28;01mNone\u001b[39;00m)\n\u001b[32m--> \u001b[39m\u001b[32m115\u001b[39m event_list = \u001b[38;5;28;43mself\u001b[39;49m\u001b[43m.\u001b[49m\u001b[43m_selector\u001b[49m\u001b[43m.\u001b[49m\u001b[43mselect\u001b[49m\u001b[43m(\u001b[49m\u001b[43mtimeout\u001b[49m\u001b[43m)\u001b[49m\n\u001b[32m    116\u001b[39m \u001b[38;5;28mself\u001b[39m._process_events(event_list)\n\u001b[32m    118\u001b[39m end_time = \u001b[38;5;28mself\u001b[39m.time() + \u001b[38;5;28mself\u001b[39m._clock_resolution\n",
      "\u001b[36mFile \u001b[39m\u001b[32m~/.pyenv/versions/3.11.7/lib/python3.11/selectors.py:566\u001b[39m, in \u001b[36mKqueueSelector.select\u001b[39m\u001b[34m(self, timeout)\u001b[39m\n\u001b[32m    564\u001b[39m ready = []\n\u001b[32m    565\u001b[39m \u001b[38;5;28;01mtry\u001b[39;00m:\n\u001b[32m--> \u001b[39m\u001b[32m566\u001b[39m     kev_list = \u001b[38;5;28mself\u001b[39m._selector.control(\u001b[38;5;28;01mNone\u001b[39;00m, max_ev, timeout)\n\u001b[32m    567\u001b[39m \u001b[38;5;28;01mexcept\u001b[39;00m \u001b[38;5;167;01mInterruptedError\u001b[39;00m:\n\u001b[32m    568\u001b[39m     \u001b[38;5;28;01mreturn\u001b[39;00m ready\n",
      "\u001b[31mKeyboardInterrupt\u001b[39m: "
     ]
    },
    {
     "name": "stdout",
     "output_type": "stream",
     "text": [
      "  4. Houston: Failed!\n",
      "  5. Miami: Failed!\n",
      "\u001b[32m2025-04-12 09:41:30\u001b[0m | \u001b[31m\u001b[1mERROR   \u001b[0m | \u001b[36mstarfish.utils.task_runner\u001b[0m | \u001b[34mtask_runner.py:30\u001b[0m | \u001b[31m\u001b[1mTask execution failed after 1 retries\u001b[0m\n",
      "\u001b[32m2025-04-12 09:41:30\u001b[0m | \u001b[31m\u001b[1mERROR   \u001b[0m | \u001b[36mstarfish.utils.job_manager\u001b[0m | \u001b[34mjob_manager.py:181\u001b[0m | \u001b[31m\u001b[1mError running task: Mock LLM failed to process city: 4. Houston\u001b[0m\n",
      "\u001b[32m2025-04-12 09:41:30\u001b[0m | \u001b[31m\u001b[1mERROR   \u001b[0m | \u001b[36mstarfish.utils.task_runner\u001b[0m | \u001b[34mtask_runner.py:30\u001b[0m | \u001b[31m\u001b[1mTask execution failed after 1 retries\u001b[0m\n",
      "\u001b[32m2025-04-12 09:41:30\u001b[0m | \u001b[31m\u001b[1mERROR   \u001b[0m | \u001b[36mstarfish.utils.job_manager\u001b[0m | \u001b[34mjob_manager.py:181\u001b[0m | \u001b[31m\u001b[1mError running task: Mock LLM failed to process city: 5. Miami\u001b[0m\n"
     ]
    }
   ],
   "source": [
    "\n",
    "@data_factory(max_concurrency=2)\n",
    "async def test1(city_name, num_records_per_city, fail_rate = 1, sleep_time = 0.05):\n",
    "    return await mock_llm_call(city_name, num_records_per_city, fail_rate = fail_rate, sleep_time = sleep_time)\n",
    "\n",
    "test1.run(data = [\n",
    "    {'city_name': '1. New York'},\n",
    "    {'city_name': '2. Los Angeles'},\n",
    "    {'city_name': '3. Chicago'},\n",
    "    {'city_name': '4. Houston'},\n",
    "    {'city_name': '5. Miami'}\n",
    "], num_records_per_city=5)"
   ]
  },
  {
   "cell_type": "markdown",
   "metadata": {},
   "source": [
    "Test Case 4:  ✅\n",
    "\n",
    "Description: Test kwags keyword overide by broacase variables\n",
    "\n",
    "Settings:\n",
    "- ✅ `Input Data`:  data + broadcast variable override"
   ]
  },
  {
   "cell_type": "code",
   "execution_count": 7,
   "metadata": {},
   "outputs": [
    {
     "name": "stdout",
     "output_type": "stream",
     "text": [
      "\u001b[32m2025-04-12 09:41:34\u001b[0m | \u001b[1mINFO    \u001b[0m | \u001b[36mstarfish.utils.data_factory\u001b[0m | \u001b[34mdata_factory.py:180\u001b[0m | \u001b[1m\n",
      "2. Creating master job...\u001b[0m\n",
      "\u001b[32m2025-04-12 09:41:34\u001b[0m | \u001b[1mINFO    \u001b[0m | \u001b[36mstarfish.utils.job_manager\u001b[0m | \u001b[34mjob_manager.py:154\u001b[0m | \u001b[1mNo task to run, waiting for task to complete\u001b[0m\n",
      "override_city_name: Successfully processed!\n",
      "override_city_name: Successfully processed!\n",
      "\u001b[32m2025-04-12 09:41:35\u001b[0m | \u001b[1mINFO    \u001b[0m | \u001b[36mstarfish.utils.data_factory\u001b[0m | \u001b[34mdata_factory.py:258\u001b[0m | \u001b[1mMaster job a4e8e8a4-89a8-4de7-9fe9-29b0e9c2124f as completed\u001b[0m\n"
     ]
    },
    {
     "data": {
      "text/html": [
       "<pre style=\"white-space:pre;overflow-x:auto;line-height:normal;font-family:Menlo,'DejaVu Sans Mono',consolas,'Courier New',monospace\"></pre>\n"
      ],
      "text/plain": []
     },
     "metadata": {},
     "output_type": "display_data"
    },
    {
     "data": {
      "text/plain": [
       "[['override_city_name_5'], ['override_city_name_3']]"
      ]
     },
     "execution_count": 7,
     "metadata": {},
     "output_type": "execute_result"
    }
   ],
   "source": [
    "\n",
    "@data_factory(max_concurrency=2)\n",
    "async def test1(city_name, num_records_per_city, fail_rate = 0.1, sleep_time = 0.05):\n",
    "    return await mock_llm_call(city_name, num_records_per_city, fail_rate = fail_rate, sleep_time = sleep_time)\n",
    "\n",
    "test1.run(data = [\n",
    "    {'city_name': '1. New York'},\n",
    "    {'city_name': '2. Los Angeles'},\n",
    "], city_name = 'override_city_name', \n",
    "num_records_per_city = 1)"
   ]
  },
  {
   "cell_type": "markdown",
   "metadata": {},
   "source": [
    "Test Case 5:  ✅\n",
    "\n",
    "Description: Test kwags keyword overide by list variables\n",
    "\n",
    "Settings:\n",
    "- ✅ `Input Data`:  data + broadcast variable override"
   ]
  },
  {
   "cell_type": "code",
   "execution_count": 8,
   "metadata": {},
   "outputs": [
    {
     "name": "stdout",
     "output_type": "stream",
     "text": [
      "\u001b[32m2025-04-12 09:41:36\u001b[0m | \u001b[1mINFO    \u001b[0m | \u001b[36mstarfish.utils.data_factory\u001b[0m | \u001b[34mdata_factory.py:180\u001b[0m | \u001b[1m\n",
      "2. Creating master job...\u001b[0m\n",
      "\u001b[32m2025-04-12 09:41:36\u001b[0m | \u001b[1mINFO    \u001b[0m | \u001b[36mstarfish.utils.job_manager\u001b[0m | \u001b[34mjob_manager.py:154\u001b[0m | \u001b[1mNo task to run, waiting for task to complete\u001b[0m\n",
      "1. override_city_name: Successfully processed!\n",
      "  2. override_city_name: Failed!\n",
      "\u001b[32m2025-04-12 09:41:37\u001b[0m | \u001b[1mINFO    \u001b[0m | \u001b[36mstarfish.utils.job_manager\u001b[0m | \u001b[34mjob_manager.py:154\u001b[0m | \u001b[1mNo task to run, waiting for task to complete\u001b[0m\n",
      "\u001b[32m2025-04-12 09:41:38\u001b[0m | \u001b[1mINFO    \u001b[0m | \u001b[36mstarfish.utils.job_manager\u001b[0m | \u001b[34mjob_manager.py:154\u001b[0m | \u001b[1mNo task to run, waiting for task to complete\u001b[0m\n",
      "2. override_city_name: Successfully processed!\n",
      "\u001b[32m2025-04-12 09:41:39\u001b[0m | \u001b[1mINFO    \u001b[0m | \u001b[36mstarfish.utils.data_factory\u001b[0m | \u001b[34mdata_factory.py:258\u001b[0m | \u001b[1mMaster job d5a9f32c-0423-434b-a39e-02384a6cb3a6 as completed\u001b[0m\n"
     ]
    },
    {
     "data": {
      "text/html": [
       "<pre style=\"white-space:pre;overflow-x:auto;line-height:normal;font-family:Menlo,'DejaVu Sans Mono',consolas,'Courier New',monospace\"></pre>\n"
      ],
      "text/plain": []
     },
     "metadata": {},
     "output_type": "display_data"
    },
    {
     "data": {
      "text/plain": [
       "[['1. override_city_name_5'], ['2. override_city_name_3']]"
      ]
     },
     "execution_count": 8,
     "metadata": {},
     "output_type": "execute_result"
    }
   ],
   "source": [
    "@data_factory(max_concurrency=2)\n",
    "async def test1(city_name, num_records_per_city, fail_rate = 0.1, sleep_time = 0.05):\n",
    "    return await mock_llm_call(city_name, num_records_per_city, fail_rate = fail_rate, sleep_time = sleep_time)\n",
    "\n",
    "test1.run(data = [\n",
    "    {'city_name': '1. New York'},\n",
    "    {'city_name': '2. Los Angeles'},\n",
    "], city_name = ['1. override_city_name', '2. override_city_name'], \n",
    "num_records_per_city = 1)"
   ]
  },
  {
   "cell_type": "markdown",
   "metadata": {},
   "source": [
    "Test Case 6:  ❌\n",
    "\n",
    "Description: Missing required kwags\n",
    "\n",
    "Expected behavior: it should raise an error about missing required kwags, somehow it is running indefinitely\n",
    "\n",
    "Settings:\n",
    "- ❌ `Missing required num_records_per_city`: \n"
   ]
  },
  {
   "cell_type": "code",
   "execution_count": 10,
   "metadata": {},
   "outputs": [
    {
     "ename": "AttributeError",
     "evalue": "'DataFactory' object has no attribute 'job_manager'",
     "output_type": "error",
     "traceback": [
      "\u001b[31m---------------------------------------------------------------------------\u001b[39m",
      "\u001b[31mTypeError\u001b[39m                                 Traceback (most recent call last)",
      "\u001b[36mFile \u001b[39m\u001b[32m~/1.python_dir/starfish/starfish/utils/data_factory.py:84\u001b[39m, in \u001b[36mDataFactory.__call__.<locals>.wrapper\u001b[39m\u001b[34m(*args, **kwargs)\u001b[39m\n\u001b[32m     83\u001b[39m \u001b[38;5;28mself\u001b[39m.input_data = \u001b[38;5;28mself\u001b[39m.input_converter(*args, **kwargs)\n\u001b[32m---> \u001b[39m\u001b[32m84\u001b[39m \u001b[38;5;28;43mself\u001b[39;49m\u001b[43m.\u001b[49m\u001b[43m_check_parameter_match\u001b[49m\u001b[43m(\u001b[49m\u001b[43m)\u001b[49m\n\u001b[32m     85\u001b[39m \u001b[38;5;28mself\u001b[39m.project_id = \u001b[38;5;28mstr\u001b[39m(uuid.uuid4())\n",
      "\u001b[36mFile \u001b[39m\u001b[32m~/1.python_dir/starfish/starfish/utils/data_factory.py:148\u001b[39m, in \u001b[36mDataFactory._check_parameter_match\u001b[39m\u001b[34m(self)\u001b[39m\n\u001b[32m    147\u001b[39m     \u001b[38;5;28;01mif\u001b[39;00m param_name \u001b[38;5;129;01mnot\u001b[39;00m \u001b[38;5;129;01min\u001b[39;00m batch_item:\n\u001b[32m--> \u001b[39m\u001b[32m148\u001b[39m         \u001b[38;5;28;01mraise\u001b[39;00m \u001b[38;5;167;01mTypeError\u001b[39;00m(\n\u001b[32m    149\u001b[39m             \u001b[33mf\u001b[39m\u001b[33m\"\u001b[39m\u001b[33mBatch item is missing required parameter \u001b[39m\u001b[33m'\u001b[39m\u001b[38;5;132;01m{\u001b[39;00mparam_name\u001b[38;5;132;01m}\u001b[39;00m\u001b[33m'\u001b[39m\u001b[33m \u001b[39m\u001b[33m\"\u001b[39m\n\u001b[32m    150\u001b[39m             \u001b[33mf\u001b[39m\u001b[33m\"\u001b[39m\u001b[33mfor function \u001b[39m\u001b[38;5;132;01m{\u001b[39;00m\u001b[38;5;28mself\u001b[39m.func.\u001b[34m__name__\u001b[39m\u001b[38;5;132;01m}\u001b[39;00m\u001b[33m\"\u001b[39m\n\u001b[32m    151\u001b[39m         )\n\u001b[32m    152\u001b[39m \u001b[38;5;66;03m# Check 2: Ensure all batch parameters exist in function signature\u001b[39;00m\n",
      "\u001b[31mTypeError\u001b[39m: Batch item is missing required parameter 'num_records_per_city' for function test1",
      "\nDuring handling of the above exception, another exception occurred:\n",
      "\u001b[31mAttributeError\u001b[39m                            Traceback (most recent call last)",
      "\u001b[36mCell\u001b[39m\u001b[36m \u001b[39m\u001b[32mIn[10]\u001b[39m\u001b[32m, line 5\u001b[39m\n\u001b[32m      1\u001b[39m \u001b[38;5;129m@data_factory\u001b[39m(max_concurrency=\u001b[32m2\u001b[39m)\n\u001b[32m      2\u001b[39m \u001b[38;5;28;01masync\u001b[39;00m \u001b[38;5;28;01mdef\u001b[39;00m\u001b[38;5;250m \u001b[39m\u001b[34mtest1\u001b[39m(city_name, num_records_per_city, fail_rate = \u001b[32m0.1\u001b[39m, sleep_time = \u001b[32m0.05\u001b[39m):\n\u001b[32m      3\u001b[39m     \u001b[38;5;28;01mreturn\u001b[39;00m \u001b[38;5;28;01mawait\u001b[39;00m mock_llm_call(city_name, num_records_per_city, fail_rate = fail_rate, sleep_time = sleep_time)\n\u001b[32m----> \u001b[39m\u001b[32m5\u001b[39m \u001b[43mtest1\u001b[49m\u001b[43m.\u001b[49m\u001b[43mrun\u001b[49m\u001b[43m(\u001b[49m\u001b[43mdata\u001b[49m\u001b[43m \u001b[49m\u001b[43m=\u001b[49m\u001b[43m \u001b[49m\u001b[43m[\u001b[49m\n\u001b[32m      6\u001b[39m \u001b[43m    \u001b[49m\u001b[43m{\u001b[49m\u001b[33;43m'\u001b[39;49m\u001b[33;43mcity_name\u001b[39;49m\u001b[33;43m'\u001b[39;49m\u001b[43m:\u001b[49m\u001b[43m \u001b[49m\u001b[33;43m'\u001b[39;49m\u001b[33;43m1. New York\u001b[39;49m\u001b[33;43m'\u001b[39;49m\u001b[43m}\u001b[49m\u001b[43m,\u001b[49m\n\u001b[32m      7\u001b[39m \u001b[43m    \u001b[49m\u001b[43m{\u001b[49m\u001b[33;43m'\u001b[39;49m\u001b[33;43mcity_name\u001b[39;49m\u001b[33;43m'\u001b[39;49m\u001b[43m:\u001b[49m\u001b[43m \u001b[49m\u001b[33;43m'\u001b[39;49m\u001b[33;43m2. Los Angeles\u001b[39;49m\u001b[33;43m'\u001b[39;49m\u001b[43m}\u001b[49m\u001b[43m,\u001b[49m\n\u001b[32m      8\u001b[39m \u001b[43m]\u001b[49m\u001b[43m,\u001b[49m\u001b[43m \u001b[49m\u001b[43mcity_name\u001b[49m\u001b[43m \u001b[49m\u001b[43m=\u001b[49m\u001b[43m \u001b[49m\u001b[33;43m'\u001b[39;49m\u001b[33;43moverride_city_name\u001b[39;49m\u001b[33;43m'\u001b[39;49m\u001b[43m,\u001b[49m\u001b[43m  \u001b[49m\n\u001b[32m      9\u001b[39m \u001b[43m)\u001b[49m\n",
      "\u001b[36mFile \u001b[39m\u001b[32m~/1.python_dir/starfish/starfish/utils/data_factory.py:111\u001b[39m, in \u001b[36mDataFactory.__call__.<locals>.run\u001b[39m\u001b[34m(*args, **kwargs)\u001b[39m\n\u001b[32m    109\u001b[39m     \u001b[38;5;28mself\u001b[39m.master_job_id = kwargs[\u001b[33m'\u001b[39m\u001b[33mmaster_job_id\u001b[39m\u001b[33m'\u001b[39m]\n\u001b[32m    110\u001b[39m     \u001b[38;5;28mself\u001b[39m.job_config[RUN_MODE] = RUN_MODE_RE_RUN\n\u001b[32m--> \u001b[39m\u001b[32m111\u001b[39m \u001b[38;5;28;01mreturn\u001b[39;00m \u001b[43mwrapper\u001b[49m\u001b[43m(\u001b[49m\u001b[43m*\u001b[49m\u001b[43margs\u001b[49m\u001b[43m,\u001b[49m\u001b[43m \u001b[49m\u001b[43m*\u001b[49m\u001b[43m*\u001b[49m\u001b[43mkwargs\u001b[49m\u001b[43m)\u001b[49m\n",
      "\u001b[36mFile \u001b[39m\u001b[32m~/1.python_dir/starfish/starfish/utils/data_factory.py:102\u001b[39m, in \u001b[36mDataFactory.__call__.<locals>.wrapper\u001b[39m\u001b[34m(*args, **kwargs)\u001b[39m\n\u001b[32m     99\u001b[39m \u001b[38;5;28;01mfinally\u001b[39;00m:\n\u001b[32m    100\u001b[39m     \u001b[38;5;66;03m# Ensure progress bar is properly closed\u001b[39;00m\n\u001b[32m    101\u001b[39m     \u001b[38;5;28;01mif\u001b[39;00m run_mode != RUN_MODE_DRY_RUN:\n\u001b[32m--> \u001b[39m\u001b[32m102\u001b[39m         \u001b[38;5;28;43mself\u001b[39;49m\u001b[43m.\u001b[49m\u001b[43mcomplete_master_job\u001b[49m\u001b[43m(\u001b[49m\u001b[43m)\u001b[49m\n\u001b[32m    103\u001b[39m         \u001b[38;5;28mself\u001b[39m.close_storage()\n\u001b[32m    104\u001b[39m         \u001b[38;5;28mself\u001b[39m.show_job_progress_status()\n",
      "\u001b[36mFile \u001b[39m\u001b[32m~/1.python_dir/starfish/starfish/utils/data_factory.py:262\u001b[39m, in \u001b[36mDataFactory.complete_master_job\u001b[39m\u001b[34m(self)\u001b[39m\n\u001b[32m    261\u001b[39m \u001b[38;5;28;01mdef\u001b[39;00m\u001b[38;5;250m \u001b[39m\u001b[34mcomplete_master_job\u001b[39m(\u001b[38;5;28mself\u001b[39m):\n\u001b[32m--> \u001b[39m\u001b[32m262\u001b[39m     \u001b[43masyncio\u001b[49m\u001b[43m.\u001b[49m\u001b[43mrun\u001b[49m\u001b[43m(\u001b[49m\u001b[38;5;28;43mself\u001b[39;49m\u001b[43m.\u001b[49m\u001b[43m_complete_master_job\u001b[49m\u001b[43m(\u001b[49m\u001b[43m)\u001b[49m\u001b[43m)\u001b[49m\n",
      "\u001b[36mFile \u001b[39m\u001b[32m~/Library/Caches/pypoetry/virtualenvs/starfish-T7IInzTH-py3.11/lib/python3.11/site-packages/nest_asyncio.py:30\u001b[39m, in \u001b[36m_patch_asyncio.<locals>.run\u001b[39m\u001b[34m(main, debug)\u001b[39m\n\u001b[32m     28\u001b[39m task = asyncio.ensure_future(main)\n\u001b[32m     29\u001b[39m \u001b[38;5;28;01mtry\u001b[39;00m:\n\u001b[32m---> \u001b[39m\u001b[32m30\u001b[39m     \u001b[38;5;28;01mreturn\u001b[39;00m \u001b[43mloop\u001b[49m\u001b[43m.\u001b[49m\u001b[43mrun_until_complete\u001b[49m\u001b[43m(\u001b[49m\u001b[43mtask\u001b[49m\u001b[43m)\u001b[49m\n\u001b[32m     31\u001b[39m \u001b[38;5;28;01mfinally\u001b[39;00m:\n\u001b[32m     32\u001b[39m     \u001b[38;5;28;01mif\u001b[39;00m \u001b[38;5;129;01mnot\u001b[39;00m task.done():\n",
      "\u001b[36mFile \u001b[39m\u001b[32m~/Library/Caches/pypoetry/virtualenvs/starfish-T7IInzTH-py3.11/lib/python3.11/site-packages/nest_asyncio.py:98\u001b[39m, in \u001b[36m_patch_loop.<locals>.run_until_complete\u001b[39m\u001b[34m(self, future)\u001b[39m\n\u001b[32m     95\u001b[39m \u001b[38;5;28;01mif\u001b[39;00m \u001b[38;5;129;01mnot\u001b[39;00m f.done():\n\u001b[32m     96\u001b[39m     \u001b[38;5;28;01mraise\u001b[39;00m \u001b[38;5;167;01mRuntimeError\u001b[39;00m(\n\u001b[32m     97\u001b[39m         \u001b[33m'\u001b[39m\u001b[33mEvent loop stopped before Future completed.\u001b[39m\u001b[33m'\u001b[39m)\n\u001b[32m---> \u001b[39m\u001b[32m98\u001b[39m \u001b[38;5;28;01mreturn\u001b[39;00m \u001b[43mf\u001b[49m\u001b[43m.\u001b[49m\u001b[43mresult\u001b[49m\u001b[43m(\u001b[49m\u001b[43m)\u001b[49m\n",
      "\u001b[36mFile \u001b[39m\u001b[32m~/.pyenv/versions/3.11.7/lib/python3.11/asyncio/futures.py:203\u001b[39m, in \u001b[36mFuture.result\u001b[39m\u001b[34m(self)\u001b[39m\n\u001b[32m    201\u001b[39m \u001b[38;5;28mself\u001b[39m.__log_traceback = \u001b[38;5;28;01mFalse\u001b[39;00m\n\u001b[32m    202\u001b[39m \u001b[38;5;28;01mif\u001b[39;00m \u001b[38;5;28mself\u001b[39m._exception \u001b[38;5;129;01mis\u001b[39;00m \u001b[38;5;129;01mnot\u001b[39;00m \u001b[38;5;28;01mNone\u001b[39;00m:\n\u001b[32m--> \u001b[39m\u001b[32m203\u001b[39m     \u001b[38;5;28;01mraise\u001b[39;00m \u001b[38;5;28mself\u001b[39m._exception.with_traceback(\u001b[38;5;28mself\u001b[39m._exception_tb)\n\u001b[32m    204\u001b[39m \u001b[38;5;28;01mreturn\u001b[39;00m \u001b[38;5;28mself\u001b[39m._result\n",
      "\u001b[36mFile \u001b[39m\u001b[32m~/.pyenv/versions/3.11.7/lib/python3.11/asyncio/tasks.py:277\u001b[39m, in \u001b[36mTask.__step\u001b[39m\u001b[34m(***failed resolving arguments***)\u001b[39m\n\u001b[32m    273\u001b[39m \u001b[38;5;28;01mtry\u001b[39;00m:\n\u001b[32m    274\u001b[39m     \u001b[38;5;28;01mif\u001b[39;00m exc \u001b[38;5;129;01mis\u001b[39;00m \u001b[38;5;28;01mNone\u001b[39;00m:\n\u001b[32m    275\u001b[39m         \u001b[38;5;66;03m# We use the `send` method directly, because coroutines\u001b[39;00m\n\u001b[32m    276\u001b[39m         \u001b[38;5;66;03m# don't have `__iter__` and `__next__` methods.\u001b[39;00m\n\u001b[32m--> \u001b[39m\u001b[32m277\u001b[39m         result = coro.send(\u001b[38;5;28;01mNone\u001b[39;00m)\n\u001b[32m    278\u001b[39m     \u001b[38;5;28;01melse\u001b[39;00m:\n\u001b[32m    279\u001b[39m         result = coro.throw(exc)\n",
      "\u001b[36mFile \u001b[39m\u001b[32m~/1.python_dir/starfish/starfish/utils/data_factory.py:253\u001b[39m, in \u001b[36mDataFactory._complete_master_job\u001b[39m\u001b[34m(self)\u001b[39m\n\u001b[32m    251\u001b[39m now = datetime.datetime.now(datetime.timezone.utc)\n\u001b[32m    252\u001b[39m \u001b[38;5;66;03m#todo : how to collect all the execution job status?\u001b[39;00m\n\u001b[32m--> \u001b[39m\u001b[32m253\u001b[39m summary = {STATUS_COMPLETED: \u001b[38;5;28;43mself\u001b[39;49m\u001b[43m.\u001b[49m\u001b[43mjob_manager\u001b[49m.completed_count,\n\u001b[32m    254\u001b[39m             STATUS_FILTERED: \u001b[38;5;28mself\u001b[39m.job_manager.filtered_count,\n\u001b[32m    255\u001b[39m             STATUS_DUPLICATE: \u001b[38;5;28mself\u001b[39m.job_manager.duplicate_count,\n\u001b[32m    256\u001b[39m             STATUS_FAILED: \u001b[38;5;28mself\u001b[39m.job_manager.failed_count}\n\u001b[32m    257\u001b[39m \u001b[38;5;28;01mawait\u001b[39;00m \u001b[38;5;28mself\u001b[39m.factory_storage.log_master_job_end(\u001b[38;5;28mself\u001b[39m.master_job_id, STATUS_COMPLETED, summary, now, now)\n\u001b[32m    258\u001b[39m logger.info(\u001b[33mf\u001b[39m\u001b[33m\"\u001b[39m\u001b[33mMaster job \u001b[39m\u001b[38;5;132;01m{\u001b[39;00m\u001b[38;5;28mself\u001b[39m.master_job_id\u001b[38;5;132;01m}\u001b[39;00m\u001b[33m as completed\u001b[39m\u001b[33m\"\u001b[39m)\n",
      "\u001b[31mAttributeError\u001b[39m: 'DataFactory' object has no attribute 'job_manager'"
     ]
    }
   ],
   "source": [
    "\n",
    "@data_factory(max_concurrency=2)\n",
    "async def test1(city_name, num_records_per_city, fail_rate = 0.1, sleep_time = 0.05):\n",
    "    return await mock_llm_call(city_name, num_records_per_city, fail_rate = fail_rate, sleep_time = sleep_time)\n",
    "\n",
    "test1.run(data = [\n",
    "    {'city_name': '1. New York'},\n",
    "    {'city_name': '2. Los Angeles'},\n",
    "], city_name = 'override_city_name',  \n",
    ")"
   ]
  },
  {
   "cell_type": "markdown",
   "metadata": {},
   "source": [
    "Test Case 7:  ❌\n",
    "\n",
    "Description: Pass extra parameters that are not defined in the workflow\n",
    "\n",
    "Expected behavior: it should raise an error about extra kwargs, somehow it is running indefinitely\n",
    "\n",
    "Settings:\n",
    "- ❌ `Add additional parameters'\n"
   ]
  },
  {
   "cell_type": "code",
   "execution_count": 11,
   "metadata": {},
   "outputs": [
    {
     "ename": "AttributeError",
     "evalue": "'DataFactory' object has no attribute 'job_manager'",
     "output_type": "error",
     "traceback": [
      "\u001b[31m---------------------------------------------------------------------------\u001b[39m",
      "\u001b[31mTypeError\u001b[39m                                 Traceback (most recent call last)",
      "\u001b[36mFile \u001b[39m\u001b[32m~/1.python_dir/starfish/starfish/utils/data_factory.py:84\u001b[39m, in \u001b[36mDataFactory.__call__.<locals>.wrapper\u001b[39m\u001b[34m(*args, **kwargs)\u001b[39m\n\u001b[32m     83\u001b[39m \u001b[38;5;28mself\u001b[39m.input_data = \u001b[38;5;28mself\u001b[39m.input_converter(*args, **kwargs)\n\u001b[32m---> \u001b[39m\u001b[32m84\u001b[39m \u001b[38;5;28;43mself\u001b[39;49m\u001b[43m.\u001b[49m\u001b[43m_check_parameter_match\u001b[49m\u001b[43m(\u001b[49m\u001b[43m)\u001b[49m\n\u001b[32m     85\u001b[39m \u001b[38;5;28mself\u001b[39m.project_id = \u001b[38;5;28mstr\u001b[39m(uuid.uuid4())\n",
      "\u001b[36mFile \u001b[39m\u001b[32m~/1.python_dir/starfish/starfish/utils/data_factory.py:155\u001b[39m, in \u001b[36mDataFactory._check_parameter_match\u001b[39m\u001b[34m(self)\u001b[39m\n\u001b[32m    154\u001b[39m \u001b[38;5;28;01mif\u001b[39;00m batch_param \u001b[38;5;129;01mnot\u001b[39;00m \u001b[38;5;129;01min\u001b[39;00m func_sig.parameters:\n\u001b[32m--> \u001b[39m\u001b[32m155\u001b[39m     \u001b[38;5;28;01mraise\u001b[39;00m \u001b[38;5;167;01mTypeError\u001b[39;00m(\n\u001b[32m    156\u001b[39m         \u001b[33mf\u001b[39m\u001b[33m\"\u001b[39m\u001b[33mBatch items contains unexpected parameter \u001b[39m\u001b[33m'\u001b[39m\u001b[38;5;132;01m{\u001b[39;00mbatch_param\u001b[38;5;132;01m}\u001b[39;00m\u001b[33m'\u001b[39m\u001b[33m \u001b[39m\u001b[33m\"\u001b[39m\n\u001b[32m    157\u001b[39m         \u001b[33mf\u001b[39m\u001b[33m\"\u001b[39m\u001b[33mnot found in function \u001b[39m\u001b[38;5;132;01m{\u001b[39;00m\u001b[38;5;28mself\u001b[39m.func.\u001b[34m__name__\u001b[39m\u001b[38;5;132;01m}\u001b[39;00m\u001b[33m\"\u001b[39m\n\u001b[32m    158\u001b[39m     )\n",
      "\u001b[31mTypeError\u001b[39m: Batch items contains unexpected parameter 'random_param' not found in function test1",
      "\nDuring handling of the above exception, another exception occurred:\n",
      "\u001b[31mAttributeError\u001b[39m                            Traceback (most recent call last)",
      "\u001b[36mCell\u001b[39m\u001b[36m \u001b[39m\u001b[32mIn[11]\u001b[39m\u001b[32m, line 5\u001b[39m\n\u001b[32m      1\u001b[39m \u001b[38;5;129m@data_factory\u001b[39m(max_concurrency=\u001b[32m2\u001b[39m)\n\u001b[32m      2\u001b[39m \u001b[38;5;28;01masync\u001b[39;00m \u001b[38;5;28;01mdef\u001b[39;00m\u001b[38;5;250m \u001b[39m\u001b[34mtest1\u001b[39m(city_name, num_records_per_city, fail_rate = \u001b[32m0.1\u001b[39m, sleep_time = \u001b[32m0.05\u001b[39m):\n\u001b[32m      3\u001b[39m     \u001b[38;5;28;01mreturn\u001b[39;00m \u001b[38;5;28;01mawait\u001b[39;00m mock_llm_call(city_name, num_records_per_city, fail_rate = fail_rate, sleep_time = sleep_time)\n\u001b[32m----> \u001b[39m\u001b[32m5\u001b[39m \u001b[43mtest1\u001b[49m\u001b[43m.\u001b[49m\u001b[43mrun\u001b[49m\u001b[43m(\u001b[49m\u001b[43mdata\u001b[49m\u001b[43m \u001b[49m\u001b[43m=\u001b[49m\u001b[43m \u001b[49m\u001b[43m[\u001b[49m\n\u001b[32m      6\u001b[39m \u001b[43m    \u001b[49m\u001b[43m{\u001b[49m\u001b[33;43m'\u001b[39;49m\u001b[33;43mcity_name\u001b[39;49m\u001b[33;43m'\u001b[39;49m\u001b[43m:\u001b[49m\u001b[43m \u001b[49m\u001b[33;43m'\u001b[39;49m\u001b[33;43m1. New York\u001b[39;49m\u001b[33;43m'\u001b[39;49m\u001b[43m}\u001b[49m\u001b[43m,\u001b[49m\n\u001b[32m      7\u001b[39m \u001b[43m    \u001b[49m\u001b[43m{\u001b[49m\u001b[33;43m'\u001b[39;49m\u001b[33;43mcity_name\u001b[39;49m\u001b[33;43m'\u001b[39;49m\u001b[43m:\u001b[49m\u001b[43m \u001b[49m\u001b[33;43m'\u001b[39;49m\u001b[33;43m2. Los Angeles\u001b[39;49m\u001b[33;43m'\u001b[39;49m\u001b[43m}\u001b[49m\u001b[43m,\u001b[49m\n\u001b[32m      8\u001b[39m \u001b[43m]\u001b[49m\u001b[43m,\u001b[49m\u001b[43m \u001b[49m\u001b[43mnum_records_per_city\u001b[49m\u001b[43m \u001b[49m\u001b[43m=\u001b[49m\u001b[43m \u001b[49m\u001b[32;43m1\u001b[39;49m\u001b[43m,\u001b[49m\u001b[43m \u001b[49m\u001b[43mrandom_param\u001b[49m\u001b[43m \u001b[49m\u001b[43m=\u001b[49m\u001b[43m \u001b[49m\u001b[33;43m'\u001b[39;49m\u001b[33;43mrandom_param\u001b[39;49m\u001b[33;43m'\u001b[39;49m\u001b[43m)\u001b[49m\n",
      "\u001b[36mFile \u001b[39m\u001b[32m~/1.python_dir/starfish/starfish/utils/data_factory.py:111\u001b[39m, in \u001b[36mDataFactory.__call__.<locals>.run\u001b[39m\u001b[34m(*args, **kwargs)\u001b[39m\n\u001b[32m    109\u001b[39m     \u001b[38;5;28mself\u001b[39m.master_job_id = kwargs[\u001b[33m'\u001b[39m\u001b[33mmaster_job_id\u001b[39m\u001b[33m'\u001b[39m]\n\u001b[32m    110\u001b[39m     \u001b[38;5;28mself\u001b[39m.job_config[RUN_MODE] = RUN_MODE_RE_RUN\n\u001b[32m--> \u001b[39m\u001b[32m111\u001b[39m \u001b[38;5;28;01mreturn\u001b[39;00m \u001b[43mwrapper\u001b[49m\u001b[43m(\u001b[49m\u001b[43m*\u001b[49m\u001b[43margs\u001b[49m\u001b[43m,\u001b[49m\u001b[43m \u001b[49m\u001b[43m*\u001b[49m\u001b[43m*\u001b[49m\u001b[43mkwargs\u001b[49m\u001b[43m)\u001b[49m\n",
      "\u001b[36mFile \u001b[39m\u001b[32m~/1.python_dir/starfish/starfish/utils/data_factory.py:102\u001b[39m, in \u001b[36mDataFactory.__call__.<locals>.wrapper\u001b[39m\u001b[34m(*args, **kwargs)\u001b[39m\n\u001b[32m     99\u001b[39m \u001b[38;5;28;01mfinally\u001b[39;00m:\n\u001b[32m    100\u001b[39m     \u001b[38;5;66;03m# Ensure progress bar is properly closed\u001b[39;00m\n\u001b[32m    101\u001b[39m     \u001b[38;5;28;01mif\u001b[39;00m run_mode != RUN_MODE_DRY_RUN:\n\u001b[32m--> \u001b[39m\u001b[32m102\u001b[39m         \u001b[38;5;28;43mself\u001b[39;49m\u001b[43m.\u001b[49m\u001b[43mcomplete_master_job\u001b[49m\u001b[43m(\u001b[49m\u001b[43m)\u001b[49m\n\u001b[32m    103\u001b[39m         \u001b[38;5;28mself\u001b[39m.close_storage()\n\u001b[32m    104\u001b[39m         \u001b[38;5;28mself\u001b[39m.show_job_progress_status()\n",
      "\u001b[36mFile \u001b[39m\u001b[32m~/1.python_dir/starfish/starfish/utils/data_factory.py:262\u001b[39m, in \u001b[36mDataFactory.complete_master_job\u001b[39m\u001b[34m(self)\u001b[39m\n\u001b[32m    261\u001b[39m \u001b[38;5;28;01mdef\u001b[39;00m\u001b[38;5;250m \u001b[39m\u001b[34mcomplete_master_job\u001b[39m(\u001b[38;5;28mself\u001b[39m):\n\u001b[32m--> \u001b[39m\u001b[32m262\u001b[39m     \u001b[43masyncio\u001b[49m\u001b[43m.\u001b[49m\u001b[43mrun\u001b[49m\u001b[43m(\u001b[49m\u001b[38;5;28;43mself\u001b[39;49m\u001b[43m.\u001b[49m\u001b[43m_complete_master_job\u001b[49m\u001b[43m(\u001b[49m\u001b[43m)\u001b[49m\u001b[43m)\u001b[49m\n",
      "\u001b[36mFile \u001b[39m\u001b[32m~/Library/Caches/pypoetry/virtualenvs/starfish-T7IInzTH-py3.11/lib/python3.11/site-packages/nest_asyncio.py:30\u001b[39m, in \u001b[36m_patch_asyncio.<locals>.run\u001b[39m\u001b[34m(main, debug)\u001b[39m\n\u001b[32m     28\u001b[39m task = asyncio.ensure_future(main)\n\u001b[32m     29\u001b[39m \u001b[38;5;28;01mtry\u001b[39;00m:\n\u001b[32m---> \u001b[39m\u001b[32m30\u001b[39m     \u001b[38;5;28;01mreturn\u001b[39;00m \u001b[43mloop\u001b[49m\u001b[43m.\u001b[49m\u001b[43mrun_until_complete\u001b[49m\u001b[43m(\u001b[49m\u001b[43mtask\u001b[49m\u001b[43m)\u001b[49m\n\u001b[32m     31\u001b[39m \u001b[38;5;28;01mfinally\u001b[39;00m:\n\u001b[32m     32\u001b[39m     \u001b[38;5;28;01mif\u001b[39;00m \u001b[38;5;129;01mnot\u001b[39;00m task.done():\n",
      "\u001b[36mFile \u001b[39m\u001b[32m~/Library/Caches/pypoetry/virtualenvs/starfish-T7IInzTH-py3.11/lib/python3.11/site-packages/nest_asyncio.py:98\u001b[39m, in \u001b[36m_patch_loop.<locals>.run_until_complete\u001b[39m\u001b[34m(self, future)\u001b[39m\n\u001b[32m     95\u001b[39m \u001b[38;5;28;01mif\u001b[39;00m \u001b[38;5;129;01mnot\u001b[39;00m f.done():\n\u001b[32m     96\u001b[39m     \u001b[38;5;28;01mraise\u001b[39;00m \u001b[38;5;167;01mRuntimeError\u001b[39;00m(\n\u001b[32m     97\u001b[39m         \u001b[33m'\u001b[39m\u001b[33mEvent loop stopped before Future completed.\u001b[39m\u001b[33m'\u001b[39m)\n\u001b[32m---> \u001b[39m\u001b[32m98\u001b[39m \u001b[38;5;28;01mreturn\u001b[39;00m \u001b[43mf\u001b[49m\u001b[43m.\u001b[49m\u001b[43mresult\u001b[49m\u001b[43m(\u001b[49m\u001b[43m)\u001b[49m\n",
      "\u001b[36mFile \u001b[39m\u001b[32m~/.pyenv/versions/3.11.7/lib/python3.11/asyncio/futures.py:203\u001b[39m, in \u001b[36mFuture.result\u001b[39m\u001b[34m(self)\u001b[39m\n\u001b[32m    201\u001b[39m \u001b[38;5;28mself\u001b[39m.__log_traceback = \u001b[38;5;28;01mFalse\u001b[39;00m\n\u001b[32m    202\u001b[39m \u001b[38;5;28;01mif\u001b[39;00m \u001b[38;5;28mself\u001b[39m._exception \u001b[38;5;129;01mis\u001b[39;00m \u001b[38;5;129;01mnot\u001b[39;00m \u001b[38;5;28;01mNone\u001b[39;00m:\n\u001b[32m--> \u001b[39m\u001b[32m203\u001b[39m     \u001b[38;5;28;01mraise\u001b[39;00m \u001b[38;5;28mself\u001b[39m._exception.with_traceback(\u001b[38;5;28mself\u001b[39m._exception_tb)\n\u001b[32m    204\u001b[39m \u001b[38;5;28;01mreturn\u001b[39;00m \u001b[38;5;28mself\u001b[39m._result\n",
      "\u001b[36mFile \u001b[39m\u001b[32m~/.pyenv/versions/3.11.7/lib/python3.11/asyncio/tasks.py:277\u001b[39m, in \u001b[36mTask.__step\u001b[39m\u001b[34m(***failed resolving arguments***)\u001b[39m\n\u001b[32m    273\u001b[39m \u001b[38;5;28;01mtry\u001b[39;00m:\n\u001b[32m    274\u001b[39m     \u001b[38;5;28;01mif\u001b[39;00m exc \u001b[38;5;129;01mis\u001b[39;00m \u001b[38;5;28;01mNone\u001b[39;00m:\n\u001b[32m    275\u001b[39m         \u001b[38;5;66;03m# We use the `send` method directly, because coroutines\u001b[39;00m\n\u001b[32m    276\u001b[39m         \u001b[38;5;66;03m# don't have `__iter__` and `__next__` methods.\u001b[39;00m\n\u001b[32m--> \u001b[39m\u001b[32m277\u001b[39m         result = coro.send(\u001b[38;5;28;01mNone\u001b[39;00m)\n\u001b[32m    278\u001b[39m     \u001b[38;5;28;01melse\u001b[39;00m:\n\u001b[32m    279\u001b[39m         result = coro.throw(exc)\n",
      "\u001b[36mFile \u001b[39m\u001b[32m~/1.python_dir/starfish/starfish/utils/data_factory.py:253\u001b[39m, in \u001b[36mDataFactory._complete_master_job\u001b[39m\u001b[34m(self)\u001b[39m\n\u001b[32m    251\u001b[39m now = datetime.datetime.now(datetime.timezone.utc)\n\u001b[32m    252\u001b[39m \u001b[38;5;66;03m#todo : how to collect all the execution job status?\u001b[39;00m\n\u001b[32m--> \u001b[39m\u001b[32m253\u001b[39m summary = {STATUS_COMPLETED: \u001b[38;5;28;43mself\u001b[39;49m\u001b[43m.\u001b[49m\u001b[43mjob_manager\u001b[49m.completed_count,\n\u001b[32m    254\u001b[39m             STATUS_FILTERED: \u001b[38;5;28mself\u001b[39m.job_manager.filtered_count,\n\u001b[32m    255\u001b[39m             STATUS_DUPLICATE: \u001b[38;5;28mself\u001b[39m.job_manager.duplicate_count,\n\u001b[32m    256\u001b[39m             STATUS_FAILED: \u001b[38;5;28mself\u001b[39m.job_manager.failed_count}\n\u001b[32m    257\u001b[39m \u001b[38;5;28;01mawait\u001b[39;00m \u001b[38;5;28mself\u001b[39m.factory_storage.log_master_job_end(\u001b[38;5;28mself\u001b[39m.master_job_id, STATUS_COMPLETED, summary, now, now)\n\u001b[32m    258\u001b[39m logger.info(\u001b[33mf\u001b[39m\u001b[33m\"\u001b[39m\u001b[33mMaster job \u001b[39m\u001b[38;5;132;01m{\u001b[39;00m\u001b[38;5;28mself\u001b[39m.master_job_id\u001b[38;5;132;01m}\u001b[39;00m\u001b[33m as completed\u001b[39m\u001b[33m\"\u001b[39m)\n",
      "\u001b[31mAttributeError\u001b[39m: 'DataFactory' object has no attribute 'job_manager'"
     ]
    }
   ],
   "source": [
    "\n",
    "@data_factory(max_concurrency=2)\n",
    "async def test1(city_name, num_records_per_city, fail_rate = 0.1, sleep_time = 0.05):\n",
    "    return await mock_llm_call(city_name, num_records_per_city, fail_rate = fail_rate, sleep_time = sleep_time)\n",
    "\n",
    "test1.run(data = [\n",
    "    {'city_name': '1. New York'},\n",
    "    {'city_name': '2. Los Angeles'},\n",
    "], num_records_per_city = 1, random_param = 'random_param')"
   ]
  },
  {
   "cell_type": "markdown",
   "metadata": {},
   "source": [
    "Test Case 8:  ❌\n",
    "\n",
    "Description: Test hooks that change the state of the workflow and workflow can access to this data\n",
    "\n",
    "Expected behavior: it should be able to see the state changed which we do - but it is running in indefinite loop\n",
    "\n",
    "Settings:\n",
    "- ❌ `Add additional parameters'\n"
   ]
  },
  {
   "cell_type": "code",
   "execution_count": 13,
   "metadata": {},
   "outputs": [
    {
     "name": "stdout",
     "output_type": "stream",
     "text": [
      "\u001b[32m2025-04-12 09:42:57\u001b[0m | \u001b[1mINFO    \u001b[0m | \u001b[36mstarfish.utils.data_factory\u001b[0m | \u001b[34mdata_factory.py:180\u001b[0m | \u001b[1m\n",
      "2. Creating master job...\u001b[0m\n",
      "\u001b[32m2025-04-12 09:42:57\u001b[0m | \u001b[1mINFO    \u001b[0m | \u001b[36mstarfish.utils.job_manager\u001b[0m | \u001b[34mjob_manager.py:154\u001b[0m | \u001b[1mNo task to run, waiting for task to complete\u001b[0m\n",
      "\u001b[32m2025-04-12 09:42:58\u001b[0m | \u001b[1mINFO    \u001b[0m | \u001b[36mstarfish.utils.job_manager\u001b[0m | \u001b[34mjob_manager.py:154\u001b[0m | \u001b[1mNo task to run, waiting for task to complete\u001b[0m\n",
      "\u001b[32m2025-04-12 09:42:59\u001b[0m | \u001b[31m\u001b[1mERROR   \u001b[0m | \u001b[36mstarfish.utils.task_runner\u001b[0m | \u001b[34mtask_runner.py:30\u001b[0m | \u001b[31m\u001b[1mTask execution failed after 1 retries\u001b[0m\n",
      "\u001b[32m2025-04-12 09:42:59\u001b[0m | \u001b[31m\u001b[1mERROR   \u001b[0m | \u001b[36mstarfish.utils.job_manager\u001b[0m | \u001b[34mjob_manager.py:181\u001b[0m | \u001b[31m\u001b[1mError running task: 'function' object has no attribute 'SharedState'\u001b[0m\n",
      "\u001b[32m2025-04-12 09:42:59\u001b[0m | \u001b[31m\u001b[1mERROR   \u001b[0m | \u001b[36mstarfish.utils.task_runner\u001b[0m | \u001b[34mtask_runner.py:30\u001b[0m | \u001b[31m\u001b[1mTask execution failed after 1 retries\u001b[0m\n",
      "\u001b[32m2025-04-12 09:42:59\u001b[0m | \u001b[31m\u001b[1mERROR   \u001b[0m | \u001b[36mstarfish.utils.job_manager\u001b[0m | \u001b[34mjob_manager.py:181\u001b[0m | \u001b[31m\u001b[1mError running task: 'function' object has no attribute 'SharedState'\u001b[0m\n",
      "\u001b[32m2025-04-12 09:42:59\u001b[0m | \u001b[1mINFO    \u001b[0m | \u001b[36mstarfish.utils.job_manager\u001b[0m | \u001b[34mjob_manager.py:154\u001b[0m | \u001b[1mNo task to run, waiting for task to complete\u001b[0m\n",
      "\u001b[32m2025-04-12 09:43:00\u001b[0m | \u001b[1mINFO    \u001b[0m | \u001b[36mstarfish.utils.job_manager\u001b[0m | \u001b[34mjob_manager.py:154\u001b[0m | \u001b[1mNo task to run, waiting for task to complete\u001b[0m\n",
      "\u001b[32m2025-04-12 09:43:01\u001b[0m | \u001b[1mINFO    \u001b[0m | \u001b[36mstarfish.utils.job_manager\u001b[0m | \u001b[34mjob_manager.py:154\u001b[0m | \u001b[1mNo task to run, waiting for task to complete\u001b[0m\n",
      "\u001b[32m2025-04-12 09:43:01\u001b[0m | \u001b[31m\u001b[1mERROR   \u001b[0m | \u001b[36mstarfish.utils.task_runner\u001b[0m | \u001b[34mtask_runner.py:30\u001b[0m | \u001b[31m\u001b[1mTask execution failed after 1 retries\u001b[0m\n",
      "\u001b[32m2025-04-12 09:43:01\u001b[0m | \u001b[31m\u001b[1mERROR   \u001b[0m | \u001b[36mstarfish.utils.job_manager\u001b[0m | \u001b[34mjob_manager.py:181\u001b[0m | \u001b[31m\u001b[1mError running task: 'function' object has no attribute 'SharedState'\u001b[0m\n",
      "\u001b[32m2025-04-12 09:43:01\u001b[0m | \u001b[31m\u001b[1mERROR   \u001b[0m | \u001b[36mstarfish.utils.task_runner\u001b[0m | \u001b[34mtask_runner.py:30\u001b[0m | \u001b[31m\u001b[1mTask execution failed after 1 retries\u001b[0m\n",
      "\u001b[32m2025-04-12 09:43:01\u001b[0m | \u001b[31m\u001b[1mERROR   \u001b[0m | \u001b[36mstarfish.utils.job_manager\u001b[0m | \u001b[34mjob_manager.py:181\u001b[0m | \u001b[31m\u001b[1mError running task: 'function' object has no attribute 'SharedState'\u001b[0m\n",
      "\u001b[32m2025-04-12 09:43:02\u001b[0m | \u001b[1mINFO    \u001b[0m | \u001b[36mstarfish.utils.job_manager\u001b[0m | \u001b[34mjob_manager.py:154\u001b[0m | \u001b[1mNo task to run, waiting for task to complete\u001b[0m\n",
      "\u001b[32m2025-04-12 09:43:03\u001b[0m | \u001b[1mINFO    \u001b[0m | \u001b[36mstarfish.utils.job_manager\u001b[0m | \u001b[34mjob_manager.py:154\u001b[0m | \u001b[1mNo task to run, waiting for task to complete\u001b[0m\n",
      "\u001b[32m2025-04-12 09:43:04\u001b[0m | \u001b[31m\u001b[1mERROR   \u001b[0m | \u001b[36mstarfish.utils.task_runner\u001b[0m | \u001b[34mtask_runner.py:30\u001b[0m | \u001b[31m\u001b[1mTask execution failed after 1 retries\u001b[0m\n",
      "\u001b[32m2025-04-12 09:43:04\u001b[0m | \u001b[31m\u001b[1mERROR   \u001b[0m | \u001b[36mstarfish.utils.job_manager\u001b[0m | \u001b[34mjob_manager.py:181\u001b[0m | \u001b[31m\u001b[1mError running task: 'function' object has no attribute 'SharedState'\u001b[0m\n",
      "\u001b[32m2025-04-12 09:43:04\u001b[0m | \u001b[31m\u001b[1mERROR   \u001b[0m | \u001b[36mstarfish.utils.task_runner\u001b[0m | \u001b[34mtask_runner.py:30\u001b[0m | \u001b[31m\u001b[1mTask execution failed after 1 retries\u001b[0m\n",
      "\u001b[32m2025-04-12 09:43:04\u001b[0m | \u001b[31m\u001b[1mERROR   \u001b[0m | \u001b[36mstarfish.utils.job_manager\u001b[0m | \u001b[34mjob_manager.py:181\u001b[0m | \u001b[31m\u001b[1mError running task: 'function' object has no attribute 'SharedState'\u001b[0m\n",
      "\u001b[32m2025-04-12 09:43:04\u001b[0m | \u001b[1mINFO    \u001b[0m | \u001b[36mstarfish.utils.job_manager\u001b[0m | \u001b[34mjob_manager.py:154\u001b[0m | \u001b[1mNo task to run, waiting for task to complete\u001b[0m\n",
      "\u001b[32m2025-04-12 09:43:05\u001b[0m | \u001b[1mINFO    \u001b[0m | \u001b[36mstarfish.utils.job_manager\u001b[0m | \u001b[34mjob_manager.py:154\u001b[0m | \u001b[1mNo task to run, waiting for task to complete\u001b[0m\n",
      "\u001b[32m2025-04-12 09:43:06\u001b[0m | \u001b[1mINFO    \u001b[0m | \u001b[36mstarfish.utils.job_manager\u001b[0m | \u001b[34mjob_manager.py:154\u001b[0m | \u001b[1mNo task to run, waiting for task to complete\u001b[0m\n",
      "\u001b[32m2025-04-12 09:43:06\u001b[0m | \u001b[31m\u001b[1mERROR   \u001b[0m | \u001b[36mstarfish.utils.task_runner\u001b[0m | \u001b[34mtask_runner.py:30\u001b[0m | \u001b[31m\u001b[1mTask execution failed after 1 retries\u001b[0m\n",
      "\u001b[32m2025-04-12 09:43:06\u001b[0m | \u001b[31m\u001b[1mERROR   \u001b[0m | \u001b[36mstarfish.utils.job_manager\u001b[0m | \u001b[34mjob_manager.py:181\u001b[0m | \u001b[31m\u001b[1mError running task: 'function' object has no attribute 'SharedState'\u001b[0m\n",
      "\u001b[32m2025-04-12 09:43:06\u001b[0m | \u001b[31m\u001b[1mERROR   \u001b[0m | \u001b[36mstarfish.utils.task_runner\u001b[0m | \u001b[34mtask_runner.py:30\u001b[0m | \u001b[31m\u001b[1mTask execution failed after 1 retries\u001b[0m\n",
      "\u001b[32m2025-04-12 09:43:06\u001b[0m | \u001b[31m\u001b[1mERROR   \u001b[0m | \u001b[36mstarfish.utils.job_manager\u001b[0m | \u001b[34mjob_manager.py:181\u001b[0m | \u001b[31m\u001b[1mError running task: 'function' object has no attribute 'SharedState'\u001b[0m\n",
      "\u001b[32m2025-04-12 09:43:06\u001b[0m | \u001b[1mINFO    \u001b[0m | \u001b[36mstarfish.utils.data_factory\u001b[0m | \u001b[34mdata_factory.py:258\u001b[0m | \u001b[1mMaster job d502bf41-b274-46eb-8d5b-04774eaa6dd4 as completed\u001b[0m\n"
     ]
    },
    {
     "data": {
      "text/html": [
       "<pre style=\"white-space:pre;overflow-x:auto;line-height:normal;font-family:Menlo,'DejaVu Sans Mono',consolas,'Courier New',monospace\">/Users/zhengisamazing/Library/Caches/pypoetry/virtualenvs/starfish-T7IInzTH-py3.11/lib/python3.11/site-packages/ric\n",
       "h/live.py:231: UserWarning: install \"ipywidgets\" for Jupyter support\n",
       "  warnings.warn('install \"ipywidgets\" for Jupyter support')\n",
       "</pre>\n"
      ],
      "text/plain": [
       "/Users/zhengisamazing/Library/Caches/pypoetry/virtualenvs/starfish-T7IInzTH-py3.11/lib/python3.11/site-packages/ric\n",
       "h/live.py:231: UserWarning: install \"ipywidgets\" for Jupyter support\n",
       "  warnings.warn('install \"ipywidgets\" for Jupyter support')\n"
      ]
     },
     "metadata": {},
     "output_type": "display_data"
    },
    {
     "data": {
      "text/html": [
       "<pre style=\"white-space:pre;overflow-x:auto;line-height:normal;font-family:Menlo,'DejaVu Sans Mono',consolas,'Courier New',monospace\"></pre>\n"
      ],
      "text/plain": []
     },
     "metadata": {},
     "output_type": "display_data"
    },
    {
     "ename": "KeyboardInterrupt",
     "evalue": "",
     "output_type": "error",
     "traceback": [
      "\u001b[31m---------------------------------------------------------------------------\u001b[39m",
      "\u001b[31mKeyboardInterrupt\u001b[39m                         Traceback (most recent call last)",
      "\u001b[36mCell\u001b[39m\u001b[36m \u001b[39m\u001b[32mIn[13]\u001b[39m\u001b[32m, line 11\u001b[39m\n\u001b[32m      8\u001b[39m     \u001b[38;5;28mprint\u001b[39m(\u001b[33mf\u001b[39m\u001b[33m\"\u001b[39m\u001b[33mChecking state: \u001b[39m\u001b[38;5;132;01m{\u001b[39;00mtest1.SharedState[\u001b[33m'\u001b[39m\u001b[33mvariable\u001b[39m\u001b[33m'\u001b[39m]\u001b[38;5;132;01m}\u001b[39;00m\u001b[33m\"\u001b[39m)\n\u001b[32m      9\u001b[39m     \u001b[38;5;28;01mreturn\u001b[39;00m \u001b[38;5;28;01mawait\u001b[39;00m mock_llm_call(city_name, num_records_per_city, fail_rate = fail_rate, sleep_time = sleep_time)\n\u001b[32m---> \u001b[39m\u001b[32m11\u001b[39m \u001b[43mtest1\u001b[49m\u001b[43m.\u001b[49m\u001b[43mrun\u001b[49m\u001b[43m(\u001b[49m\u001b[43mdata\u001b[49m\u001b[43m \u001b[49m\u001b[43m=\u001b[49m\u001b[43m \u001b[49m\u001b[43m[\u001b[49m\n\u001b[32m     12\u001b[39m \u001b[43m    \u001b[49m\u001b[43m{\u001b[49m\u001b[33;43m'\u001b[39;49m\u001b[33;43mcity_name\u001b[39;49m\u001b[33;43m'\u001b[39;49m\u001b[43m:\u001b[49m\u001b[43m \u001b[49m\u001b[33;43m'\u001b[39;49m\u001b[33;43m1. New York\u001b[39;49m\u001b[33;43m'\u001b[39;49m\u001b[43m}\u001b[49m\u001b[43m,\u001b[49m\n\u001b[32m     13\u001b[39m \u001b[43m    \u001b[49m\u001b[43m{\u001b[49m\u001b[33;43m'\u001b[39;49m\u001b[33;43mcity_name\u001b[39;49m\u001b[33;43m'\u001b[39;49m\u001b[43m:\u001b[49m\u001b[43m \u001b[49m\u001b[33;43m'\u001b[39;49m\u001b[33;43m2. Los Angeles\u001b[39;49m\u001b[33;43m'\u001b[39;49m\u001b[43m}\u001b[49m\u001b[43m,\u001b[49m\n\u001b[32m     14\u001b[39m \u001b[43m]\u001b[49m\u001b[43m,\u001b[49m\u001b[43m \u001b[49m\u001b[43mnum_records_per_city\u001b[49m\u001b[43m \u001b[49m\u001b[43m=\u001b[49m\u001b[43m \u001b[49m\u001b[32;43m1\u001b[39;49m\u001b[43m)\u001b[49m\n",
      "\u001b[36mFile \u001b[39m\u001b[32m~/1.python_dir/starfish/starfish/utils/data_factory.py:111\u001b[39m, in \u001b[36mDataFactory.__call__.<locals>.run\u001b[39m\u001b[34m(*args, **kwargs)\u001b[39m\n\u001b[32m    109\u001b[39m     \u001b[38;5;28mself\u001b[39m.master_job_id = kwargs[\u001b[33m'\u001b[39m\u001b[33mmaster_job_id\u001b[39m\u001b[33m'\u001b[39m]\n\u001b[32m    110\u001b[39m     \u001b[38;5;28mself\u001b[39m.job_config[RUN_MODE] = RUN_MODE_RE_RUN\n\u001b[32m--> \u001b[39m\u001b[32m111\u001b[39m \u001b[38;5;28;01mreturn\u001b[39;00m \u001b[43mwrapper\u001b[49m\u001b[43m(\u001b[49m\u001b[43m*\u001b[49m\u001b[43margs\u001b[49m\u001b[43m,\u001b[49m\u001b[43m \u001b[49m\u001b[43m*\u001b[49m\u001b[43m*\u001b[49m\u001b[43mkwargs\u001b[49m\u001b[43m)\u001b[49m\n",
      "\u001b[36mFile \u001b[39m\u001b[32m~/1.python_dir/starfish/starfish/utils/data_factory.py:96\u001b[39m, in \u001b[36mDataFactory.__call__.<locals>.wrapper\u001b[39m\u001b[34m(*args, **kwargs)\u001b[39m\n\u001b[32m     94\u001b[39m     \u001b[38;5;28mself\u001b[39m._init_progress_bar_update_job_config()\n\u001b[32m     95\u001b[39m     \u001b[38;5;28mself\u001b[39m.update_master_job_status()\n\u001b[32m---> \u001b[39m\u001b[32m96\u001b[39m \u001b[38;5;28;43mself\u001b[39;49m\u001b[43m.\u001b[49m\u001b[43m_process_batches\u001b[49m\u001b[43m(\u001b[49m\u001b[43m)\u001b[49m\n\u001b[32m     97\u001b[39m result = \u001b[38;5;28mself\u001b[39m._process_output()\n\u001b[32m     98\u001b[39m \u001b[38;5;28;01mreturn\u001b[39;00m result\n",
      "\u001b[36mFile \u001b[39m\u001b[32m~/1.python_dir/starfish/starfish/utils/data_factory.py:169\u001b[39m, in \u001b[36mDataFactory._process_batches\u001b[39m\u001b[34m(self)\u001b[39m\n\u001b[32m    166\u001b[39m \u001b[38;5;28;01mdef\u001b[39;00m\u001b[38;5;250m \u001b[39m\u001b[34m_process_batches\u001b[39m(\u001b[38;5;28mself\u001b[39m) -> List[Any]:\n\u001b[32m    167\u001b[39m \u001b[38;5;250m    \u001b[39m\u001b[33;03m\"\"\"Process batches with asyncio\"\"\"\u001b[39;00m\n\u001b[32m--> \u001b[39m\u001b[32m169\u001b[39m     \u001b[38;5;28;01mreturn\u001b[39;00m \u001b[38;5;28;43mself\u001b[39;49m\u001b[43m.\u001b[49m\u001b[43mjob_manager\u001b[49m\u001b[43m.\u001b[49m\u001b[43mrun_orchestration\u001b[49m\u001b[43m(\u001b[49m\u001b[43m)\u001b[49m\n",
      "\u001b[36mFile \u001b[39m\u001b[32m~/1.python_dir/starfish/starfish/utils/job_manager.py:117\u001b[39m, in \u001b[36mJobManager.run_orchestration\u001b[39m\u001b[34m(self)\u001b[39m\n\u001b[32m    115\u001b[39m     run_in_event_loop(\u001b[38;5;28mself\u001b[39m._async_run_orchestration())\n\u001b[32m    116\u001b[39m \u001b[38;5;28;01melse\u001b[39;00m:\n\u001b[32m--> \u001b[39m\u001b[32m117\u001b[39m     \u001b[43mrun_in_event_loop\u001b[49m\u001b[43m(\u001b[49m\u001b[38;5;28;43mself\u001b[39;49m\u001b[43m.\u001b[49m\u001b[43m_async_run_orchestration\u001b[49m\u001b[43m(\u001b[49m\u001b[43m)\u001b[49m\u001b[43m)\u001b[49m\n",
      "\u001b[36mFile \u001b[39m\u001b[32m~/1.python_dir/starfish/starfish/utils/event_loop.py:36\u001b[39m, in \u001b[36mrun_in_event_loop\u001b[39m\u001b[34m(coroutine)\u001b[39m\n\u001b[32m     31\u001b[39m     \u001b[38;5;66;03m# If there is an event loop running (the call\u001b[39;00m\n\u001b[32m     32\u001b[39m     \u001b[38;5;66;03m# above doesn't raise an exception), we can\u001b[39;00m\n\u001b[32m     33\u001b[39m     \u001b[38;5;66;03m# use nest_asyncio to patch the event loop.\u001b[39;00m\n\u001b[32m     34\u001b[39m     nest_asyncio.apply()\n\u001b[32m---> \u001b[39m\u001b[32m36\u001b[39m     \u001b[38;5;28;01mreturn\u001b[39;00m \u001b[43masyncio\u001b[49m\u001b[43m.\u001b[49m\u001b[43mrun\u001b[49m\u001b[43m(\u001b[49m\u001b[43mcoroutine\u001b[49m\u001b[43m)\u001b[49m\n\u001b[32m     37\u001b[39m \u001b[38;5;28;01mexcept\u001b[39;00m \u001b[38;5;167;01mRuntimeError\u001b[39;00m:\n\u001b[32m     38\u001b[39m     \u001b[38;5;66;03m# Explicitly pass, since we want to fallback to asyncio.run\u001b[39;00m\n\u001b[32m     39\u001b[39m     \u001b[38;5;28;01mpass\u001b[39;00m\n",
      "\u001b[36mFile \u001b[39m\u001b[32m~/Library/Caches/pypoetry/virtualenvs/starfish-T7IInzTH-py3.11/lib/python3.11/site-packages/nest_asyncio.py:30\u001b[39m, in \u001b[36m_patch_asyncio.<locals>.run\u001b[39m\u001b[34m(main, debug)\u001b[39m\n\u001b[32m     28\u001b[39m task = asyncio.ensure_future(main)\n\u001b[32m     29\u001b[39m \u001b[38;5;28;01mtry\u001b[39;00m:\n\u001b[32m---> \u001b[39m\u001b[32m30\u001b[39m     \u001b[38;5;28;01mreturn\u001b[39;00m \u001b[43mloop\u001b[49m\u001b[43m.\u001b[49m\u001b[43mrun_until_complete\u001b[49m\u001b[43m(\u001b[49m\u001b[43mtask\u001b[49m\u001b[43m)\u001b[49m\n\u001b[32m     31\u001b[39m \u001b[38;5;28;01mfinally\u001b[39;00m:\n\u001b[32m     32\u001b[39m     \u001b[38;5;28;01mif\u001b[39;00m \u001b[38;5;129;01mnot\u001b[39;00m task.done():\n",
      "\u001b[36mFile \u001b[39m\u001b[32m~/Library/Caches/pypoetry/virtualenvs/starfish-T7IInzTH-py3.11/lib/python3.11/site-packages/nest_asyncio.py:92\u001b[39m, in \u001b[36m_patch_loop.<locals>.run_until_complete\u001b[39m\u001b[34m(self, future)\u001b[39m\n\u001b[32m     90\u001b[39m     f._log_destroy_pending = \u001b[38;5;28;01mFalse\u001b[39;00m\n\u001b[32m     91\u001b[39m \u001b[38;5;28;01mwhile\u001b[39;00m \u001b[38;5;129;01mnot\u001b[39;00m f.done():\n\u001b[32m---> \u001b[39m\u001b[32m92\u001b[39m     \u001b[38;5;28;43mself\u001b[39;49m\u001b[43m.\u001b[49m\u001b[43m_run_once\u001b[49m\u001b[43m(\u001b[49m\u001b[43m)\u001b[49m\n\u001b[32m     93\u001b[39m     \u001b[38;5;28;01mif\u001b[39;00m \u001b[38;5;28mself\u001b[39m._stopping:\n\u001b[32m     94\u001b[39m         \u001b[38;5;28;01mbreak\u001b[39;00m\n",
      "\u001b[36mFile \u001b[39m\u001b[32m~/Library/Caches/pypoetry/virtualenvs/starfish-T7IInzTH-py3.11/lib/python3.11/site-packages/nest_asyncio.py:115\u001b[39m, in \u001b[36m_patch_loop.<locals>._run_once\u001b[39m\u001b[34m(self)\u001b[39m\n\u001b[32m    108\u001b[39m     heappop(scheduled)\n\u001b[32m    110\u001b[39m timeout = (\n\u001b[32m    111\u001b[39m     \u001b[32m0\u001b[39m \u001b[38;5;28;01mif\u001b[39;00m ready \u001b[38;5;129;01mor\u001b[39;00m \u001b[38;5;28mself\u001b[39m._stopping\n\u001b[32m    112\u001b[39m     \u001b[38;5;28;01melse\u001b[39;00m \u001b[38;5;28mmin\u001b[39m(\u001b[38;5;28mmax\u001b[39m(\n\u001b[32m    113\u001b[39m         scheduled[\u001b[32m0\u001b[39m]._when - \u001b[38;5;28mself\u001b[39m.time(), \u001b[32m0\u001b[39m), \u001b[32m86400\u001b[39m) \u001b[38;5;28;01mif\u001b[39;00m scheduled\n\u001b[32m    114\u001b[39m     \u001b[38;5;28;01melse\u001b[39;00m \u001b[38;5;28;01mNone\u001b[39;00m)\n\u001b[32m--> \u001b[39m\u001b[32m115\u001b[39m event_list = \u001b[38;5;28;43mself\u001b[39;49m\u001b[43m.\u001b[49m\u001b[43m_selector\u001b[49m\u001b[43m.\u001b[49m\u001b[43mselect\u001b[49m\u001b[43m(\u001b[49m\u001b[43mtimeout\u001b[49m\u001b[43m)\u001b[49m\n\u001b[32m    116\u001b[39m \u001b[38;5;28mself\u001b[39m._process_events(event_list)\n\u001b[32m    118\u001b[39m end_time = \u001b[38;5;28mself\u001b[39m.time() + \u001b[38;5;28mself\u001b[39m._clock_resolution\n",
      "\u001b[36mFile \u001b[39m\u001b[32m~/.pyenv/versions/3.11.7/lib/python3.11/selectors.py:566\u001b[39m, in \u001b[36mKqueueSelector.select\u001b[39m\u001b[34m(self, timeout)\u001b[39m\n\u001b[32m    564\u001b[39m ready = []\n\u001b[32m    565\u001b[39m \u001b[38;5;28;01mtry\u001b[39;00m:\n\u001b[32m--> \u001b[39m\u001b[32m566\u001b[39m     kev_list = \u001b[38;5;28mself\u001b[39m._selector.control(\u001b[38;5;28;01mNone\u001b[39;00m, max_ev, timeout)\n\u001b[32m    567\u001b[39m \u001b[38;5;28;01mexcept\u001b[39;00m \u001b[38;5;167;01mInterruptedError\u001b[39;00m:\n\u001b[32m    568\u001b[39m     \u001b[38;5;28;01mreturn\u001b[39;00m ready\n",
      "\u001b[31mKeyboardInterrupt\u001b[39m: "
     ]
    }
   ],
   "source": [
    "\n",
    "def test_hook(data, SharedState):\n",
    "    SharedState['variable'] =  f'changed_state - {data}'\n",
    "    return SharedState\n",
    "\n",
    "\n",
    "@data_factory(max_concurrency=2, on_record_complete=[test_hook], initial_state_values = {'variable': 'initial_state'})\n",
    "async def test1(city_name, num_records_per_city, fail_rate = 0.1, sleep_time = 0.05):\n",
    "    print(f\"Checking state: {test1.SharedState['variable']}\")\n",
    "    return await mock_llm_call(city_name, num_records_per_city, fail_rate = fail_rate, sleep_time = sleep_time)\n",
    "\n",
    "test1.run(data = [\n",
    "    {'city_name': '1. New York'},\n",
    "    {'city_name': '2. Los Angeles'},\n",
    "], num_records_per_city = 1)"
   ]
  },
  {
   "cell_type": "code",
   "execution_count": null,
   "metadata": {},
   "outputs": [],
   "source": []
  }
 ],
 "metadata": {
  "kernelspec": {
   "display_name": ".venv",
   "language": "python",
   "name": "python3"
  },
  "language_info": {
   "codemirror_mode": {
    "name": "ipython",
    "version": 3
   },
   "file_extension": ".py",
   "mimetype": "text/x-python",
   "name": "python",
   "nbconvert_exporter": "python",
   "pygments_lexer": "ipython3",
   "version": "3.11.7"
  }
 },
 "nbformat": 4,
 "nbformat_minor": 2
}
